{
 "cells": [
  {
   "cell_type": "markdown",
   "metadata": {
    "button": false,
    "new_sheet": false,
    "run_control": {
     "read_only": false
    }
   },
   "source": [
    "# <img style=\"float: left; padding-right: 10px; width: 45px\" src=\"https://raw.githubusercontent.com/Harvard-IACS/2018-CS109A/master/content/styles/iacs.png\"> CS-S109A Introduction to Data Science \n",
    "\n",
    "## Homework 3:  Regularization, Cross-Validation, and Logistic Regression \n",
    "\n",
    "**Harvard University**<br/>\n",
    "**Summer 2020**<br/>\n",
    "**Instructors**: Kevin Rader\n",
    "\n",
    "\n",
    "<hr style='height:2px'>\n",
    "\n",
    "---\n",
    "\n"
   ]
  },
  {
   "cell_type": "code",
   "execution_count": 1,
   "metadata": {},
   "outputs": [],
   "source": [
    "## RUN THIS CELL TO GET THE RIGHT FORMATTING \n",
    "import requests\n",
    "from IPython.core.display import HTML\n",
    "styles = requests.get(\"https://raw.githubusercontent.com/Harvard-IACS/2018-CS109A/master/content/styles/cs109.css\").text\n",
    "HTML(styles)\n",
    "\n",
    "import warnings\n",
    "warnings.filterwarnings('ignore')"
   ]
  },
  {
   "cell_type": "markdown",
   "metadata": {},
   "source": [
    "### INSTRUCTIONS\n",
    "\n",
    "- To submit your assignment follow the instructions given in Canvas.\n",
    "- Restart the kernel and run the whole notebook again before you submit. \n",
    "- If you submit individually and you have worked with someone, please include the name of your [one] partner below. \n",
    "- As much as possible, try and stick to the hints and functions we import at the top of the homework, as those are the ideas and tools the class supports and is aiming to teach. And if a problem specifies a particular library you're required to use that library, and possibly others from the import list.\n",
    "- Please use .head() when viewing data. Do not submit a notebook that is excessively long because output was not suppressed or otherwise limited. "
   ]
  },
  {
   "cell_type": "markdown",
   "metadata": {},
   "source": [
    "<hr style=\"height:2pt\">"
   ]
  },
  {
   "cell_type": "code",
   "execution_count": 2,
   "metadata": {
    "scrolled": true
   },
   "outputs": [],
   "source": [
    "import numpy as np\n",
    "import pandas as pd\n",
    "import sklearn as sk\n",
    "import matplotlib\n",
    "import matplotlib.pyplot as plt\n",
    "from sklearn.metrics import r2_score\n",
    "from sklearn.neighbors import KNeighborsRegressor\n",
    "from sklearn.linear_model import LinearRegression\n",
    "from sklearn.model_selection import train_test_split\n",
    "import statsmodels.api as sm\n",
    "from statsmodels.api import OLS\n",
    "%matplotlib inline"
   ]
  },
  {
   "cell_type": "markdown",
   "metadata": {
    "button": false,
    "new_sheet": false,
    "run_control": {
     "read_only": false
    }
   },
   "source": [
    "<hr style=\"height:2pt\">"
   ]
  },
  {
   "cell_type": "markdown",
   "metadata": {
    "run_control": {}
   },
   "source": [
    "![bike_sharing](fig/BSS.png)\n",
    "\n",
    "<div class=\"theme\">  Main Theme: Multiple Linear Regression, Polynomial Regression, Ridge and Lasso Regression </div>\n",
    "\n",
    "### Overview \n",
    "\n",
    "You are hired by the administrators of the [Capital Bikeshare program](https://www.capitalbikeshare.com) program in Washington D.C., to **help them predict the hourly demand for rental bikes** and **give them suggestions on how to increase their revenue**. Your task is to prepare a short report summarizing your findings and make recommendations.\n",
    "\n",
    "The predicted hourly demand could be used for planning the number of bikes that need to be available in the system at any given hour of the day. It costs the program money if bike stations are full and bikes cannot be returned, or empty and there are no bikes available. You will use multiple linear regression and polynomial regression and will explore ridge and lasso regression to predict bike usage. The goal is to build a regression model that can predict the total number of bike rentals in a given hour of the day, based on all available information given to you. \n",
    "\n",
    "An example of a suggestion to increase revenue might be to offer discounts during certain times of the day either during holidays or non-holidays. Your suggestions will depend on your observations of the seasonality of ridership.\n",
    "\n",
    "The data for this problem were collected from the Capital Bikeshare program over the course of two years (2011 and 2012).\n",
    "\n"
   ]
  },
  {
   "cell_type": "markdown",
   "metadata": {
    "run_control": {}
   },
   "source": [
    "### Use only the libraries below:"
   ]
  },
  {
   "cell_type": "code",
   "execution_count": 3,
   "metadata": {
    "button": false,
    "new_sheet": false,
    "run_control": {
     "read_only": false
    }
   },
   "outputs": [],
   "source": [
    "import numpy as np\n",
    "import pandas as pd\n",
    "import matplotlib\n",
    "import matplotlib.pyplot as plt\n",
    "\n",
    "import statsmodels.api as sm\n",
    "from statsmodels.api import OLS\n",
    "\n",
    "from sklearn.model_selection import train_test_split\n",
    "from sklearn.preprocessing import PolynomialFeatures\n",
    "from sklearn.preprocessing import StandardScaler\n",
    "from sklearn.linear_model import LinearRegression\n",
    "from sklearn.linear_model import Ridge\n",
    "from sklearn.linear_model import RidgeCV\n",
    "from sklearn.linear_model import LassoCV\n",
    "from sklearn.metrics import r2_score\n",
    "\n",
    "from pandas.plotting import scatter_matrix"
   ]
  },
  {
   "cell_type": "markdown",
   "metadata": {
    "run_control": {}
   },
   "source": [
    "### Overview\n",
    "The initial data set is provided in the file `data/BSS_hour_raw.csv`. You will first add features that will help with the analysis and then separate the data into training and test sets. Each row in this file represents the number of rides by registered users and casual users in a given hour of a specific date. There are 12 attributes in total describing besides the number of users the weather if it is a holiday or not etc: \n",
    "\n",
    "\n",
    "- `dteday` (date in the format YYYY-MM-DD, e.g. 2011-01-01)\n",
    "- `season` (1 = winter, 2 = spring, 3 = summer, 4 = fall)\n",
    "- `hour` (0 for 12 midnight, 1 for 1:00am, 23 for 11:00pm)\n",
    "- `weekday` (0 through 6, with 0 denoting Sunday)\n",
    "- `holiday` (1 = the day is a holiday, 0 = otherwise)\n",
    "- `weather`\n",
    "    - 1: Clear, Few clouds, Partly cloudy, Partly cloudy\n",
    "    - 2: Mist + Cloudy, Mist + Broken clouds, Mist + Few clouds, Mist\n",
    "    - 3: Light Snow, Light Rain + Thunderstorm\n",
    "    - 4: Heavy Rain + Thunderstorm + Mist, Snow + Fog \n",
    "- `temp` (temperature in Celsius, normalized)\n",
    "- `atemp` (apparent temperature, or relative outdoor temperature, in Celsius, normalized)\n",
    "- `hum` (relative humidity, normalized)\n",
    "- `windspeed` (wind speed, normalized)\n",
    "- `casual` (number of rides that day made by casual riders, not registered in the system)\n",
    "- `registered` (number of rides that day made by registered riders)"
   ]
  },
  {
   "cell_type": "markdown",
   "metadata": {
    "button": false,
    "new_sheet": false,
    "run_control": {
     "read_only": false
    }
   },
   "source": [
    "<div class=\"exercise\"> <b> Question 1 [6pts]: Data Read-In and Processing </b> </div>\n",
    "\n",
    "In this section, we read in the data and begin one of the most important analytic steps: verifying that the data is what it claims to be.\n",
    "\n",
    "**1.1** Load the dataset from the csv file `data/BSS_hour_raw.csv` into a pandas dataframe that you name `bikes_df_raw`. Do any of the variables' ranges or averages seem suspect? Do the data types make sense?\n",
    "\n",
    "**1.2** Notice that the variable in column `dteday` is a pandas `object`, which is **not**  useful when you want to extract the elements of the date such as the year, month, and day. Convert `dteday` into a `datetime` object to prepare it for later analysis.\n",
    "\n",
    "**Hint:** http://pandas.pydata.org/pandas-docs/stable/generated/pandas.to_datetime.html\n",
    "\n",
    "**1.3** Create three new columns in the dataframe:\n",
    "- `year` with 0 for 2011, 1 for 2012, etc.\n",
    "- `month` with 1 through 12, with 1 denoting January.\n",
    "- `counts` with the total number of bike rentals for that **hour** (this is the response variable for later)."
   ]
  },
  {
   "cell_type": "markdown",
   "metadata": {
    "button": false,
    "new_sheet": false,
    "run_control": {
     "read_only": false
    }
   },
   "source": [
    "### Answers"
   ]
  },
  {
   "cell_type": "markdown",
   "metadata": {
    "button": false,
    "new_sheet": false,
    "run_control": {
     "read_only": false
    }
   },
   "source": [
    "**1.1 Load the dataset from the csv file...**"
   ]
  },
  {
   "cell_type": "code",
   "execution_count": 4,
   "metadata": {
    "button": false,
    "new_sheet": false,
    "run_control": {
     "read_only": false
    }
   },
   "outputs": [
    {
     "data": {
      "text/html": [
       "<div>\n",
       "<style scoped>\n",
       "    .dataframe tbody tr th:only-of-type {\n",
       "        vertical-align: middle;\n",
       "    }\n",
       "\n",
       "    .dataframe tbody tr th {\n",
       "        vertical-align: top;\n",
       "    }\n",
       "\n",
       "    .dataframe thead th {\n",
       "        text-align: right;\n",
       "    }\n",
       "</style>\n",
       "<table border=\"1\" class=\"dataframe\">\n",
       "  <thead>\n",
       "    <tr style=\"text-align: right;\">\n",
       "      <th></th>\n",
       "      <th>dteday</th>\n",
       "      <th>season</th>\n",
       "      <th>hour</th>\n",
       "      <th>holiday</th>\n",
       "      <th>weekday</th>\n",
       "      <th>workingday</th>\n",
       "      <th>weather</th>\n",
       "      <th>temp</th>\n",
       "      <th>atemp</th>\n",
       "      <th>hum</th>\n",
       "      <th>windspeed</th>\n",
       "      <th>casual</th>\n",
       "      <th>registered</th>\n",
       "    </tr>\n",
       "  </thead>\n",
       "  <tbody>\n",
       "    <tr>\n",
       "      <th>0</th>\n",
       "      <td>2011-01-01</td>\n",
       "      <td>1</td>\n",
       "      <td>0</td>\n",
       "      <td>0</td>\n",
       "      <td>6</td>\n",
       "      <td>0</td>\n",
       "      <td>1</td>\n",
       "      <td>0.24</td>\n",
       "      <td>0.2879</td>\n",
       "      <td>0.81</td>\n",
       "      <td>0.0</td>\n",
       "      <td>3</td>\n",
       "      <td>13</td>\n",
       "    </tr>\n",
       "    <tr>\n",
       "      <th>1</th>\n",
       "      <td>2011-01-01</td>\n",
       "      <td>1</td>\n",
       "      <td>1</td>\n",
       "      <td>0</td>\n",
       "      <td>6</td>\n",
       "      <td>0</td>\n",
       "      <td>1</td>\n",
       "      <td>0.22</td>\n",
       "      <td>0.2727</td>\n",
       "      <td>0.80</td>\n",
       "      <td>0.0</td>\n",
       "      <td>8</td>\n",
       "      <td>32</td>\n",
       "    </tr>\n",
       "    <tr>\n",
       "      <th>2</th>\n",
       "      <td>2011-01-01</td>\n",
       "      <td>1</td>\n",
       "      <td>2</td>\n",
       "      <td>0</td>\n",
       "      <td>6</td>\n",
       "      <td>0</td>\n",
       "      <td>1</td>\n",
       "      <td>0.22</td>\n",
       "      <td>0.2727</td>\n",
       "      <td>0.80</td>\n",
       "      <td>0.0</td>\n",
       "      <td>5</td>\n",
       "      <td>27</td>\n",
       "    </tr>\n",
       "    <tr>\n",
       "      <th>3</th>\n",
       "      <td>2011-01-01</td>\n",
       "      <td>1</td>\n",
       "      <td>3</td>\n",
       "      <td>0</td>\n",
       "      <td>6</td>\n",
       "      <td>0</td>\n",
       "      <td>1</td>\n",
       "      <td>0.24</td>\n",
       "      <td>0.2879</td>\n",
       "      <td>0.75</td>\n",
       "      <td>0.0</td>\n",
       "      <td>3</td>\n",
       "      <td>10</td>\n",
       "    </tr>\n",
       "    <tr>\n",
       "      <th>4</th>\n",
       "      <td>2011-01-01</td>\n",
       "      <td>1</td>\n",
       "      <td>4</td>\n",
       "      <td>0</td>\n",
       "      <td>6</td>\n",
       "      <td>0</td>\n",
       "      <td>1</td>\n",
       "      <td>0.24</td>\n",
       "      <td>0.2879</td>\n",
       "      <td>0.75</td>\n",
       "      <td>0.0</td>\n",
       "      <td>0</td>\n",
       "      <td>1</td>\n",
       "    </tr>\n",
       "  </tbody>\n",
       "</table>\n",
       "</div>"
      ],
      "text/plain": [
       "       dteday  season  hour  holiday  weekday  workingday  weather  temp  \\\n",
       "0  2011-01-01       1     0        0        6           0        1  0.24   \n",
       "1  2011-01-01       1     1        0        6           0        1  0.22   \n",
       "2  2011-01-01       1     2        0        6           0        1  0.22   \n",
       "3  2011-01-01       1     3        0        6           0        1  0.24   \n",
       "4  2011-01-01       1     4        0        6           0        1  0.24   \n",
       "\n",
       "    atemp   hum  windspeed  casual  registered  \n",
       "0  0.2879  0.81        0.0       3          13  \n",
       "1  0.2727  0.80        0.0       8          32  \n",
       "2  0.2727  0.80        0.0       5          27  \n",
       "3  0.2879  0.75        0.0       3          10  \n",
       "4  0.2879  0.75        0.0       0           1  "
      ]
     },
     "execution_count": 4,
     "metadata": {},
     "output_type": "execute_result"
    }
   ],
   "source": [
    "######\n",
    "# your code here\n",
    "######\n",
    "bikes_df_raw = pd.read_csv(\"data/BSS_hour_raw.csv\")\n",
    "bikes_df_raw.head()"
   ]
  },
  {
   "cell_type": "code",
   "execution_count": 5,
   "metadata": {},
   "outputs": [
    {
     "data": {
      "text/html": [
       "<div>\n",
       "<style scoped>\n",
       "    .dataframe tbody tr th:only-of-type {\n",
       "        vertical-align: middle;\n",
       "    }\n",
       "\n",
       "    .dataframe tbody tr th {\n",
       "        vertical-align: top;\n",
       "    }\n",
       "\n",
       "    .dataframe thead th {\n",
       "        text-align: right;\n",
       "    }\n",
       "</style>\n",
       "<table border=\"1\" class=\"dataframe\">\n",
       "  <thead>\n",
       "    <tr style=\"text-align: right;\">\n",
       "      <th></th>\n",
       "      <th>season</th>\n",
       "      <th>hour</th>\n",
       "      <th>holiday</th>\n",
       "      <th>weekday</th>\n",
       "      <th>workingday</th>\n",
       "      <th>weather</th>\n",
       "      <th>temp</th>\n",
       "      <th>atemp</th>\n",
       "      <th>hum</th>\n",
       "      <th>windspeed</th>\n",
       "      <th>casual</th>\n",
       "      <th>registered</th>\n",
       "    </tr>\n",
       "  </thead>\n",
       "  <tbody>\n",
       "    <tr>\n",
       "      <th>count</th>\n",
       "      <td>17379.000000</td>\n",
       "      <td>17379.000000</td>\n",
       "      <td>17379.000000</td>\n",
       "      <td>17379.000000</td>\n",
       "      <td>17379.000000</td>\n",
       "      <td>17379.000000</td>\n",
       "      <td>17379.000000</td>\n",
       "      <td>17379.000000</td>\n",
       "      <td>17379.000000</td>\n",
       "      <td>17379.000000</td>\n",
       "      <td>17379.000000</td>\n",
       "      <td>17379.000000</td>\n",
       "    </tr>\n",
       "    <tr>\n",
       "      <th>mean</th>\n",
       "      <td>2.501640</td>\n",
       "      <td>11.546752</td>\n",
       "      <td>0.028770</td>\n",
       "      <td>3.003683</td>\n",
       "      <td>0.682721</td>\n",
       "      <td>1.425283</td>\n",
       "      <td>0.496987</td>\n",
       "      <td>0.475775</td>\n",
       "      <td>0.627229</td>\n",
       "      <td>0.190098</td>\n",
       "      <td>35.676218</td>\n",
       "      <td>153.786869</td>\n",
       "    </tr>\n",
       "    <tr>\n",
       "      <th>std</th>\n",
       "      <td>1.106918</td>\n",
       "      <td>6.914405</td>\n",
       "      <td>0.167165</td>\n",
       "      <td>2.005771</td>\n",
       "      <td>0.465431</td>\n",
       "      <td>0.639357</td>\n",
       "      <td>0.192556</td>\n",
       "      <td>0.171850</td>\n",
       "      <td>0.192930</td>\n",
       "      <td>0.122340</td>\n",
       "      <td>49.305030</td>\n",
       "      <td>151.357286</td>\n",
       "    </tr>\n",
       "    <tr>\n",
       "      <th>min</th>\n",
       "      <td>1.000000</td>\n",
       "      <td>0.000000</td>\n",
       "      <td>0.000000</td>\n",
       "      <td>0.000000</td>\n",
       "      <td>0.000000</td>\n",
       "      <td>1.000000</td>\n",
       "      <td>0.020000</td>\n",
       "      <td>0.000000</td>\n",
       "      <td>0.000000</td>\n",
       "      <td>0.000000</td>\n",
       "      <td>0.000000</td>\n",
       "      <td>0.000000</td>\n",
       "    </tr>\n",
       "    <tr>\n",
       "      <th>25%</th>\n",
       "      <td>2.000000</td>\n",
       "      <td>6.000000</td>\n",
       "      <td>0.000000</td>\n",
       "      <td>1.000000</td>\n",
       "      <td>0.000000</td>\n",
       "      <td>1.000000</td>\n",
       "      <td>0.340000</td>\n",
       "      <td>0.333300</td>\n",
       "      <td>0.480000</td>\n",
       "      <td>0.104500</td>\n",
       "      <td>4.000000</td>\n",
       "      <td>34.000000</td>\n",
       "    </tr>\n",
       "    <tr>\n",
       "      <th>50%</th>\n",
       "      <td>3.000000</td>\n",
       "      <td>12.000000</td>\n",
       "      <td>0.000000</td>\n",
       "      <td>3.000000</td>\n",
       "      <td>1.000000</td>\n",
       "      <td>1.000000</td>\n",
       "      <td>0.500000</td>\n",
       "      <td>0.484800</td>\n",
       "      <td>0.630000</td>\n",
       "      <td>0.194000</td>\n",
       "      <td>17.000000</td>\n",
       "      <td>115.000000</td>\n",
       "    </tr>\n",
       "    <tr>\n",
       "      <th>75%</th>\n",
       "      <td>3.000000</td>\n",
       "      <td>18.000000</td>\n",
       "      <td>0.000000</td>\n",
       "      <td>5.000000</td>\n",
       "      <td>1.000000</td>\n",
       "      <td>2.000000</td>\n",
       "      <td>0.660000</td>\n",
       "      <td>0.621200</td>\n",
       "      <td>0.780000</td>\n",
       "      <td>0.253700</td>\n",
       "      <td>48.000000</td>\n",
       "      <td>220.000000</td>\n",
       "    </tr>\n",
       "    <tr>\n",
       "      <th>max</th>\n",
       "      <td>4.000000</td>\n",
       "      <td>23.000000</td>\n",
       "      <td>1.000000</td>\n",
       "      <td>6.000000</td>\n",
       "      <td>1.000000</td>\n",
       "      <td>4.000000</td>\n",
       "      <td>1.000000</td>\n",
       "      <td>1.000000</td>\n",
       "      <td>1.000000</td>\n",
       "      <td>0.850700</td>\n",
       "      <td>367.000000</td>\n",
       "      <td>886.000000</td>\n",
       "    </tr>\n",
       "  </tbody>\n",
       "</table>\n",
       "</div>"
      ],
      "text/plain": [
       "             season          hour       holiday       weekday    workingday  \\\n",
       "count  17379.000000  17379.000000  17379.000000  17379.000000  17379.000000   \n",
       "mean       2.501640     11.546752      0.028770      3.003683      0.682721   \n",
       "std        1.106918      6.914405      0.167165      2.005771      0.465431   \n",
       "min        1.000000      0.000000      0.000000      0.000000      0.000000   \n",
       "25%        2.000000      6.000000      0.000000      1.000000      0.000000   \n",
       "50%        3.000000     12.000000      0.000000      3.000000      1.000000   \n",
       "75%        3.000000     18.000000      0.000000      5.000000      1.000000   \n",
       "max        4.000000     23.000000      1.000000      6.000000      1.000000   \n",
       "\n",
       "            weather          temp         atemp           hum     windspeed  \\\n",
       "count  17379.000000  17379.000000  17379.000000  17379.000000  17379.000000   \n",
       "mean       1.425283      0.496987      0.475775      0.627229      0.190098   \n",
       "std        0.639357      0.192556      0.171850      0.192930      0.122340   \n",
       "min        1.000000      0.020000      0.000000      0.000000      0.000000   \n",
       "25%        1.000000      0.340000      0.333300      0.480000      0.104500   \n",
       "50%        1.000000      0.500000      0.484800      0.630000      0.194000   \n",
       "75%        2.000000      0.660000      0.621200      0.780000      0.253700   \n",
       "max        4.000000      1.000000      1.000000      1.000000      0.850700   \n",
       "\n",
       "             casual    registered  \n",
       "count  17379.000000  17379.000000  \n",
       "mean      35.676218    153.786869  \n",
       "std       49.305030    151.357286  \n",
       "min        0.000000      0.000000  \n",
       "25%        4.000000     34.000000  \n",
       "50%       17.000000    115.000000  \n",
       "75%       48.000000    220.000000  \n",
       "max      367.000000    886.000000  "
      ]
     },
     "execution_count": 5,
     "metadata": {},
     "output_type": "execute_result"
    }
   ],
   "source": [
    "bikes_df_raw.describe()"
   ]
  },
  {
   "cell_type": "code",
   "execution_count": 6,
   "metadata": {
    "scrolled": true
   },
   "outputs": [
    {
     "data": {
      "text/plain": [
       "dteday         object\n",
       "season          int64\n",
       "hour            int64\n",
       "holiday         int64\n",
       "weekday         int64\n",
       "workingday      int64\n",
       "weather         int64\n",
       "temp          float64\n",
       "atemp         float64\n",
       "hum           float64\n",
       "windspeed     float64\n",
       "casual          int64\n",
       "registered      int64\n",
       "dtype: object"
      ]
     },
     "execution_count": 6,
     "metadata": {},
     "output_type": "execute_result"
    }
   ],
   "source": [
    "bikes_df_raw.dtypes"
   ]
  },
  {
   "cell_type": "markdown",
   "metadata": {},
   "source": [
    "The dtypes of the variables `season`, `hour`, `holiday`, `weekday`, `workingday`, and `weather`are not appropriate because these variables are categorical. However, not all of these categorical data types are the same. In particular, `weather` can be treated as an ordered categorical data type that represents the severity of the weather. "
   ]
  },
  {
   "cell_type": "markdown",
   "metadata": {
    "button": false,
    "new_sheet": false,
    "run_control": {
     "read_only": false
    }
   },
   "source": [
    "**1.2 Notice that the variable in column...**"
   ]
  },
  {
   "cell_type": "code",
   "execution_count": 7,
   "metadata": {
    "button": false,
    "new_sheet": false,
    "run_control": {
     "read_only": false
    },
    "scrolled": true
   },
   "outputs": [],
   "source": [
    "######\n",
    "# your code here\n",
    "######\n",
    "\n",
    "bikes_df_raw['dteday'] = pd.to_datetime(bikes_df_raw['dteday'], format='%Y/%m/%d')"
   ]
  },
  {
   "cell_type": "code",
   "execution_count": 8,
   "metadata": {},
   "outputs": [
    {
     "data": {
      "text/html": [
       "<div>\n",
       "<style scoped>\n",
       "    .dataframe tbody tr th:only-of-type {\n",
       "        vertical-align: middle;\n",
       "    }\n",
       "\n",
       "    .dataframe tbody tr th {\n",
       "        vertical-align: top;\n",
       "    }\n",
       "\n",
       "    .dataframe thead th {\n",
       "        text-align: right;\n",
       "    }\n",
       "</style>\n",
       "<table border=\"1\" class=\"dataframe\">\n",
       "  <thead>\n",
       "    <tr style=\"text-align: right;\">\n",
       "      <th></th>\n",
       "      <th>dteday</th>\n",
       "      <th>season</th>\n",
       "      <th>hour</th>\n",
       "      <th>holiday</th>\n",
       "      <th>weekday</th>\n",
       "      <th>workingday</th>\n",
       "      <th>weather</th>\n",
       "      <th>temp</th>\n",
       "      <th>atemp</th>\n",
       "      <th>hum</th>\n",
       "      <th>windspeed</th>\n",
       "      <th>casual</th>\n",
       "      <th>registered</th>\n",
       "    </tr>\n",
       "  </thead>\n",
       "  <tbody>\n",
       "    <tr>\n",
       "      <th>0</th>\n",
       "      <td>2011-01-01</td>\n",
       "      <td>1</td>\n",
       "      <td>0</td>\n",
       "      <td>0</td>\n",
       "      <td>6</td>\n",
       "      <td>0</td>\n",
       "      <td>1</td>\n",
       "      <td>0.24</td>\n",
       "      <td>0.2879</td>\n",
       "      <td>0.81</td>\n",
       "      <td>0.0</td>\n",
       "      <td>3</td>\n",
       "      <td>13</td>\n",
       "    </tr>\n",
       "    <tr>\n",
       "      <th>1</th>\n",
       "      <td>2011-01-01</td>\n",
       "      <td>1</td>\n",
       "      <td>1</td>\n",
       "      <td>0</td>\n",
       "      <td>6</td>\n",
       "      <td>0</td>\n",
       "      <td>1</td>\n",
       "      <td>0.22</td>\n",
       "      <td>0.2727</td>\n",
       "      <td>0.80</td>\n",
       "      <td>0.0</td>\n",
       "      <td>8</td>\n",
       "      <td>32</td>\n",
       "    </tr>\n",
       "    <tr>\n",
       "      <th>2</th>\n",
       "      <td>2011-01-01</td>\n",
       "      <td>1</td>\n",
       "      <td>2</td>\n",
       "      <td>0</td>\n",
       "      <td>6</td>\n",
       "      <td>0</td>\n",
       "      <td>1</td>\n",
       "      <td>0.22</td>\n",
       "      <td>0.2727</td>\n",
       "      <td>0.80</td>\n",
       "      <td>0.0</td>\n",
       "      <td>5</td>\n",
       "      <td>27</td>\n",
       "    </tr>\n",
       "    <tr>\n",
       "      <th>3</th>\n",
       "      <td>2011-01-01</td>\n",
       "      <td>1</td>\n",
       "      <td>3</td>\n",
       "      <td>0</td>\n",
       "      <td>6</td>\n",
       "      <td>0</td>\n",
       "      <td>1</td>\n",
       "      <td>0.24</td>\n",
       "      <td>0.2879</td>\n",
       "      <td>0.75</td>\n",
       "      <td>0.0</td>\n",
       "      <td>3</td>\n",
       "      <td>10</td>\n",
       "    </tr>\n",
       "    <tr>\n",
       "      <th>4</th>\n",
       "      <td>2011-01-01</td>\n",
       "      <td>1</td>\n",
       "      <td>4</td>\n",
       "      <td>0</td>\n",
       "      <td>6</td>\n",
       "      <td>0</td>\n",
       "      <td>1</td>\n",
       "      <td>0.24</td>\n",
       "      <td>0.2879</td>\n",
       "      <td>0.75</td>\n",
       "      <td>0.0</td>\n",
       "      <td>0</td>\n",
       "      <td>1</td>\n",
       "    </tr>\n",
       "  </tbody>\n",
       "</table>\n",
       "</div>"
      ],
      "text/plain": [
       "      dteday  season  hour  holiday  weekday  workingday  weather  temp  \\\n",
       "0 2011-01-01       1     0        0        6           0        1  0.24   \n",
       "1 2011-01-01       1     1        0        6           0        1  0.22   \n",
       "2 2011-01-01       1     2        0        6           0        1  0.22   \n",
       "3 2011-01-01       1     3        0        6           0        1  0.24   \n",
       "4 2011-01-01       1     4        0        6           0        1  0.24   \n",
       "\n",
       "    atemp   hum  windspeed  casual  registered  \n",
       "0  0.2879  0.81        0.0       3          13  \n",
       "1  0.2727  0.80        0.0       8          32  \n",
       "2  0.2727  0.80        0.0       5          27  \n",
       "3  0.2879  0.75        0.0       3          10  \n",
       "4  0.2879  0.75        0.0       0           1  "
      ]
     },
     "execution_count": 8,
     "metadata": {},
     "output_type": "execute_result"
    }
   ],
   "source": [
    "bikes_df_raw.head()"
   ]
  },
  {
   "cell_type": "code",
   "execution_count": 9,
   "metadata": {},
   "outputs": [
    {
     "data": {
      "text/plain": [
       "dteday        datetime64[ns]\n",
       "season                 int64\n",
       "hour                   int64\n",
       "holiday                int64\n",
       "weekday                int64\n",
       "workingday             int64\n",
       "weather                int64\n",
       "temp                 float64\n",
       "atemp                float64\n",
       "hum                  float64\n",
       "windspeed            float64\n",
       "casual                 int64\n",
       "registered             int64\n",
       "dtype: object"
      ]
     },
     "execution_count": 9,
     "metadata": {},
     "output_type": "execute_result"
    }
   ],
   "source": [
    "bikes_df_raw.dtypes"
   ]
  },
  {
   "cell_type": "markdown",
   "metadata": {
    "button": false,
    "new_sheet": false,
    "run_control": {
     "read_only": false
    }
   },
   "source": [
    "**1.3 Create three new columns in the dataframe:...**"
   ]
  },
  {
   "cell_type": "code",
   "execution_count": 10,
   "metadata": {
    "button": false,
    "new_sheet": false,
    "run_control": {
     "read_only": false
    }
   },
   "outputs": [],
   "source": [
    "######\n",
    "# your code here\n",
    "######\n",
    "year = [bikes_df_raw.dteday[i].year for i in range(bikes_df_raw.shape[0])]\n",
    "bikes_df_raw[\"year\"] = year\n",
    "\n",
    "month = [bikes_df_raw.dteday[i].month for i in range(bikes_df_raw.shape[0])]\n",
    "bikes_df_raw[\"month\"] = month\n",
    "\n",
    "counts = bikes_df_raw.casual + bikes_df_raw.registered\n",
    "bikes_df_raw[\"counts\"] = counts"
   ]
  },
  {
   "cell_type": "code",
   "execution_count": 11,
   "metadata": {
    "scrolled": false
   },
   "outputs": [
    {
     "data": {
      "text/html": [
       "<div>\n",
       "<style scoped>\n",
       "    .dataframe tbody tr th:only-of-type {\n",
       "        vertical-align: middle;\n",
       "    }\n",
       "\n",
       "    .dataframe tbody tr th {\n",
       "        vertical-align: top;\n",
       "    }\n",
       "\n",
       "    .dataframe thead th {\n",
       "        text-align: right;\n",
       "    }\n",
       "</style>\n",
       "<table border=\"1\" class=\"dataframe\">\n",
       "  <thead>\n",
       "    <tr style=\"text-align: right;\">\n",
       "      <th></th>\n",
       "      <th>dteday</th>\n",
       "      <th>season</th>\n",
       "      <th>hour</th>\n",
       "      <th>holiday</th>\n",
       "      <th>weekday</th>\n",
       "      <th>workingday</th>\n",
       "      <th>weather</th>\n",
       "      <th>temp</th>\n",
       "      <th>atemp</th>\n",
       "      <th>hum</th>\n",
       "      <th>windspeed</th>\n",
       "      <th>casual</th>\n",
       "      <th>registered</th>\n",
       "      <th>year</th>\n",
       "      <th>month</th>\n",
       "      <th>counts</th>\n",
       "    </tr>\n",
       "  </thead>\n",
       "  <tbody>\n",
       "    <tr>\n",
       "      <th>0</th>\n",
       "      <td>2011-01-01</td>\n",
       "      <td>1</td>\n",
       "      <td>0</td>\n",
       "      <td>0</td>\n",
       "      <td>6</td>\n",
       "      <td>0</td>\n",
       "      <td>1</td>\n",
       "      <td>0.24</td>\n",
       "      <td>0.2879</td>\n",
       "      <td>0.81</td>\n",
       "      <td>0.0</td>\n",
       "      <td>3</td>\n",
       "      <td>13</td>\n",
       "      <td>2011</td>\n",
       "      <td>1</td>\n",
       "      <td>16</td>\n",
       "    </tr>\n",
       "    <tr>\n",
       "      <th>1</th>\n",
       "      <td>2011-01-01</td>\n",
       "      <td>1</td>\n",
       "      <td>1</td>\n",
       "      <td>0</td>\n",
       "      <td>6</td>\n",
       "      <td>0</td>\n",
       "      <td>1</td>\n",
       "      <td>0.22</td>\n",
       "      <td>0.2727</td>\n",
       "      <td>0.80</td>\n",
       "      <td>0.0</td>\n",
       "      <td>8</td>\n",
       "      <td>32</td>\n",
       "      <td>2011</td>\n",
       "      <td>1</td>\n",
       "      <td>40</td>\n",
       "    </tr>\n",
       "    <tr>\n",
       "      <th>2</th>\n",
       "      <td>2011-01-01</td>\n",
       "      <td>1</td>\n",
       "      <td>2</td>\n",
       "      <td>0</td>\n",
       "      <td>6</td>\n",
       "      <td>0</td>\n",
       "      <td>1</td>\n",
       "      <td>0.22</td>\n",
       "      <td>0.2727</td>\n",
       "      <td>0.80</td>\n",
       "      <td>0.0</td>\n",
       "      <td>5</td>\n",
       "      <td>27</td>\n",
       "      <td>2011</td>\n",
       "      <td>1</td>\n",
       "      <td>32</td>\n",
       "    </tr>\n",
       "    <tr>\n",
       "      <th>3</th>\n",
       "      <td>2011-01-01</td>\n",
       "      <td>1</td>\n",
       "      <td>3</td>\n",
       "      <td>0</td>\n",
       "      <td>6</td>\n",
       "      <td>0</td>\n",
       "      <td>1</td>\n",
       "      <td>0.24</td>\n",
       "      <td>0.2879</td>\n",
       "      <td>0.75</td>\n",
       "      <td>0.0</td>\n",
       "      <td>3</td>\n",
       "      <td>10</td>\n",
       "      <td>2011</td>\n",
       "      <td>1</td>\n",
       "      <td>13</td>\n",
       "    </tr>\n",
       "    <tr>\n",
       "      <th>4</th>\n",
       "      <td>2011-01-01</td>\n",
       "      <td>1</td>\n",
       "      <td>4</td>\n",
       "      <td>0</td>\n",
       "      <td>6</td>\n",
       "      <td>0</td>\n",
       "      <td>1</td>\n",
       "      <td>0.24</td>\n",
       "      <td>0.2879</td>\n",
       "      <td>0.75</td>\n",
       "      <td>0.0</td>\n",
       "      <td>0</td>\n",
       "      <td>1</td>\n",
       "      <td>2011</td>\n",
       "      <td>1</td>\n",
       "      <td>1</td>\n",
       "    </tr>\n",
       "  </tbody>\n",
       "</table>\n",
       "</div>"
      ],
      "text/plain": [
       "      dteday  season  hour  holiday  weekday  workingday  weather  temp  \\\n",
       "0 2011-01-01       1     0        0        6           0        1  0.24   \n",
       "1 2011-01-01       1     1        0        6           0        1  0.22   \n",
       "2 2011-01-01       1     2        0        6           0        1  0.22   \n",
       "3 2011-01-01       1     3        0        6           0        1  0.24   \n",
       "4 2011-01-01       1     4        0        6           0        1  0.24   \n",
       "\n",
       "    atemp   hum  windspeed  casual  registered  year  month  counts  \n",
       "0  0.2879  0.81        0.0       3          13  2011      1      16  \n",
       "1  0.2727  0.80        0.0       8          32  2011      1      40  \n",
       "2  0.2727  0.80        0.0       5          27  2011      1      32  \n",
       "3  0.2879  0.75        0.0       3          10  2011      1      13  \n",
       "4  0.2879  0.75        0.0       0           1  2011      1       1  "
      ]
     },
     "execution_count": 11,
     "metadata": {},
     "output_type": "execute_result"
    }
   ],
   "source": [
    "bikes_df_raw.head()"
   ]
  },
  {
   "cell_type": "markdown",
   "metadata": {},
   "source": [
    "---"
   ]
  },
  {
   "cell_type": "markdown",
   "metadata": {
    "button": false,
    "new_sheet": false,
    "run_control": {
     "read_only": false
    }
   },
   "source": [
    "<div class='exercise'> <b> Question 2 [20 pts]: Exploratory Data Analysis. </b></div>\n",
    "\n",
    "In this question we begin hunting for patterns in ridership that shed light on who uses the service and why.\n",
    "\n",
    "**2.1** Make a new dataframe with the following subset of attributes from the previous dataset and with each entry being just **one** day: \n",
    "\n",
    "- `dteday`, the timestamp for that day (fine to set to noon or any other time) \n",
    "- `weekday`, the day of the week\n",
    "- `weather`, the most severe weather that day\n",
    "- `season`, the season that day falls in\n",
    "- `temp`, the average temperature\n",
    "- `atemp`, the average atemp that day\n",
    "- `windspeed`, the average windspeed that day\n",
    "- `hum`, the average humidity that day\n",
    "- `casual`, the **total** number of rentals by casual users\n",
    "- `registered`, the **total** number of rentals by registered users\n",
    "- `counts`, the **total** number of rentals of that day\n",
    "\n",
    "Name this dataframe `bikes_by_day`.\n",
    "\n",
    "Make a plot showing  the _distribution_ of the number of casual and registered riders on each day of the week.\n",
    "\n",
    "**Hint:** helpful to use panda's `.groupby()` command\n",
    "\n",
    "**2.2** Use `bikes_by_day` (please use the copy provided to you in `data/bikes_by_day.csv` for consistency and easy checking) to visualize how the distribution of **total number of rides** per day (casual and registered riders combined) varies with the **season**. Do you see any **outliers**? Here we use the pyplot's boxplot function definition of an outlier as any value 1.5 times the IQR above the 75th percentile or 1.5 times the IQR below the 25th percentiles. If you see any outliers, identify those dates and investigate if they are a chance occurence, an error in the data collection, or a significant event (an online search of those date(s) might help). \n",
    "\n",
    "**2.3** Convert the categorical attributes ('season', 'month', 'weekday', 'weather')  in the original hourly dataset into multiple binary attributes using **one-hot encoding** and call this new dataframe `bikes_df`.\n",
    "\n",
    "**2.4** Split the updated `bikes_df` dataset into a 50-50 train-test split (call them `bikes_train` and `bikes_test`, respectively). Do this in a 'stratified' fashion, ensuring that all months are equally represented in each set.  Use `random_state=90`, a test set size of .5, and stratify on month.  Remember to specify the data's index column as you read it in.\n",
    "\n",
    "**2.5** Although we asked you to create your train and test set, for consistency and easy checking, we ask that for the rest of this problem set you use the train and test set provided in the files `data/BSS_train.csv` and `data/BSS_test.csv`. Read these two files into dataframes `BSS_train` and `BSS_test`, respectively. Remove the `dteday` column from both the train and the test dataset (its format cannot be used for analysis). \n",
    "\n",
    "**2.6** Make a plot showing the _average_ number of casual and registered riders during each hour of the day. `.groupby` and `.aggregate` should make this task easy. Comment on the trends you observe. \n"
   ]
  },
  {
   "cell_type": "markdown",
   "metadata": {
    "button": false,
    "new_sheet": false,
    "run_control": {
     "read_only": false
    }
   },
   "source": [
    "### Answers"
   ]
  },
  {
   "cell_type": "markdown",
   "metadata": {
    "button": false,
    "new_sheet": false,
    "run_control": {
     "read_only": false
    }
   },
   "source": [
    "**2.1 Make a new dataframe...**"
   ]
  },
  {
   "cell_type": "code",
   "execution_count": 12,
   "metadata": {
    "scrolled": false
   },
   "outputs": [
    {
     "data": {
      "text/html": [
       "<div>\n",
       "<style scoped>\n",
       "    .dataframe tbody tr th:only-of-type {\n",
       "        vertical-align: middle;\n",
       "    }\n",
       "\n",
       "    .dataframe tbody tr th {\n",
       "        vertical-align: top;\n",
       "    }\n",
       "\n",
       "    .dataframe thead th {\n",
       "        text-align: right;\n",
       "    }\n",
       "</style>\n",
       "<table border=\"1\" class=\"dataframe\">\n",
       "  <thead>\n",
       "    <tr style=\"text-align: right;\">\n",
       "      <th></th>\n",
       "      <th>dteday</th>\n",
       "      <th>weekday</th>\n",
       "      <th>weather</th>\n",
       "      <th>season</th>\n",
       "      <th>temp</th>\n",
       "      <th>atemp</th>\n",
       "      <th>windspeed</th>\n",
       "      <th>hum</th>\n",
       "      <th>casual</th>\n",
       "      <th>registered</th>\n",
       "      <th>counts</th>\n",
       "    </tr>\n",
       "  </thead>\n",
       "  <tbody>\n",
       "    <tr>\n",
       "      <th>0</th>\n",
       "      <td>2011-01-01</td>\n",
       "      <td>6</td>\n",
       "      <td>3</td>\n",
       "      <td>1</td>\n",
       "      <td>0.344167</td>\n",
       "      <td>0.363625</td>\n",
       "      <td>0.160446</td>\n",
       "      <td>0.805833</td>\n",
       "      <td>331</td>\n",
       "      <td>654</td>\n",
       "      <td>985</td>\n",
       "    </tr>\n",
       "    <tr>\n",
       "      <th>1</th>\n",
       "      <td>2011-01-02</td>\n",
       "      <td>0</td>\n",
       "      <td>3</td>\n",
       "      <td>1</td>\n",
       "      <td>0.363478</td>\n",
       "      <td>0.353739</td>\n",
       "      <td>0.248539</td>\n",
       "      <td>0.696087</td>\n",
       "      <td>131</td>\n",
       "      <td>670</td>\n",
       "      <td>801</td>\n",
       "    </tr>\n",
       "    <tr>\n",
       "      <th>2</th>\n",
       "      <td>2011-01-03</td>\n",
       "      <td>1</td>\n",
       "      <td>1</td>\n",
       "      <td>1</td>\n",
       "      <td>0.196364</td>\n",
       "      <td>0.189405</td>\n",
       "      <td>0.248309</td>\n",
       "      <td>0.437273</td>\n",
       "      <td>120</td>\n",
       "      <td>1229</td>\n",
       "      <td>1349</td>\n",
       "    </tr>\n",
       "    <tr>\n",
       "      <th>3</th>\n",
       "      <td>2011-01-04</td>\n",
       "      <td>2</td>\n",
       "      <td>2</td>\n",
       "      <td>1</td>\n",
       "      <td>0.200000</td>\n",
       "      <td>0.212122</td>\n",
       "      <td>0.160296</td>\n",
       "      <td>0.590435</td>\n",
       "      <td>108</td>\n",
       "      <td>1454</td>\n",
       "      <td>1562</td>\n",
       "    </tr>\n",
       "    <tr>\n",
       "      <th>4</th>\n",
       "      <td>2011-01-05</td>\n",
       "      <td>3</td>\n",
       "      <td>1</td>\n",
       "      <td>1</td>\n",
       "      <td>0.226957</td>\n",
       "      <td>0.229270</td>\n",
       "      <td>0.186900</td>\n",
       "      <td>0.436957</td>\n",
       "      <td>82</td>\n",
       "      <td>1518</td>\n",
       "      <td>1600</td>\n",
       "    </tr>\n",
       "  </tbody>\n",
       "</table>\n",
       "</div>"
      ],
      "text/plain": [
       "      dteday  weekday  weather  season      temp     atemp  windspeed  \\\n",
       "0 2011-01-01        6        3       1  0.344167  0.363625   0.160446   \n",
       "1 2011-01-02        0        3       1  0.363478  0.353739   0.248539   \n",
       "2 2011-01-03        1        1       1  0.196364  0.189405   0.248309   \n",
       "3 2011-01-04        2        2       1  0.200000  0.212122   0.160296   \n",
       "4 2011-01-05        3        1       1  0.226957  0.229270   0.186900   \n",
       "\n",
       "        hum  casual  registered  counts  \n",
       "0  0.805833     331         654     985  \n",
       "1  0.696087     131         670     801  \n",
       "2  0.437273     120        1229    1349  \n",
       "3  0.590435     108        1454    1562  \n",
       "4  0.436957      82        1518    1600  "
      ]
     },
     "execution_count": 12,
     "metadata": {},
     "output_type": "execute_result"
    }
   ],
   "source": [
    "bikes_by_day = bikes_df_raw.groupby('dteday').agg({\n",
    "    'weekday': np.median,\n",
    "    'weather': np.max,\n",
    "    'season': np.median,\n",
    "    'temp': np.mean,\n",
    "    'atemp': np.mean,\n",
    "    'windspeed': np.mean,\n",
    "    'hum': np.mean,\n",
    "    'casual': np.sum,\n",
    "    'registered': np.sum,\n",
    "    'counts': np.sum\n",
    "})\n",
    "\n",
    "bikes_by_day.reset_index(inplace=True)\n",
    "bikes_by_day['dteday'] = pd.to_datetime(bikes_by_day['dteday'], format='%Y/%m/%d')\n",
    "bikes_by_day.head()"
   ]
  },
  {
   "cell_type": "code",
   "execution_count": 13,
   "metadata": {},
   "outputs": [
    {
     "data": {
      "image/png": "[encoded data removed]",
      "text/plain": [
       "<Figure size 864x576 with 2 Axes>"
      ]
     },
     "metadata": {
      "needs_background": "light"
     },
     "output_type": "display_data"
    }
   ],
   "source": [
    "boxplot = bikes_by_day.boxplot(column=['casual', 'registered'], by='weekday', figsize = (12,8))"
   ]
  },
  {
   "cell_type": "markdown",
   "metadata": {
    "button": false,
    "new_sheet": false,
    "run_control": {
     "read_only": false
    }
   },
   "source": [
    "**2.2 Use `bikes_by_day` to visualize how the distribution...**"
   ]
  },
  {
   "cell_type": "code",
   "execution_count": 14,
   "metadata": {
    "scrolled": true
   },
   "outputs": [
    {
     "data": {
      "text/html": [
       "<div>\n",
       "<style scoped>\n",
       "    .dataframe tbody tr th:only-of-type {\n",
       "        vertical-align: middle;\n",
       "    }\n",
       "\n",
       "    .dataframe tbody tr th {\n",
       "        vertical-align: top;\n",
       "    }\n",
       "\n",
       "    .dataframe thead th {\n",
       "        text-align: right;\n",
       "    }\n",
       "</style>\n",
       "<table border=\"1\" class=\"dataframe\">\n",
       "  <thead>\n",
       "    <tr style=\"text-align: right;\">\n",
       "      <th></th>\n",
       "      <th>dteday</th>\n",
       "      <th>counts</th>\n",
       "      <th>casual</th>\n",
       "      <th>weather</th>\n",
       "      <th>registered</th>\n",
       "      <th>season</th>\n",
       "      <th>weekday</th>\n",
       "      <th>windspeed</th>\n",
       "      <th>temp</th>\n",
       "      <th>atemp</th>\n",
       "      <th>hum</th>\n",
       "    </tr>\n",
       "  </thead>\n",
       "  <tbody>\n",
       "    <tr>\n",
       "      <th>0</th>\n",
       "      <td>2011-01-01</td>\n",
       "      <td>985</td>\n",
       "      <td>331</td>\n",
       "      <td>3</td>\n",
       "      <td>654</td>\n",
       "      <td>1</td>\n",
       "      <td>6</td>\n",
       "      <td>0.160446</td>\n",
       "      <td>0.344167</td>\n",
       "      <td>0.363625</td>\n",
       "      <td>0.805833</td>\n",
       "    </tr>\n",
       "    <tr>\n",
       "      <th>1</th>\n",
       "      <td>2011-01-02</td>\n",
       "      <td>801</td>\n",
       "      <td>131</td>\n",
       "      <td>3</td>\n",
       "      <td>670</td>\n",
       "      <td>1</td>\n",
       "      <td>0</td>\n",
       "      <td>0.248539</td>\n",
       "      <td>0.363478</td>\n",
       "      <td>0.353739</td>\n",
       "      <td>0.696087</td>\n",
       "    </tr>\n",
       "    <tr>\n",
       "      <th>2</th>\n",
       "      <td>2011-01-03</td>\n",
       "      <td>1349</td>\n",
       "      <td>120</td>\n",
       "      <td>1</td>\n",
       "      <td>1229</td>\n",
       "      <td>1</td>\n",
       "      <td>1</td>\n",
       "      <td>0.248309</td>\n",
       "      <td>0.196364</td>\n",
       "      <td>0.189405</td>\n",
       "      <td>0.437273</td>\n",
       "    </tr>\n",
       "    <tr>\n",
       "      <th>3</th>\n",
       "      <td>2011-01-04</td>\n",
       "      <td>1562</td>\n",
       "      <td>108</td>\n",
       "      <td>2</td>\n",
       "      <td>1454</td>\n",
       "      <td>1</td>\n",
       "      <td>2</td>\n",
       "      <td>0.160296</td>\n",
       "      <td>0.200000</td>\n",
       "      <td>0.212122</td>\n",
       "      <td>0.590435</td>\n",
       "    </tr>\n",
       "    <tr>\n",
       "      <th>4</th>\n",
       "      <td>2011-01-05</td>\n",
       "      <td>1600</td>\n",
       "      <td>82</td>\n",
       "      <td>1</td>\n",
       "      <td>1518</td>\n",
       "      <td>1</td>\n",
       "      <td>3</td>\n",
       "      <td>0.186900</td>\n",
       "      <td>0.226957</td>\n",
       "      <td>0.229270</td>\n",
       "      <td>0.436957</td>\n",
       "    </tr>\n",
       "  </tbody>\n",
       "</table>\n",
       "</div>"
      ],
      "text/plain": [
       "       dteday  counts  casual  weather  registered  season  weekday  \\\n",
       "0  2011-01-01     985     331        3         654       1        6   \n",
       "1  2011-01-02     801     131        3         670       1        0   \n",
       "2  2011-01-03    1349     120        1        1229       1        1   \n",
       "3  2011-01-04    1562     108        2        1454       1        2   \n",
       "4  2011-01-05    1600      82        1        1518       1        3   \n",
       "\n",
       "   windspeed      temp     atemp       hum  \n",
       "0   0.160446  0.344167  0.363625  0.805833  \n",
       "1   0.248539  0.363478  0.353739  0.696087  \n",
       "2   0.248309  0.196364  0.189405  0.437273  \n",
       "3   0.160296  0.200000  0.212122  0.590435  \n",
       "4   0.186900  0.226957  0.229270  0.436957  "
      ]
     },
     "execution_count": 14,
     "metadata": {},
     "output_type": "execute_result"
    }
   ],
   "source": [
    "bikes_by_day = pd.read_csv(\"data/bikes_by_day.csv\")\n",
    "bikes_by_day.head()"
   ]
  },
  {
   "cell_type": "code",
   "execution_count": 15,
   "metadata": {},
   "outputs": [
    {
     "data": {
      "image/png": "[encoded data removed]",
      "text/plain": [
       "<Figure size 864x576 with 1 Axes>"
      ]
     },
     "metadata": {
      "needs_background": "light"
     },
     "output_type": "display_data"
    }
   ],
   "source": [
    "# plotting season against rentals\n",
    "\n",
    "boxplot = bikes_by_day.boxplot(column=['counts'], by='season', figsize = (12,8))"
   ]
  },
  {
   "cell_type": "code",
   "execution_count": 16,
   "metadata": {
    "scrolled": true
   },
   "outputs": [
    {
     "data": {
      "text/html": [
       "<div>\n",
       "<style scoped>\n",
       "    .dataframe tbody tr th:only-of-type {\n",
       "        vertical-align: middle;\n",
       "    }\n",
       "\n",
       "    .dataframe tbody tr th {\n",
       "        vertical-align: top;\n",
       "    }\n",
       "\n",
       "    .dataframe thead th {\n",
       "        text-align: right;\n",
       "    }\n",
       "</style>\n",
       "<table border=\"1\" class=\"dataframe\">\n",
       "  <thead>\n",
       "    <tr style=\"text-align: right;\">\n",
       "      <th></th>\n",
       "      <th>dteday</th>\n",
       "      <th>counts</th>\n",
       "      <th>casual</th>\n",
       "      <th>weather</th>\n",
       "      <th>registered</th>\n",
       "      <th>season</th>\n",
       "      <th>weekday</th>\n",
       "      <th>windspeed</th>\n",
       "      <th>temp</th>\n",
       "      <th>atemp</th>\n",
       "      <th>hum</th>\n",
       "    </tr>\n",
       "  </thead>\n",
       "  <tbody>\n",
       "    <tr>\n",
       "      <th>441</th>\n",
       "      <td>2012-03-17</td>\n",
       "      <td>7836</td>\n",
       "      <td>3155</td>\n",
       "      <td>2</td>\n",
       "      <td>4681</td>\n",
       "      <td>1</td>\n",
       "      <td>6</td>\n",
       "      <td>0.110704</td>\n",
       "      <td>0.514167</td>\n",
       "      <td>0.505046</td>\n",
       "      <td>0.755833</td>\n",
       "    </tr>\n",
       "  </tbody>\n",
       "</table>\n",
       "</div>"
      ],
      "text/plain": [
       "         dteday  counts  casual  weather  registered  season  weekday  \\\n",
       "441  2012-03-17    7836    3155        2        4681       1        6   \n",
       "\n",
       "     windspeed      temp     atemp       hum  \n",
       "441   0.110704  0.514167  0.505046  0.755833  "
      ]
     },
     "execution_count": 16,
     "metadata": {},
     "output_type": "execute_result"
    }
   ],
   "source": [
    "#outlier 1 fors season 1\n",
    "max_count = max(bikes_by_day[bikes_by_day.season == 1].counts.values)\n",
    "bikes_by_day[(bikes_by_day.counts == max_count) & (bikes_by_day.season==1)]"
   ]
  },
  {
   "cell_type": "code",
   "execution_count": 17,
   "metadata": {},
   "outputs": [
    {
     "data": {
      "text/plain": [
       "count       9.000000\n",
       "mean     5553.444444\n",
       "std      1549.767653\n",
       "min      2927.000000\n",
       "25%      5382.000000\n",
       "50%      6093.000000\n",
       "75%      6192.000000\n",
       "max      7836.000000\n",
       "Name: counts, dtype: float64"
      ]
     },
     "execution_count": 17,
     "metadata": {},
     "output_type": "execute_result"
    }
   ],
   "source": [
    "bikes_by_day[(bikes_by_day.temp > 0.5) & (bikes_by_day.season==1)].counts.describe()"
   ]
  },
  {
   "cell_type": "code",
   "execution_count": 18,
   "metadata": {},
   "outputs": [
    {
     "data": {
      "text/html": [
       "<div>\n",
       "<style scoped>\n",
       "    .dataframe tbody tr th:only-of-type {\n",
       "        vertical-align: middle;\n",
       "    }\n",
       "\n",
       "    .dataframe tbody tr th {\n",
       "        vertical-align: top;\n",
       "    }\n",
       "\n",
       "    .dataframe thead th {\n",
       "        text-align: right;\n",
       "    }\n",
       "</style>\n",
       "<table border=\"1\" class=\"dataframe\">\n",
       "  <thead>\n",
       "    <tr style=\"text-align: right;\">\n",
       "      <th></th>\n",
       "      <th>dteday</th>\n",
       "      <th>counts</th>\n",
       "      <th>casual</th>\n",
       "      <th>weather</th>\n",
       "      <th>registered</th>\n",
       "      <th>season</th>\n",
       "      <th>weekday</th>\n",
       "      <th>windspeed</th>\n",
       "      <th>temp</th>\n",
       "      <th>atemp</th>\n",
       "      <th>hum</th>\n",
       "    </tr>\n",
       "  </thead>\n",
       "  <tbody>\n",
       "    <tr>\n",
       "      <th>667</th>\n",
       "      <td>2012-10-29</td>\n",
       "      <td>22</td>\n",
       "      <td>2</td>\n",
       "      <td>3</td>\n",
       "      <td>20</td>\n",
       "      <td>4</td>\n",
       "      <td>1</td>\n",
       "      <td>0.3582</td>\n",
       "      <td>0.44</td>\n",
       "      <td>0.4394</td>\n",
       "      <td>0.88</td>\n",
       "    </tr>\n",
       "  </tbody>\n",
       "</table>\n",
       "</div>"
      ],
      "text/plain": [
       "         dteday  counts  casual  weather  registered  season  weekday  \\\n",
       "667  2012-10-29      22       2        3          20       4        1   \n",
       "\n",
       "     windspeed  temp   atemp   hum  \n",
       "667     0.3582  0.44  0.4394  0.88  "
      ]
     },
     "execution_count": 18,
     "metadata": {},
     "output_type": "execute_result"
    }
   ],
   "source": [
    "#outlier 1 for season 4\n",
    "min_count = min(bikes_by_day[bikes_by_day.season == 4].counts.values)\n",
    "bikes_by_day[(bikes_by_day.counts == min_count) & (bikes_by_day.season == 4)]"
   ]
  },
  {
   "cell_type": "code",
   "execution_count": 19,
   "metadata": {},
   "outputs": [
    {
     "data": {
      "text/html": [
       "<div>\n",
       "<style scoped>\n",
       "    .dataframe tbody tr th:only-of-type {\n",
       "        vertical-align: middle;\n",
       "    }\n",
       "\n",
       "    .dataframe tbody tr th {\n",
       "        vertical-align: top;\n",
       "    }\n",
       "\n",
       "    .dataframe thead th {\n",
       "        text-align: right;\n",
       "    }\n",
       "</style>\n",
       "<table border=\"1\" class=\"dataframe\">\n",
       "  <thead>\n",
       "    <tr style=\"text-align: right;\">\n",
       "      <th></th>\n",
       "      <th>dteday</th>\n",
       "      <th>counts</th>\n",
       "      <th>casual</th>\n",
       "      <th>weather</th>\n",
       "      <th>registered</th>\n",
       "      <th>season</th>\n",
       "      <th>weekday</th>\n",
       "      <th>windspeed</th>\n",
       "      <th>temp</th>\n",
       "      <th>atemp</th>\n",
       "      <th>hum</th>\n",
       "    </tr>\n",
       "  </thead>\n",
       "  <tbody>\n",
       "    <tr>\n",
       "      <th>664</th>\n",
       "      <td>2012-10-26</td>\n",
       "      <td>7444</td>\n",
       "      <td>1182</td>\n",
       "      <td>2</td>\n",
       "      <td>6262</td>\n",
       "      <td>4</td>\n",
       "      <td>5</td>\n",
       "      <td>0.132467</td>\n",
       "      <td>0.545833</td>\n",
       "      <td>0.522750</td>\n",
       "      <td>0.807083</td>\n",
       "    </tr>\n",
       "    <tr>\n",
       "      <th>665</th>\n",
       "      <td>2012-10-27</td>\n",
       "      <td>7852</td>\n",
       "      <td>2643</td>\n",
       "      <td>2</td>\n",
       "      <td>5209</td>\n",
       "      <td>4</td>\n",
       "      <td>6</td>\n",
       "      <td>0.235692</td>\n",
       "      <td>0.530000</td>\n",
       "      <td>0.515133</td>\n",
       "      <td>0.720000</td>\n",
       "    </tr>\n",
       "    <tr>\n",
       "      <th>666</th>\n",
       "      <td>2012-10-28</td>\n",
       "      <td>4459</td>\n",
       "      <td>998</td>\n",
       "      <td>3</td>\n",
       "      <td>3461</td>\n",
       "      <td>4</td>\n",
       "      <td>0</td>\n",
       "      <td>0.398008</td>\n",
       "      <td>0.477500</td>\n",
       "      <td>0.467771</td>\n",
       "      <td>0.694583</td>\n",
       "    </tr>\n",
       "    <tr>\n",
       "      <th>667</th>\n",
       "      <td>2012-10-29</td>\n",
       "      <td>22</td>\n",
       "      <td>2</td>\n",
       "      <td>3</td>\n",
       "      <td>20</td>\n",
       "      <td>4</td>\n",
       "      <td>1</td>\n",
       "      <td>0.358200</td>\n",
       "      <td>0.440000</td>\n",
       "      <td>0.439400</td>\n",
       "      <td>0.880000</td>\n",
       "    </tr>\n",
       "    <tr>\n",
       "      <th>668</th>\n",
       "      <td>2012-10-30</td>\n",
       "      <td>1096</td>\n",
       "      <td>87</td>\n",
       "      <td>3</td>\n",
       "      <td>1009</td>\n",
       "      <td>4</td>\n",
       "      <td>2</td>\n",
       "      <td>0.213009</td>\n",
       "      <td>0.318182</td>\n",
       "      <td>0.309909</td>\n",
       "      <td>0.825455</td>\n",
       "    </tr>\n",
       "    <tr>\n",
       "      <th>669</th>\n",
       "      <td>2012-10-31</td>\n",
       "      <td>5566</td>\n",
       "      <td>419</td>\n",
       "      <td>2</td>\n",
       "      <td>5147</td>\n",
       "      <td>4</td>\n",
       "      <td>3</td>\n",
       "      <td>0.166667</td>\n",
       "      <td>0.357500</td>\n",
       "      <td>0.361100</td>\n",
       "      <td>0.666667</td>\n",
       "    </tr>\n",
       "    <tr>\n",
       "      <th>670</th>\n",
       "      <td>2012-11-01</td>\n",
       "      <td>5986</td>\n",
       "      <td>466</td>\n",
       "      <td>3</td>\n",
       "      <td>5520</td>\n",
       "      <td>4</td>\n",
       "      <td>4</td>\n",
       "      <td>0.157346</td>\n",
       "      <td>0.365833</td>\n",
       "      <td>0.369942</td>\n",
       "      <td>0.581667</td>\n",
       "    </tr>\n",
       "    <tr>\n",
       "      <th>671</th>\n",
       "      <td>2012-11-02</td>\n",
       "      <td>5847</td>\n",
       "      <td>618</td>\n",
       "      <td>2</td>\n",
       "      <td>5229</td>\n",
       "      <td>4</td>\n",
       "      <td>5</td>\n",
       "      <td>0.266175</td>\n",
       "      <td>0.355000</td>\n",
       "      <td>0.356042</td>\n",
       "      <td>0.522083</td>\n",
       "    </tr>\n",
       "  </tbody>\n",
       "</table>\n",
       "</div>"
      ],
      "text/plain": [
       "         dteday  counts  casual  weather  registered  season  weekday  \\\n",
       "664  2012-10-26    7444    1182        2        6262       4        5   \n",
       "665  2012-10-27    7852    2643        2        5209       4        6   \n",
       "666  2012-10-28    4459     998        3        3461       4        0   \n",
       "667  2012-10-29      22       2        3          20       4        1   \n",
       "668  2012-10-30    1096      87        3        1009       4        2   \n",
       "669  2012-10-31    5566     419        2        5147       4        3   \n",
       "670  2012-11-01    5986     466        3        5520       4        4   \n",
       "671  2012-11-02    5847     618        2        5229       4        5   \n",
       "\n",
       "     windspeed      temp     atemp       hum  \n",
       "664   0.132467  0.545833  0.522750  0.807083  \n",
       "665   0.235692  0.530000  0.515133  0.720000  \n",
       "666   0.398008  0.477500  0.467771  0.694583  \n",
       "667   0.358200  0.440000  0.439400  0.880000  \n",
       "668   0.213009  0.318182  0.309909  0.825455  \n",
       "669   0.166667  0.357500  0.361100  0.666667  \n",
       "670   0.157346  0.365833  0.369942  0.581667  \n",
       "671   0.266175  0.355000  0.356042  0.522083  "
      ]
     },
     "execution_count": 19,
     "metadata": {},
     "output_type": "execute_result"
    }
   ],
   "source": [
    "bikes_by_day[(bikes_by_day.season == 4) & (bikes_by_day.dteday > '2012-10-25')].head(8)"
   ]
  },
  {
   "cell_type": "markdown",
   "metadata": {},
   "source": [
    "The `whis` variable was set to 1.5 times the IQR past the low and high quartiles to extend the plot whiskers. According to this definition there are two outliers. Namely, there is one outlier above the 1.5 times the IQR above the 75 percentile for season 1 (winter) and another outlier below the 1.5 times the IQR below the 25 percentile range for season 4 (fall). \n",
    "\n",
    "The outlier data point for the winter season occurred on 2011-03-17 with a total count of 7836. It was a cloudy day, but with no rain. The temperature was 51 degrees fahrenheit. The data shows that for days in the winter with temperature greater than 50F, the mean number of rentals was 5553, which is much higher than the overall mean for the winter as can be seen in the box plot. Furthermore, March 17 is only 4 days before the cutoff point for the winter, and the subsequent transition into the spring, according to the data. Since there were not particularly significant events on this day, it was probably a chance occurrence. \n",
    "\n",
    "The outlier data point for the fall season occurred on 2012-10-29 with a total count of 22. The weather was rainy with a temperature of 44F. On the 27th of October, 2012, the mayor of Washington D.C. called a state of emergency in preparation for Hurricane Sandy. The state of emergency was called off on November 2nd of the same year. As can be seen in the data, as the weather worsens during this period, rental counts drop as well. "
   ]
  },
  {
   "cell_type": "markdown",
   "metadata": {
    "button": false,
    "new_sheet": false,
    "run_control": {
     "read_only": false
    }
   },
   "source": [
    "**2.3 Convert the categorical attributes...**"
   ]
  },
  {
   "cell_type": "code",
   "execution_count": 20,
   "metadata": {
    "button": false,
    "new_sheet": false,
    "run_control": {
     "read_only": false
    },
    "scrolled": true
   },
   "outputs": [
    {
     "data": {
      "text/html": [
       "<div>\n",
       "<style scoped>\n",
       "    .dataframe tbody tr th:only-of-type {\n",
       "        vertical-align: middle;\n",
       "    }\n",
       "\n",
       "    .dataframe tbody tr th {\n",
       "        vertical-align: top;\n",
       "    }\n",
       "\n",
       "    .dataframe thead th {\n",
       "        text-align: right;\n",
       "    }\n",
       "</style>\n",
       "<table border=\"1\" class=\"dataframe\">\n",
       "  <thead>\n",
       "    <tr style=\"text-align: right;\">\n",
       "      <th></th>\n",
       "      <th>dteday</th>\n",
       "      <th>hour</th>\n",
       "      <th>holiday</th>\n",
       "      <th>workingday</th>\n",
       "      <th>temp</th>\n",
       "      <th>atemp</th>\n",
       "      <th>hum</th>\n",
       "      <th>windspeed</th>\n",
       "      <th>casual</th>\n",
       "      <th>registered</th>\n",
       "      <th>...</th>\n",
       "      <th>month_12</th>\n",
       "      <th>weekday_1</th>\n",
       "      <th>weekday_2</th>\n",
       "      <th>weekday_3</th>\n",
       "      <th>weekday_4</th>\n",
       "      <th>weekday_5</th>\n",
       "      <th>weekday_6</th>\n",
       "      <th>weather_2</th>\n",
       "      <th>weather_3</th>\n",
       "      <th>weather_4</th>\n",
       "    </tr>\n",
       "  </thead>\n",
       "  <tbody>\n",
       "    <tr>\n",
       "      <th>0</th>\n",
       "      <td>2011-01-01</td>\n",
       "      <td>0</td>\n",
       "      <td>0</td>\n",
       "      <td>0</td>\n",
       "      <td>0.24</td>\n",
       "      <td>0.2879</td>\n",
       "      <td>0.81</td>\n",
       "      <td>0.0</td>\n",
       "      <td>3</td>\n",
       "      <td>13</td>\n",
       "      <td>...</td>\n",
       "      <td>0</td>\n",
       "      <td>0</td>\n",
       "      <td>0</td>\n",
       "      <td>0</td>\n",
       "      <td>0</td>\n",
       "      <td>0</td>\n",
       "      <td>1</td>\n",
       "      <td>0</td>\n",
       "      <td>0</td>\n",
       "      <td>0</td>\n",
       "    </tr>\n",
       "    <tr>\n",
       "      <th>1</th>\n",
       "      <td>2011-01-01</td>\n",
       "      <td>1</td>\n",
       "      <td>0</td>\n",
       "      <td>0</td>\n",
       "      <td>0.22</td>\n",
       "      <td>0.2727</td>\n",
       "      <td>0.80</td>\n",
       "      <td>0.0</td>\n",
       "      <td>8</td>\n",
       "      <td>32</td>\n",
       "      <td>...</td>\n",
       "      <td>0</td>\n",
       "      <td>0</td>\n",
       "      <td>0</td>\n",
       "      <td>0</td>\n",
       "      <td>0</td>\n",
       "      <td>0</td>\n",
       "      <td>1</td>\n",
       "      <td>0</td>\n",
       "      <td>0</td>\n",
       "      <td>0</td>\n",
       "    </tr>\n",
       "    <tr>\n",
       "      <th>2</th>\n",
       "      <td>2011-01-01</td>\n",
       "      <td>2</td>\n",
       "      <td>0</td>\n",
       "      <td>0</td>\n",
       "      <td>0.22</td>\n",
       "      <td>0.2727</td>\n",
       "      <td>0.80</td>\n",
       "      <td>0.0</td>\n",
       "      <td>5</td>\n",
       "      <td>27</td>\n",
       "      <td>...</td>\n",
       "      <td>0</td>\n",
       "      <td>0</td>\n",
       "      <td>0</td>\n",
       "      <td>0</td>\n",
       "      <td>0</td>\n",
       "      <td>0</td>\n",
       "      <td>1</td>\n",
       "      <td>0</td>\n",
       "      <td>0</td>\n",
       "      <td>0</td>\n",
       "    </tr>\n",
       "    <tr>\n",
       "      <th>3</th>\n",
       "      <td>2011-01-01</td>\n",
       "      <td>3</td>\n",
       "      <td>0</td>\n",
       "      <td>0</td>\n",
       "      <td>0.24</td>\n",
       "      <td>0.2879</td>\n",
       "      <td>0.75</td>\n",
       "      <td>0.0</td>\n",
       "      <td>3</td>\n",
       "      <td>10</td>\n",
       "      <td>...</td>\n",
       "      <td>0</td>\n",
       "      <td>0</td>\n",
       "      <td>0</td>\n",
       "      <td>0</td>\n",
       "      <td>0</td>\n",
       "      <td>0</td>\n",
       "      <td>1</td>\n",
       "      <td>0</td>\n",
       "      <td>0</td>\n",
       "      <td>0</td>\n",
       "    </tr>\n",
       "    <tr>\n",
       "      <th>4</th>\n",
       "      <td>2011-01-01</td>\n",
       "      <td>4</td>\n",
       "      <td>0</td>\n",
       "      <td>0</td>\n",
       "      <td>0.24</td>\n",
       "      <td>0.2879</td>\n",
       "      <td>0.75</td>\n",
       "      <td>0.0</td>\n",
       "      <td>0</td>\n",
       "      <td>1</td>\n",
       "      <td>...</td>\n",
       "      <td>0</td>\n",
       "      <td>0</td>\n",
       "      <td>0</td>\n",
       "      <td>0</td>\n",
       "      <td>0</td>\n",
       "      <td>0</td>\n",
       "      <td>1</td>\n",
       "      <td>0</td>\n",
       "      <td>0</td>\n",
       "      <td>0</td>\n",
       "    </tr>\n",
       "  </tbody>\n",
       "</table>\n",
       "<p>5 rows × 35 columns</p>\n",
       "</div>"
      ],
      "text/plain": [
       "      dteday  hour  holiday  workingday  temp   atemp   hum  windspeed  \\\n",
       "0 2011-01-01     0        0           0  0.24  0.2879  0.81        0.0   \n",
       "1 2011-01-01     1        0           0  0.22  0.2727  0.80        0.0   \n",
       "2 2011-01-01     2        0           0  0.22  0.2727  0.80        0.0   \n",
       "3 2011-01-01     3        0           0  0.24  0.2879  0.75        0.0   \n",
       "4 2011-01-01     4        0           0  0.24  0.2879  0.75        0.0   \n",
       "\n",
       "   casual  registered  ...  month_12  weekday_1  weekday_2  weekday_3  \\\n",
       "0       3          13  ...         0          0          0          0   \n",
       "1       8          32  ...         0          0          0          0   \n",
       "2       5          27  ...         0          0          0          0   \n",
       "3       3          10  ...         0          0          0          0   \n",
       "4       0           1  ...         0          0          0          0   \n",
       "\n",
       "   weekday_4  weekday_5  weekday_6  weather_2  weather_3  weather_4  \n",
       "0          0          0          1          0          0          0  \n",
       "1          0          0          1          0          0          0  \n",
       "2          0          0          1          0          0          0  \n",
       "3          0          0          1          0          0          0  \n",
       "4          0          0          1          0          0          0  \n",
       "\n",
       "[5 rows x 35 columns]"
      ]
     },
     "execution_count": 20,
     "metadata": {},
     "output_type": "execute_result"
    }
   ],
   "source": [
    "# Since this is supposed to be a train/test set, I have dropped the first group of each categorical variable\n",
    "    \n",
    "bikes_df = pd.get_dummies(bikes_df_raw, columns = ['season', 'month', 'weekday', 'weather'], drop_first = True)\n",
    "\n",
    "bikes_df.head()\n"
   ]
  },
  {
   "cell_type": "code",
   "execution_count": 21,
   "metadata": {
    "scrolled": true
   },
   "outputs": [
    {
     "data": {
      "text/plain": [
       "dteday        datetime64[ns]\n",
       "hour                   int64\n",
       "holiday                int64\n",
       "workingday             int64\n",
       "temp                 float64\n",
       "atemp                float64\n",
       "hum                  float64\n",
       "windspeed            float64\n",
       "casual                 int64\n",
       "registered             int64\n",
       "year                   int64\n",
       "counts                 int64\n",
       "season_2               uint8\n",
       "season_3               uint8\n",
       "season_4               uint8\n",
       "month_2                uint8\n",
       "month_3                uint8\n",
       "month_4                uint8\n",
       "month_5                uint8\n",
       "month_6                uint8\n",
       "month_7                uint8\n",
       "month_8                uint8\n",
       "month_9                uint8\n",
       "month_10               uint8\n",
       "month_11               uint8\n",
       "month_12               uint8\n",
       "weekday_1              uint8\n",
       "weekday_2              uint8\n",
       "weekday_3              uint8\n",
       "weekday_4              uint8\n",
       "weekday_5              uint8\n",
       "weekday_6              uint8\n",
       "weather_2              uint8\n",
       "weather_3              uint8\n",
       "weather_4              uint8\n",
       "dtype: object"
      ]
     },
     "execution_count": 21,
     "metadata": {},
     "output_type": "execute_result"
    }
   ],
   "source": [
    "bikes_df.dtypes"
   ]
  },
  {
   "cell_type": "markdown",
   "metadata": {
    "button": false,
    "new_sheet": false,
    "run_control": {
     "read_only": false
    }
   },
   "source": [
    "**2.4 Split the updated `bikes_df` dataset into a 50-50 train-test split...** \n"
   ]
  },
  {
   "cell_type": "code",
   "execution_count": 22,
   "metadata": {},
   "outputs": [],
   "source": [
    "#before creating train-test split, make sure dtypes are correct\n",
    "bikes_train, bikes_test = train_test_split(bikes_df, test_size = 0.5, stratify=bikes_df[['month_2', 'month_3', 'month_4', 'month_5', 'month_6', 'month_7', 'month_8', 'month_9', 'month_10', 'month_11', 'month_12']], random_state=90)"
   ]
  },
  {
   "cell_type": "code",
   "execution_count": 23,
   "metadata": {},
   "outputs": [
    {
     "data": {
      "text/html": [
       "<div>\n",
       "<style scoped>\n",
       "    .dataframe tbody tr th:only-of-type {\n",
       "        vertical-align: middle;\n",
       "    }\n",
       "\n",
       "    .dataframe tbody tr th {\n",
       "        vertical-align: top;\n",
       "    }\n",
       "\n",
       "    .dataframe thead th {\n",
       "        text-align: right;\n",
       "    }\n",
       "</style>\n",
       "<table border=\"1\" class=\"dataframe\">\n",
       "  <thead>\n",
       "    <tr style=\"text-align: right;\">\n",
       "      <th></th>\n",
       "      <th>dteday</th>\n",
       "      <th>hour</th>\n",
       "      <th>holiday</th>\n",
       "      <th>workingday</th>\n",
       "      <th>temp</th>\n",
       "      <th>atemp</th>\n",
       "      <th>hum</th>\n",
       "      <th>windspeed</th>\n",
       "      <th>casual</th>\n",
       "      <th>registered</th>\n",
       "      <th>...</th>\n",
       "      <th>month_12</th>\n",
       "      <th>weekday_1</th>\n",
       "      <th>weekday_2</th>\n",
       "      <th>weekday_3</th>\n",
       "      <th>weekday_4</th>\n",
       "      <th>weekday_5</th>\n",
       "      <th>weekday_6</th>\n",
       "      <th>weather_2</th>\n",
       "      <th>weather_3</th>\n",
       "      <th>weather_4</th>\n",
       "    </tr>\n",
       "  </thead>\n",
       "  <tbody>\n",
       "    <tr>\n",
       "      <th>11235</th>\n",
       "      <td>2012-04-18</td>\n",
       "      <td>8</td>\n",
       "      <td>0</td>\n",
       "      <td>1</td>\n",
       "      <td>0.50</td>\n",
       "      <td>0.4848</td>\n",
       "      <td>0.39</td>\n",
       "      <td>0.1940</td>\n",
       "      <td>25</td>\n",
       "      <td>551</td>\n",
       "      <td>...</td>\n",
       "      <td>0</td>\n",
       "      <td>0</td>\n",
       "      <td>0</td>\n",
       "      <td>1</td>\n",
       "      <td>0</td>\n",
       "      <td>0</td>\n",
       "      <td>0</td>\n",
       "      <td>0</td>\n",
       "      <td>1</td>\n",
       "      <td>0</td>\n",
       "    </tr>\n",
       "    <tr>\n",
       "      <th>11277</th>\n",
       "      <td>2012-04-20</td>\n",
       "      <td>2</td>\n",
       "      <td>0</td>\n",
       "      <td>1</td>\n",
       "      <td>0.44</td>\n",
       "      <td>0.4394</td>\n",
       "      <td>0.88</td>\n",
       "      <td>0.1940</td>\n",
       "      <td>3</td>\n",
       "      <td>18</td>\n",
       "      <td>...</td>\n",
       "      <td>0</td>\n",
       "      <td>0</td>\n",
       "      <td>0</td>\n",
       "      <td>0</td>\n",
       "      <td>0</td>\n",
       "      <td>1</td>\n",
       "      <td>0</td>\n",
       "      <td>0</td>\n",
       "      <td>0</td>\n",
       "      <td>0</td>\n",
       "    </tr>\n",
       "    <tr>\n",
       "      <th>11759</th>\n",
       "      <td>2012-05-10</td>\n",
       "      <td>4</td>\n",
       "      <td>0</td>\n",
       "      <td>1</td>\n",
       "      <td>0.46</td>\n",
       "      <td>0.4545</td>\n",
       "      <td>0.77</td>\n",
       "      <td>0.1940</td>\n",
       "      <td>0</td>\n",
       "      <td>2</td>\n",
       "      <td>...</td>\n",
       "      <td>0</td>\n",
       "      <td>0</td>\n",
       "      <td>0</td>\n",
       "      <td>0</td>\n",
       "      <td>1</td>\n",
       "      <td>0</td>\n",
       "      <td>0</td>\n",
       "      <td>0</td>\n",
       "      <td>0</td>\n",
       "      <td>0</td>\n",
       "    </tr>\n",
       "    <tr>\n",
       "      <th>9732</th>\n",
       "      <td>2012-02-15</td>\n",
       "      <td>11</td>\n",
       "      <td>0</td>\n",
       "      <td>1</td>\n",
       "      <td>0.36</td>\n",
       "      <td>0.3333</td>\n",
       "      <td>0.53</td>\n",
       "      <td>0.2836</td>\n",
       "      <td>13</td>\n",
       "      <td>125</td>\n",
       "      <td>...</td>\n",
       "      <td>0</td>\n",
       "      <td>0</td>\n",
       "      <td>0</td>\n",
       "      <td>1</td>\n",
       "      <td>0</td>\n",
       "      <td>0</td>\n",
       "      <td>0</td>\n",
       "      <td>0</td>\n",
       "      <td>0</td>\n",
       "      <td>0</td>\n",
       "    </tr>\n",
       "    <tr>\n",
       "      <th>4876</th>\n",
       "      <td>2011-07-27</td>\n",
       "      <td>2</td>\n",
       "      <td>0</td>\n",
       "      <td>1</td>\n",
       "      <td>0.76</td>\n",
       "      <td>0.6970</td>\n",
       "      <td>0.52</td>\n",
       "      <td>0.2985</td>\n",
       "      <td>1</td>\n",
       "      <td>5</td>\n",
       "      <td>...</td>\n",
       "      <td>0</td>\n",
       "      <td>0</td>\n",
       "      <td>0</td>\n",
       "      <td>1</td>\n",
       "      <td>0</td>\n",
       "      <td>0</td>\n",
       "      <td>0</td>\n",
       "      <td>0</td>\n",
       "      <td>0</td>\n",
       "      <td>0</td>\n",
       "    </tr>\n",
       "  </tbody>\n",
       "</table>\n",
       "<p>5 rows × 35 columns</p>\n",
       "</div>"
      ],
      "text/plain": [
       "          dteday  hour  holiday  workingday  temp   atemp   hum  windspeed  \\\n",
       "11235 2012-04-18     8        0           1  0.50  0.4848  0.39     0.1940   \n",
       "11277 2012-04-20     2        0           1  0.44  0.4394  0.88     0.1940   \n",
       "11759 2012-05-10     4        0           1  0.46  0.4545  0.77     0.1940   \n",
       "9732  2012-02-15    11        0           1  0.36  0.3333  0.53     0.2836   \n",
       "4876  2011-07-27     2        0           1  0.76  0.6970  0.52     0.2985   \n",
       "\n",
       "       casual  registered  ...  month_12  weekday_1  weekday_2  weekday_3  \\\n",
       "11235      25         551  ...         0          0          0          1   \n",
       "11277       3          18  ...         0          0          0          0   \n",
       "11759       0           2  ...         0          0          0          0   \n",
       "9732       13         125  ...         0          0          0          1   \n",
       "4876        1           5  ...         0          0          0          1   \n",
       "\n",
       "       weekday_4  weekday_5  weekday_6  weather_2  weather_3  weather_4  \n",
       "11235          0          0          0          0          1          0  \n",
       "11277          0          1          0          0          0          0  \n",
       "11759          1          0          0          0          0          0  \n",
       "9732           0          0          0          0          0          0  \n",
       "4876           0          0          0          0          0          0  \n",
       "\n",
       "[5 rows x 35 columns]"
      ]
     },
     "execution_count": 23,
     "metadata": {},
     "output_type": "execute_result"
    }
   ],
   "source": [
    "bikes_train.head()"
   ]
  },
  {
   "cell_type": "markdown",
   "metadata": {
    "button": false,
    "new_sheet": false,
    "run_control": {
     "read_only": false
    }
   },
   "source": [
    "**2.5 Although we asked you to create your train and test set...**"
   ]
  },
  {
   "cell_type": "code",
   "execution_count": 24,
   "metadata": {
    "button": false,
    "new_sheet": false,
    "run_control": {
     "read_only": false
    }
   },
   "outputs": [],
   "source": [
    "######\n",
    "# your code here\n",
    "######\n",
    "\n",
    "BSS_train = pd.read_csv('data/BSS_train.csv')\n",
    "BSS_test = pd.read_csv('data/BSS_test.csv')\n",
    "\n",
    "BSS_train.drop(columns = ['dteday'], inplace = True)\n",
    "BSS_test.drop(columns = ['dteday'], inplace = True)"
   ]
  },
  {
   "cell_type": "code",
   "execution_count": 25,
   "metadata": {
    "scrolled": true
   },
   "outputs": [
    {
     "data": {
      "text/html": [
       "<div>\n",
       "<style scoped>\n",
       "    .dataframe tbody tr th:only-of-type {\n",
       "        vertical-align: middle;\n",
       "    }\n",
       "\n",
       "    .dataframe tbody tr th {\n",
       "        vertical-align: top;\n",
       "    }\n",
       "\n",
       "    .dataframe thead th {\n",
       "        text-align: right;\n",
       "    }\n",
       "</style>\n",
       "<table border=\"1\" class=\"dataframe\">\n",
       "  <thead>\n",
       "    <tr style=\"text-align: right;\">\n",
       "      <th></th>\n",
       "      <th>hour</th>\n",
       "      <th>holiday</th>\n",
       "      <th>year</th>\n",
       "      <th>workingday</th>\n",
       "      <th>temp</th>\n",
       "      <th>atemp</th>\n",
       "      <th>hum</th>\n",
       "      <th>windspeed</th>\n",
       "      <th>casual</th>\n",
       "      <th>registered</th>\n",
       "      <th>...</th>\n",
       "      <th>Dec</th>\n",
       "      <th>Mon</th>\n",
       "      <th>Tue</th>\n",
       "      <th>Wed</th>\n",
       "      <th>Thu</th>\n",
       "      <th>Fri</th>\n",
       "      <th>Sat</th>\n",
       "      <th>Cloudy</th>\n",
       "      <th>Snow</th>\n",
       "      <th>Storm</th>\n",
       "    </tr>\n",
       "  </thead>\n",
       "  <tbody>\n",
       "    <tr>\n",
       "      <th>0</th>\n",
       "      <td>5</td>\n",
       "      <td>0</td>\n",
       "      <td>1</td>\n",
       "      <td>0</td>\n",
       "      <td>0.26</td>\n",
       "      <td>0.2273</td>\n",
       "      <td>0.48</td>\n",
       "      <td>0.2985</td>\n",
       "      <td>0</td>\n",
       "      <td>2</td>\n",
       "      <td>...</td>\n",
       "      <td>1</td>\n",
       "      <td>0</td>\n",
       "      <td>0</td>\n",
       "      <td>0</td>\n",
       "      <td>0</td>\n",
       "      <td>0</td>\n",
       "      <td>0</td>\n",
       "      <td>1</td>\n",
       "      <td>0</td>\n",
       "      <td>0</td>\n",
       "    </tr>\n",
       "    <tr>\n",
       "      <th>1</th>\n",
       "      <td>19</td>\n",
       "      <td>0</td>\n",
       "      <td>1</td>\n",
       "      <td>0</td>\n",
       "      <td>0.36</td>\n",
       "      <td>0.3485</td>\n",
       "      <td>0.71</td>\n",
       "      <td>0.1343</td>\n",
       "      <td>29</td>\n",
       "      <td>110</td>\n",
       "      <td>...</td>\n",
       "      <td>0</td>\n",
       "      <td>0</td>\n",
       "      <td>0</td>\n",
       "      <td>0</td>\n",
       "      <td>0</td>\n",
       "      <td>0</td>\n",
       "      <td>1</td>\n",
       "      <td>0</td>\n",
       "      <td>1</td>\n",
       "      <td>0</td>\n",
       "    </tr>\n",
       "    <tr>\n",
       "      <th>2</th>\n",
       "      <td>12</td>\n",
       "      <td>0</td>\n",
       "      <td>1</td>\n",
       "      <td>1</td>\n",
       "      <td>0.36</td>\n",
       "      <td>0.3182</td>\n",
       "      <td>0.53</td>\n",
       "      <td>0.4478</td>\n",
       "      <td>13</td>\n",
       "      <td>213</td>\n",
       "      <td>...</td>\n",
       "      <td>1</td>\n",
       "      <td>0</td>\n",
       "      <td>1</td>\n",
       "      <td>0</td>\n",
       "      <td>0</td>\n",
       "      <td>0</td>\n",
       "      <td>0</td>\n",
       "      <td>1</td>\n",
       "      <td>0</td>\n",
       "      <td>0</td>\n",
       "    </tr>\n",
       "    <tr>\n",
       "      <th>3</th>\n",
       "      <td>0</td>\n",
       "      <td>0</td>\n",
       "      <td>1</td>\n",
       "      <td>1</td>\n",
       "      <td>0.28</td>\n",
       "      <td>0.3030</td>\n",
       "      <td>0.65</td>\n",
       "      <td>0.0896</td>\n",
       "      <td>4</td>\n",
       "      <td>39</td>\n",
       "      <td>...</td>\n",
       "      <td>0</td>\n",
       "      <td>0</td>\n",
       "      <td>0</td>\n",
       "      <td>0</td>\n",
       "      <td>0</td>\n",
       "      <td>1</td>\n",
       "      <td>0</td>\n",
       "      <td>1</td>\n",
       "      <td>0</td>\n",
       "      <td>0</td>\n",
       "    </tr>\n",
       "    <tr>\n",
       "      <th>4</th>\n",
       "      <td>1</td>\n",
       "      <td>0</td>\n",
       "      <td>1</td>\n",
       "      <td>0</td>\n",
       "      <td>0.60</td>\n",
       "      <td>0.5455</td>\n",
       "      <td>0.88</td>\n",
       "      <td>0.1642</td>\n",
       "      <td>31</td>\n",
       "      <td>99</td>\n",
       "      <td>...</td>\n",
       "      <td>0</td>\n",
       "      <td>0</td>\n",
       "      <td>0</td>\n",
       "      <td>0</td>\n",
       "      <td>0</td>\n",
       "      <td>0</td>\n",
       "      <td>0</td>\n",
       "      <td>1</td>\n",
       "      <td>0</td>\n",
       "      <td>0</td>\n",
       "    </tr>\n",
       "  </tbody>\n",
       "</table>\n",
       "<p>5 rows × 34 columns</p>\n",
       "</div>"
      ],
      "text/plain": [
       "   hour  holiday  year  workingday  temp   atemp   hum  windspeed  casual  \\\n",
       "0     5        0     1           0  0.26  0.2273  0.48     0.2985       0   \n",
       "1    19        0     1           0  0.36  0.3485  0.71     0.1343      29   \n",
       "2    12        0     1           1  0.36  0.3182  0.53     0.4478      13   \n",
       "3     0        0     1           1  0.28  0.3030  0.65     0.0896       4   \n",
       "4     1        0     1           0  0.60  0.5455  0.88     0.1642      31   \n",
       "\n",
       "   registered  ...  Dec  Mon  Tue  Wed  Thu  Fri  Sat  Cloudy  Snow  Storm  \n",
       "0           2  ...    1    0    0    0    0    0    0       1     0      0  \n",
       "1         110  ...    0    0    0    0    0    0    1       0     1      0  \n",
       "2         213  ...    1    0    1    0    0    0    0       1     0      0  \n",
       "3          39  ...    0    0    0    0    0    1    0       1     0      0  \n",
       "4          99  ...    0    0    0    0    0    0    0       1     0      0  \n",
       "\n",
       "[5 rows x 34 columns]"
      ]
     },
     "execution_count": 25,
     "metadata": {},
     "output_type": "execute_result"
    }
   ],
   "source": [
    "BSS_test.head()"
   ]
  },
  {
   "cell_type": "code",
   "execution_count": 26,
   "metadata": {},
   "outputs": [
    {
     "data": {
      "text/html": [
       "<div>\n",
       "<style scoped>\n",
       "    .dataframe tbody tr th:only-of-type {\n",
       "        vertical-align: middle;\n",
       "    }\n",
       "\n",
       "    .dataframe tbody tr th {\n",
       "        vertical-align: top;\n",
       "    }\n",
       "\n",
       "    .dataframe thead th {\n",
       "        text-align: right;\n",
       "    }\n",
       "</style>\n",
       "<table border=\"1\" class=\"dataframe\">\n",
       "  <thead>\n",
       "    <tr style=\"text-align: right;\">\n",
       "      <th></th>\n",
       "      <th>hour</th>\n",
       "      <th>holiday</th>\n",
       "      <th>year</th>\n",
       "      <th>workingday</th>\n",
       "      <th>temp</th>\n",
       "      <th>atemp</th>\n",
       "      <th>hum</th>\n",
       "      <th>windspeed</th>\n",
       "      <th>casual</th>\n",
       "      <th>registered</th>\n",
       "      <th>...</th>\n",
       "      <th>Dec</th>\n",
       "      <th>Mon</th>\n",
       "      <th>Tue</th>\n",
       "      <th>Wed</th>\n",
       "      <th>Thu</th>\n",
       "      <th>Fri</th>\n",
       "      <th>Sat</th>\n",
       "      <th>Cloudy</th>\n",
       "      <th>Snow</th>\n",
       "      <th>Storm</th>\n",
       "    </tr>\n",
       "  </thead>\n",
       "  <tbody>\n",
       "    <tr>\n",
       "      <th>0</th>\n",
       "      <td>21</td>\n",
       "      <td>0</td>\n",
       "      <td>1</td>\n",
       "      <td>1</td>\n",
       "      <td>0.24</td>\n",
       "      <td>0.2273</td>\n",
       "      <td>0.60</td>\n",
       "      <td>0.2537</td>\n",
       "      <td>12</td>\n",
       "      <td>51</td>\n",
       "      <td>...</td>\n",
       "      <td>1</td>\n",
       "      <td>0</td>\n",
       "      <td>0</td>\n",
       "      <td>0</td>\n",
       "      <td>1</td>\n",
       "      <td>0</td>\n",
       "      <td>0</td>\n",
       "      <td>1</td>\n",
       "      <td>0</td>\n",
       "      <td>0</td>\n",
       "    </tr>\n",
       "    <tr>\n",
       "      <th>1</th>\n",
       "      <td>17</td>\n",
       "      <td>0</td>\n",
       "      <td>0</td>\n",
       "      <td>1</td>\n",
       "      <td>0.62</td>\n",
       "      <td>0.5758</td>\n",
       "      <td>0.83</td>\n",
       "      <td>0.2537</td>\n",
       "      <td>47</td>\n",
       "      <td>432</td>\n",
       "      <td>...</td>\n",
       "      <td>0</td>\n",
       "      <td>0</td>\n",
       "      <td>0</td>\n",
       "      <td>0</td>\n",
       "      <td>1</td>\n",
       "      <td>0</td>\n",
       "      <td>0</td>\n",
       "      <td>0</td>\n",
       "      <td>1</td>\n",
       "      <td>0</td>\n",
       "    </tr>\n",
       "    <tr>\n",
       "      <th>2</th>\n",
       "      <td>9</td>\n",
       "      <td>0</td>\n",
       "      <td>1</td>\n",
       "      <td>1</td>\n",
       "      <td>0.76</td>\n",
       "      <td>0.7273</td>\n",
       "      <td>0.66</td>\n",
       "      <td>0.1642</td>\n",
       "      <td>54</td>\n",
       "      <td>299</td>\n",
       "      <td>...</td>\n",
       "      <td>0</td>\n",
       "      <td>0</td>\n",
       "      <td>0</td>\n",
       "      <td>0</td>\n",
       "      <td>1</td>\n",
       "      <td>0</td>\n",
       "      <td>0</td>\n",
       "      <td>0</td>\n",
       "      <td>0</td>\n",
       "      <td>0</td>\n",
       "    </tr>\n",
       "    <tr>\n",
       "      <th>3</th>\n",
       "      <td>17</td>\n",
       "      <td>0</td>\n",
       "      <td>1</td>\n",
       "      <td>0</td>\n",
       "      <td>0.62</td>\n",
       "      <td>0.6061</td>\n",
       "      <td>0.22</td>\n",
       "      <td>0.2985</td>\n",
       "      <td>185</td>\n",
       "      <td>226</td>\n",
       "      <td>...</td>\n",
       "      <td>0</td>\n",
       "      <td>0</td>\n",
       "      <td>0</td>\n",
       "      <td>0</td>\n",
       "      <td>0</td>\n",
       "      <td>0</td>\n",
       "      <td>0</td>\n",
       "      <td>0</td>\n",
       "      <td>0</td>\n",
       "      <td>0</td>\n",
       "    </tr>\n",
       "    <tr>\n",
       "      <th>4</th>\n",
       "      <td>8</td>\n",
       "      <td>0</td>\n",
       "      <td>1</td>\n",
       "      <td>0</td>\n",
       "      <td>0.18</td>\n",
       "      <td>0.1970</td>\n",
       "      <td>0.40</td>\n",
       "      <td>0.1343</td>\n",
       "      <td>9</td>\n",
       "      <td>61</td>\n",
       "      <td>...</td>\n",
       "      <td>0</td>\n",
       "      <td>0</td>\n",
       "      <td>0</td>\n",
       "      <td>0</td>\n",
       "      <td>0</td>\n",
       "      <td>0</td>\n",
       "      <td>0</td>\n",
       "      <td>0</td>\n",
       "      <td>0</td>\n",
       "      <td>0</td>\n",
       "    </tr>\n",
       "  </tbody>\n",
       "</table>\n",
       "<p>5 rows × 34 columns</p>\n",
       "</div>"
      ],
      "text/plain": [
       "   hour  holiday  year  workingday  temp   atemp   hum  windspeed  casual  \\\n",
       "0    21        0     1           1  0.24  0.2273  0.60     0.2537      12   \n",
       "1    17        0     0           1  0.62  0.5758  0.83     0.2537      47   \n",
       "2     9        0     1           1  0.76  0.7273  0.66     0.1642      54   \n",
       "3    17        0     1           0  0.62  0.6061  0.22     0.2985     185   \n",
       "4     8        0     1           0  0.18  0.1970  0.40     0.1343       9   \n",
       "\n",
       "   registered  ...  Dec  Mon  Tue  Wed  Thu  Fri  Sat  Cloudy  Snow  Storm  \n",
       "0          51  ...    1    0    0    0    1    0    0       1     0      0  \n",
       "1         432  ...    0    0    0    0    1    0    0       0     1      0  \n",
       "2         299  ...    0    0    0    0    1    0    0       0     0      0  \n",
       "3         226  ...    0    0    0    0    0    0    0       0     0      0  \n",
       "4          61  ...    0    0    0    0    0    0    0       0     0      0  \n",
       "\n",
       "[5 rows x 34 columns]"
      ]
     },
     "execution_count": 26,
     "metadata": {},
     "output_type": "execute_result"
    }
   ],
   "source": [
    "BSS_train.head()"
   ]
  },
  {
   "cell_type": "markdown",
   "metadata": {
    "button": false,
    "new_sheet": false,
    "run_control": {
     "read_only": false
    }
   },
   "source": [
    "**2.6 Make a plot showing the _average_ number of casual and registered riders...**"
   ]
  },
  {
   "cell_type": "code",
   "execution_count": 27,
   "metadata": {
    "button": false,
    "new_sheet": false,
    "run_control": {
     "read_only": false
    }
   },
   "outputs": [
    {
     "data": {
      "image/png": "[encoded data removed]",
      "text/plain": [
       "<Figure size 864x576 with 1 Axes>"
      ]
     },
     "metadata": {
      "needs_background": "light"
     },
     "output_type": "display_data"
    }
   ],
   "source": [
    "BSS_train_hour = BSS_train.groupby(['hour']).agg({\n",
    "    'casual': np.mean,\n",
    "    'registered': np.mean\n",
    "}).reset_index()\n",
    "\n",
    "plt.figure(figsize=(12,8))\n",
    "plt.plot(BSS_train_hour['hour'], BSS_train_hour['casual'], label='Casual')\n",
    "plt.plot(BSS_train_hour['hour'], BSS_train_hour['registered'], label='Registered')\n",
    "plt.xlabel('Hour of Day (0-24)')\n",
    "plt.ylabel('Average Number of Rentals')\n",
    "plt.title('Average Number of Rentals Per Hour (Casual vs. Registered)')\n",
    "plt.legend()\n",
    "plt.show()"
   ]
  },
  {
   "cell_type": "markdown",
   "metadata": {},
   "source": [
    "For registered users, on average, there is a spike in usage during commuting hours for both morning and night, whereas casual users tend to rent during the afternoons. We saw in previous boxplots that weekdays (Mon-Fri) seem to have higher number of rentals than that of the weekend days for registered users. Therefore, registered users may rely on bike rentals for commute. However, for casual users weekend rentals seem to be more common based on previous box plots. Therefore, casual users may have less need for rental bikes during commuting hours and instead, rent for leisure.  "
   ]
  },
  {
   "cell_type": "markdown",
   "metadata": {},
   "source": [
    "---"
   ]
  },
  {
   "cell_type": "markdown",
   "metadata": {
    "button": false,
    "new_sheet": false,
    "run_control": {
     "read_only": false
    }
   },
   "source": [
    "<div class='exercise'> <b> Question 3 [14pts]: Multiple Linear Regression to Predict Hourly Ridership </b> </div>\n",
    "\n",
    "\n",
    "**3.1** Use statsmodels to fit a multiple linear regression model to the training set using all the useable predictors (nothing that `count` was derived of and no interactions or polynomial terms) to predict `counts`, and report its $R^2$ score on the train and test sets.  Call this set of predictors `X_train`.\n",
    "\n",
    "**3.2** Examine the estimated coefficients and report which ones are statistically significant at a significance level of 5% (p-value < 0.05). \n",
    "\n",
    "**3.3** You should see some strange estimates for the predictors representing months.  Carefully interpret the `July` coefficient, and explain why this result is likely occurring (be as specific as possible). \n",
    "\n",
    "**3.4** To diagnose the model, make two plots: first a histogram of the residuals, and second a plot of the residuals of the fitted model ${e} = y - \\hat{y}$ as a function of the predicted value $\\hat{y}$. Draw a horizontal line denoting the zero residual value on the Y-axis. What do the plots reveal about the OLS assumptions (linearity, constant variance, and normality)?\n"
   ]
  },
  {
   "cell_type": "markdown",
   "metadata": {
    "button": false,
    "new_sheet": false,
    "run_control": {
     "read_only": false
    }
   },
   "source": [
    "### Answers"
   ]
  },
  {
   "cell_type": "markdown",
   "metadata": {
    "button": false,
    "new_sheet": false,
    "run_control": {
     "read_only": false
    }
   },
   "source": [
    "**3.1 Use statsmodels to fit a multiple linear regression model...**"
   ]
  },
  {
   "cell_type": "code",
   "execution_count": 28,
   "metadata": {
    "button": false,
    "new_sheet": false,
    "run_control": {
     "read_only": false
    }
   },
   "outputs": [],
   "source": [
    "trivial_cols = ['casual','registered']\n",
    "\n",
    "BSS_train = BSS_train.drop(trivial_cols, axis=1)\n",
    "BSS_test = BSS_test.drop(trivial_cols, axis=1)"
   ]
  },
  {
   "cell_type": "code",
   "execution_count": 29,
   "metadata": {},
   "outputs": [
    {
     "data": {
      "text/html": [
       "<div>\n",
       "<style scoped>\n",
       "    .dataframe tbody tr th:only-of-type {\n",
       "        vertical-align: middle;\n",
       "    }\n",
       "\n",
       "    .dataframe tbody tr th {\n",
       "        vertical-align: top;\n",
       "    }\n",
       "\n",
       "    .dataframe thead th {\n",
       "        text-align: right;\n",
       "    }\n",
       "</style>\n",
       "<table border=\"1\" class=\"dataframe\">\n",
       "  <thead>\n",
       "    <tr style=\"text-align: right;\">\n",
       "      <th></th>\n",
       "      <th>hour</th>\n",
       "      <th>holiday</th>\n",
       "      <th>year</th>\n",
       "      <th>workingday</th>\n",
       "      <th>temp</th>\n",
       "      <th>atemp</th>\n",
       "      <th>hum</th>\n",
       "      <th>windspeed</th>\n",
       "      <th>counts</th>\n",
       "      <th>spring</th>\n",
       "      <th>...</th>\n",
       "      <th>Dec</th>\n",
       "      <th>Mon</th>\n",
       "      <th>Tue</th>\n",
       "      <th>Wed</th>\n",
       "      <th>Thu</th>\n",
       "      <th>Fri</th>\n",
       "      <th>Sat</th>\n",
       "      <th>Cloudy</th>\n",
       "      <th>Snow</th>\n",
       "      <th>Storm</th>\n",
       "    </tr>\n",
       "  </thead>\n",
       "  <tbody>\n",
       "    <tr>\n",
       "      <th>0</th>\n",
       "      <td>21</td>\n",
       "      <td>0</td>\n",
       "      <td>1</td>\n",
       "      <td>1</td>\n",
       "      <td>0.24</td>\n",
       "      <td>0.2273</td>\n",
       "      <td>0.60</td>\n",
       "      <td>0.2537</td>\n",
       "      <td>63</td>\n",
       "      <td>0</td>\n",
       "      <td>...</td>\n",
       "      <td>1</td>\n",
       "      <td>0</td>\n",
       "      <td>0</td>\n",
       "      <td>0</td>\n",
       "      <td>1</td>\n",
       "      <td>0</td>\n",
       "      <td>0</td>\n",
       "      <td>1</td>\n",
       "      <td>0</td>\n",
       "      <td>0</td>\n",
       "    </tr>\n",
       "    <tr>\n",
       "      <th>1</th>\n",
       "      <td>17</td>\n",
       "      <td>0</td>\n",
       "      <td>0</td>\n",
       "      <td>1</td>\n",
       "      <td>0.62</td>\n",
       "      <td>0.5758</td>\n",
       "      <td>0.83</td>\n",
       "      <td>0.2537</td>\n",
       "      <td>479</td>\n",
       "      <td>0</td>\n",
       "      <td>...</td>\n",
       "      <td>0</td>\n",
       "      <td>0</td>\n",
       "      <td>0</td>\n",
       "      <td>0</td>\n",
       "      <td>1</td>\n",
       "      <td>0</td>\n",
       "      <td>0</td>\n",
       "      <td>0</td>\n",
       "      <td>1</td>\n",
       "      <td>0</td>\n",
       "    </tr>\n",
       "    <tr>\n",
       "      <th>2</th>\n",
       "      <td>9</td>\n",
       "      <td>0</td>\n",
       "      <td>1</td>\n",
       "      <td>1</td>\n",
       "      <td>0.76</td>\n",
       "      <td>0.7273</td>\n",
       "      <td>0.66</td>\n",
       "      <td>0.1642</td>\n",
       "      <td>353</td>\n",
       "      <td>0</td>\n",
       "      <td>...</td>\n",
       "      <td>0</td>\n",
       "      <td>0</td>\n",
       "      <td>0</td>\n",
       "      <td>0</td>\n",
       "      <td>1</td>\n",
       "      <td>0</td>\n",
       "      <td>0</td>\n",
       "      <td>0</td>\n",
       "      <td>0</td>\n",
       "      <td>0</td>\n",
       "    </tr>\n",
       "    <tr>\n",
       "      <th>3</th>\n",
       "      <td>17</td>\n",
       "      <td>0</td>\n",
       "      <td>1</td>\n",
       "      <td>0</td>\n",
       "      <td>0.62</td>\n",
       "      <td>0.6061</td>\n",
       "      <td>0.22</td>\n",
       "      <td>0.2985</td>\n",
       "      <td>411</td>\n",
       "      <td>1</td>\n",
       "      <td>...</td>\n",
       "      <td>0</td>\n",
       "      <td>0</td>\n",
       "      <td>0</td>\n",
       "      <td>0</td>\n",
       "      <td>0</td>\n",
       "      <td>0</td>\n",
       "      <td>0</td>\n",
       "      <td>0</td>\n",
       "      <td>0</td>\n",
       "      <td>0</td>\n",
       "    </tr>\n",
       "    <tr>\n",
       "      <th>4</th>\n",
       "      <td>8</td>\n",
       "      <td>0</td>\n",
       "      <td>1</td>\n",
       "      <td>0</td>\n",
       "      <td>0.18</td>\n",
       "      <td>0.1970</td>\n",
       "      <td>0.40</td>\n",
       "      <td>0.1343</td>\n",
       "      <td>70</td>\n",
       "      <td>0</td>\n",
       "      <td>...</td>\n",
       "      <td>0</td>\n",
       "      <td>0</td>\n",
       "      <td>0</td>\n",
       "      <td>0</td>\n",
       "      <td>0</td>\n",
       "      <td>0</td>\n",
       "      <td>0</td>\n",
       "      <td>0</td>\n",
       "      <td>0</td>\n",
       "      <td>0</td>\n",
       "    </tr>\n",
       "  </tbody>\n",
       "</table>\n",
       "<p>5 rows × 32 columns</p>\n",
       "</div>"
      ],
      "text/plain": [
       "   hour  holiday  year  workingday  temp   atemp   hum  windspeed  counts  \\\n",
       "0    21        0     1           1  0.24  0.2273  0.60     0.2537      63   \n",
       "1    17        0     0           1  0.62  0.5758  0.83     0.2537     479   \n",
       "2     9        0     1           1  0.76  0.7273  0.66     0.1642     353   \n",
       "3    17        0     1           0  0.62  0.6061  0.22     0.2985     411   \n",
       "4     8        0     1           0  0.18  0.1970  0.40     0.1343      70   \n",
       "\n",
       "   spring  ...  Dec  Mon  Tue  Wed  Thu  Fri  Sat  Cloudy  Snow  Storm  \n",
       "0       0  ...    1    0    0    0    1    0    0       1     0      0  \n",
       "1       0  ...    0    0    0    0    1    0    0       0     1      0  \n",
       "2       0  ...    0    0    0    0    1    0    0       0     0      0  \n",
       "3       1  ...    0    0    0    0    0    0    0       0     0      0  \n",
       "4       0  ...    0    0    0    0    0    0    0       0     0      0  \n",
       "\n",
       "[5 rows x 32 columns]"
      ]
     },
     "execution_count": 29,
     "metadata": {},
     "output_type": "execute_result"
    }
   ],
   "source": [
    "BSS_train.head()"
   ]
  },
  {
   "cell_type": "code",
   "execution_count": 30,
   "metadata": {},
   "outputs": [
    {
     "data": {
      "text/html": [
       "<div>\n",
       "<style scoped>\n",
       "    .dataframe tbody tr th:only-of-type {\n",
       "        vertical-align: middle;\n",
       "    }\n",
       "\n",
       "    .dataframe tbody tr th {\n",
       "        vertical-align: top;\n",
       "    }\n",
       "\n",
       "    .dataframe thead th {\n",
       "        text-align: right;\n",
       "    }\n",
       "</style>\n",
       "<table border=\"1\" class=\"dataframe\">\n",
       "  <thead>\n",
       "    <tr style=\"text-align: right;\">\n",
       "      <th></th>\n",
       "      <th>hour</th>\n",
       "      <th>holiday</th>\n",
       "      <th>year</th>\n",
       "      <th>workingday</th>\n",
       "      <th>temp</th>\n",
       "      <th>atemp</th>\n",
       "      <th>hum</th>\n",
       "      <th>windspeed</th>\n",
       "      <th>counts</th>\n",
       "      <th>spring</th>\n",
       "      <th>...</th>\n",
       "      <th>Dec</th>\n",
       "      <th>Mon</th>\n",
       "      <th>Tue</th>\n",
       "      <th>Wed</th>\n",
       "      <th>Thu</th>\n",
       "      <th>Fri</th>\n",
       "      <th>Sat</th>\n",
       "      <th>Cloudy</th>\n",
       "      <th>Snow</th>\n",
       "      <th>Storm</th>\n",
       "    </tr>\n",
       "  </thead>\n",
       "  <tbody>\n",
       "    <tr>\n",
       "      <th>count</th>\n",
       "      <td>8689.000000</td>\n",
       "      <td>8689.000000</td>\n",
       "      <td>8689.000000</td>\n",
       "      <td>8689.000000</td>\n",
       "      <td>8689.000000</td>\n",
       "      <td>8689.000000</td>\n",
       "      <td>8689.000000</td>\n",
       "      <td>8689.000000</td>\n",
       "      <td>8689.000000</td>\n",
       "      <td>8689.000000</td>\n",
       "      <td>...</td>\n",
       "      <td>8689.000000</td>\n",
       "      <td>8689.000000</td>\n",
       "      <td>8689.000000</td>\n",
       "      <td>8689.000000</td>\n",
       "      <td>8689.000000</td>\n",
       "      <td>8689.000000</td>\n",
       "      <td>8689.000000</td>\n",
       "      <td>8689.000000</td>\n",
       "      <td>8689.000000</td>\n",
       "      <td>8689.000000</td>\n",
       "    </tr>\n",
       "    <tr>\n",
       "      <th>mean</th>\n",
       "      <td>11.597537</td>\n",
       "      <td>0.029347</td>\n",
       "      <td>0.503395</td>\n",
       "      <td>0.683048</td>\n",
       "      <td>0.496405</td>\n",
       "      <td>0.475399</td>\n",
       "      <td>0.625256</td>\n",
       "      <td>0.190616</td>\n",
       "      <td>190.381517</td>\n",
       "      <td>0.250316</td>\n",
       "      <td>...</td>\n",
       "      <td>0.085280</td>\n",
       "      <td>0.144205</td>\n",
       "      <td>0.137875</td>\n",
       "      <td>0.141788</td>\n",
       "      <td>0.144551</td>\n",
       "      <td>0.143975</td>\n",
       "      <td>0.146047</td>\n",
       "      <td>0.257567</td>\n",
       "      <td>0.083324</td>\n",
       "      <td>0.000230</td>\n",
       "    </tr>\n",
       "    <tr>\n",
       "      <th>std</th>\n",
       "      <td>6.960206</td>\n",
       "      <td>0.168788</td>\n",
       "      <td>0.500017</td>\n",
       "      <td>0.465316</td>\n",
       "      <td>0.192561</td>\n",
       "      <td>0.171993</td>\n",
       "      <td>0.192281</td>\n",
       "      <td>0.123252</td>\n",
       "      <td>181.432185</td>\n",
       "      <td>0.433220</td>\n",
       "      <td>...</td>\n",
       "      <td>0.279314</td>\n",
       "      <td>0.351318</td>\n",
       "      <td>0.344789</td>\n",
       "      <td>0.348853</td>\n",
       "      <td>0.351667</td>\n",
       "      <td>0.351085</td>\n",
       "      <td>0.353173</td>\n",
       "      <td>0.437319</td>\n",
       "      <td>0.276387</td>\n",
       "      <td>0.015171</td>\n",
       "    </tr>\n",
       "    <tr>\n",
       "      <th>min</th>\n",
       "      <td>0.000000</td>\n",
       "      <td>0.000000</td>\n",
       "      <td>0.000000</td>\n",
       "      <td>0.000000</td>\n",
       "      <td>0.020000</td>\n",
       "      <td>0.000000</td>\n",
       "      <td>0.000000</td>\n",
       "      <td>0.000000</td>\n",
       "      <td>1.000000</td>\n",
       "      <td>0.000000</td>\n",
       "      <td>...</td>\n",
       "      <td>0.000000</td>\n",
       "      <td>0.000000</td>\n",
       "      <td>0.000000</td>\n",
       "      <td>0.000000</td>\n",
       "      <td>0.000000</td>\n",
       "      <td>0.000000</td>\n",
       "      <td>0.000000</td>\n",
       "      <td>0.000000</td>\n",
       "      <td>0.000000</td>\n",
       "      <td>0.000000</td>\n",
       "    </tr>\n",
       "    <tr>\n",
       "      <th>25%</th>\n",
       "      <td>6.000000</td>\n",
       "      <td>0.000000</td>\n",
       "      <td>0.000000</td>\n",
       "      <td>0.000000</td>\n",
       "      <td>0.340000</td>\n",
       "      <td>0.333300</td>\n",
       "      <td>0.480000</td>\n",
       "      <td>0.104500</td>\n",
       "      <td>40.000000</td>\n",
       "      <td>0.000000</td>\n",
       "      <td>...</td>\n",
       "      <td>0.000000</td>\n",
       "      <td>0.000000</td>\n",
       "      <td>0.000000</td>\n",
       "      <td>0.000000</td>\n",
       "      <td>0.000000</td>\n",
       "      <td>0.000000</td>\n",
       "      <td>0.000000</td>\n",
       "      <td>0.000000</td>\n",
       "      <td>0.000000</td>\n",
       "      <td>0.000000</td>\n",
       "    </tr>\n",
       "    <tr>\n",
       "      <th>50%</th>\n",
       "      <td>12.000000</td>\n",
       "      <td>0.000000</td>\n",
       "      <td>1.000000</td>\n",
       "      <td>1.000000</td>\n",
       "      <td>0.500000</td>\n",
       "      <td>0.484800</td>\n",
       "      <td>0.620000</td>\n",
       "      <td>0.194000</td>\n",
       "      <td>144.000000</td>\n",
       "      <td>0.000000</td>\n",
       "      <td>...</td>\n",
       "      <td>0.000000</td>\n",
       "      <td>0.000000</td>\n",
       "      <td>0.000000</td>\n",
       "      <td>0.000000</td>\n",
       "      <td>0.000000</td>\n",
       "      <td>0.000000</td>\n",
       "      <td>0.000000</td>\n",
       "      <td>0.000000</td>\n",
       "      <td>0.000000</td>\n",
       "      <td>0.000000</td>\n",
       "    </tr>\n",
       "    <tr>\n",
       "      <th>75%</th>\n",
       "      <td>18.000000</td>\n",
       "      <td>0.000000</td>\n",
       "      <td>1.000000</td>\n",
       "      <td>1.000000</td>\n",
       "      <td>0.660000</td>\n",
       "      <td>0.621200</td>\n",
       "      <td>0.780000</td>\n",
       "      <td>0.253700</td>\n",
       "      <td>284.000000</td>\n",
       "      <td>1.000000</td>\n",
       "      <td>...</td>\n",
       "      <td>0.000000</td>\n",
       "      <td>0.000000</td>\n",
       "      <td>0.000000</td>\n",
       "      <td>0.000000</td>\n",
       "      <td>0.000000</td>\n",
       "      <td>0.000000</td>\n",
       "      <td>0.000000</td>\n",
       "      <td>1.000000</td>\n",
       "      <td>0.000000</td>\n",
       "      <td>0.000000</td>\n",
       "    </tr>\n",
       "    <tr>\n",
       "      <th>max</th>\n",
       "      <td>23.000000</td>\n",
       "      <td>1.000000</td>\n",
       "      <td>1.000000</td>\n",
       "      <td>1.000000</td>\n",
       "      <td>0.980000</td>\n",
       "      <td>0.984800</td>\n",
       "      <td>1.000000</td>\n",
       "      <td>0.850700</td>\n",
       "      <td>977.000000</td>\n",
       "      <td>1.000000</td>\n",
       "      <td>...</td>\n",
       "      <td>1.000000</td>\n",
       "      <td>1.000000</td>\n",
       "      <td>1.000000</td>\n",
       "      <td>1.000000</td>\n",
       "      <td>1.000000</td>\n",
       "      <td>1.000000</td>\n",
       "      <td>1.000000</td>\n",
       "      <td>1.000000</td>\n",
       "      <td>1.000000</td>\n",
       "      <td>1.000000</td>\n",
       "    </tr>\n",
       "  </tbody>\n",
       "</table>\n",
       "<p>8 rows × 32 columns</p>\n",
       "</div>"
      ],
      "text/plain": [
       "              hour      holiday         year   workingday         temp  \\\n",
       "count  8689.000000  8689.000000  8689.000000  8689.000000  8689.000000   \n",
       "mean     11.597537     0.029347     0.503395     0.683048     0.496405   \n",
       "std       6.960206     0.168788     0.500017     0.465316     0.192561   \n",
       "min       0.000000     0.000000     0.000000     0.000000     0.020000   \n",
       "25%       6.000000     0.000000     0.000000     0.000000     0.340000   \n",
       "50%      12.000000     0.000000     1.000000     1.000000     0.500000   \n",
       "75%      18.000000     0.000000     1.000000     1.000000     0.660000   \n",
       "max      23.000000     1.000000     1.000000     1.000000     0.980000   \n",
       "\n",
       "             atemp          hum    windspeed       counts       spring  ...  \\\n",
       "count  8689.000000  8689.000000  8689.000000  8689.000000  8689.000000  ...   \n",
       "mean      0.475399     0.625256     0.190616   190.381517     0.250316  ...   \n",
       "std       0.171993     0.192281     0.123252   181.432185     0.433220  ...   \n",
       "min       0.000000     0.000000     0.000000     1.000000     0.000000  ...   \n",
       "25%       0.333300     0.480000     0.104500    40.000000     0.000000  ...   \n",
       "50%       0.484800     0.620000     0.194000   144.000000     0.000000  ...   \n",
       "75%       0.621200     0.780000     0.253700   284.000000     1.000000  ...   \n",
       "max       0.984800     1.000000     0.850700   977.000000     1.000000  ...   \n",
       "\n",
       "               Dec          Mon          Tue          Wed          Thu  \\\n",
       "count  8689.000000  8689.000000  8689.000000  8689.000000  8689.000000   \n",
       "mean      0.085280     0.144205     0.137875     0.141788     0.144551   \n",
       "std       0.279314     0.351318     0.344789     0.348853     0.351667   \n",
       "min       0.000000     0.000000     0.000000     0.000000     0.000000   \n",
       "25%       0.000000     0.000000     0.000000     0.000000     0.000000   \n",
       "50%       0.000000     0.000000     0.000000     0.000000     0.000000   \n",
       "75%       0.000000     0.000000     0.000000     0.000000     0.000000   \n",
       "max       1.000000     1.000000     1.000000     1.000000     1.000000   \n",
       "\n",
       "               Fri          Sat       Cloudy         Snow        Storm  \n",
       "count  8689.000000  8689.000000  8689.000000  8689.000000  8689.000000  \n",
       "mean      0.143975     0.146047     0.257567     0.083324     0.000230  \n",
       "std       0.351085     0.353173     0.437319     0.276387     0.015171  \n",
       "min       0.000000     0.000000     0.000000     0.000000     0.000000  \n",
       "25%       0.000000     0.000000     0.000000     0.000000     0.000000  \n",
       "50%       0.000000     0.000000     0.000000     0.000000     0.000000  \n",
       "75%       0.000000     0.000000     1.000000     0.000000     0.000000  \n",
       "max       1.000000     1.000000     1.000000     1.000000     1.000000  \n",
       "\n",
       "[8 rows x 32 columns]"
      ]
     },
     "execution_count": 30,
     "metadata": {},
     "output_type": "execute_result"
    }
   ],
   "source": [
    "BSS_train.describe()"
   ]
  },
  {
   "cell_type": "code",
   "execution_count": 31,
   "metadata": {},
   "outputs": [
    {
     "data": {
      "text/plain": [
       "hour            int64\n",
       "holiday         int64\n",
       "year            int64\n",
       "workingday      int64\n",
       "temp          float64\n",
       "atemp         float64\n",
       "hum           float64\n",
       "windspeed     float64\n",
       "counts          int64\n",
       "spring          int64\n",
       "summer          int64\n",
       "fall            int64\n",
       "Feb             int64\n",
       "Mar             int64\n",
       "Apr             int64\n",
       "May             int64\n",
       "Jun             int64\n",
       "Jul             int64\n",
       "Aug             int64\n",
       "Sept            int64\n",
       "Oct             int64\n",
       "Nov             int64\n",
       "Dec             int64\n",
       "Mon             int64\n",
       "Tue             int64\n",
       "Wed             int64\n",
       "Thu             int64\n",
       "Fri             int64\n",
       "Sat             int64\n",
       "Cloudy          int64\n",
       "Snow            int64\n",
       "Storm           int64\n",
       "dtype: object"
      ]
     },
     "execution_count": 31,
     "metadata": {},
     "output_type": "execute_result"
    }
   ],
   "source": [
    "#since all categorical variables with more than 2 classes have been one-hot encoded, I have not changed the data types\n",
    "# In python, int and float arithmetic is handled as a float, so I have not converted integer variables to floats\n",
    "BSS_train.dtypes"
   ]
  },
  {
   "cell_type": "code",
   "execution_count": 32,
   "metadata": {
    "button": false,
    "new_sheet": false,
    "run_control": {
     "read_only": false
    }
   },
   "outputs": [
    {
     "name": "stdout",
     "output_type": "stream",
     "text": [
      "The R-squared score on training set is 0.41157.\n",
      "The R-squared score on the test set is 0.40072.\n"
     ]
    }
   ],
   "source": [
    "######\n",
    "# your code here\n",
    "######\n",
    "\n",
    "X_train = BSS_train.drop(columns =['counts'])\n",
    "X = sm.add_constant(X_train)\n",
    "model = OLS(BSS_train.counts, X).fit()\n",
    "\n",
    "print(f'The R-squared score on training set is {round(model.rsquared, 5)}.')\n",
    "\n",
    "\n",
    "X_test = BSS_test.drop(columns =['counts'])\n",
    "Xnew = sm.add_constant(X_test)\n",
    "pred_test = model.predict(Xnew)\n",
    "\n",
    "print(f'The R-squared score on the test set is {round(r2_score(BSS_test.counts.values, pred_test.values), 5)}.')"
   ]
  },
  {
   "cell_type": "markdown",
   "metadata": {
    "button": false,
    "new_sheet": false,
    "run_control": {
     "read_only": false
    }
   },
   "source": [
    "**3.2 Examine the estimated coefficients and report...**"
   ]
  },
  {
   "cell_type": "code",
   "execution_count": 33,
   "metadata": {
    "button": false,
    "new_sheet": false,
    "run_control": {
     "read_only": false
    },
    "scrolled": true
   },
   "outputs": [
    {
     "data": {
      "text/html": [
       "<table class=\"simpletable\">\n",
       "<caption>OLS Regression Results</caption>\n",
       "<tr>\n",
       "  <th>Dep. Variable:</th>         <td>counts</td>      <th>  R-squared:         </th> <td>   0.412</td> \n",
       "</tr>\n",
       "<tr>\n",
       "  <th>Model:</th>                   <td>OLS</td>       <th>  Adj. R-squared:    </th> <td>   0.410</td> \n",
       "</tr>\n",
       "<tr>\n",
       "  <th>Method:</th>             <td>Least Squares</td>  <th>  F-statistic:       </th> <td>   201.9</td> \n",
       "</tr>\n",
       "<tr>\n",
       "  <th>Date:</th>             <td>Wed, 15 Jul 2020</td> <th>  Prob (F-statistic):</th>  <td>  0.00</td>  \n",
       "</tr>\n",
       "<tr>\n",
       "  <th>Time:</th>                 <td>17:48:24</td>     <th>  Log-Likelihood:    </th> <td> -55215.</td> \n",
       "</tr>\n",
       "<tr>\n",
       "  <th>No. Observations:</th>      <td>  8689</td>      <th>  AIC:               </th> <td>1.105e+05</td>\n",
       "</tr>\n",
       "<tr>\n",
       "  <th>Df Residuals:</th>          <td>  8658</td>      <th>  BIC:               </th> <td>1.107e+05</td>\n",
       "</tr>\n",
       "<tr>\n",
       "  <th>Df Model:</th>              <td>    30</td>      <th>                     </th>     <td> </td>    \n",
       "</tr>\n",
       "<tr>\n",
       "  <th>Covariance Type:</th>      <td>nonrobust</td>    <th>                     </th>     <td> </td>    \n",
       "</tr>\n",
       "</table>\n",
       "<table class=\"simpletable\">\n",
       "<tr>\n",
       "       <td></td>         <th>coef</th>     <th>std err</th>      <th>t</th>      <th>P>|t|</th>  <th>[0.025</th>    <th>0.975]</th>  \n",
       "</tr>\n",
       "<tr>\n",
       "  <th>const</th>      <td>  -30.4075</td> <td>   10.908</td> <td>   -2.788</td> <td> 0.005</td> <td>  -51.789</td> <td>   -9.026</td>\n",
       "</tr>\n",
       "<tr>\n",
       "  <th>hour</th>       <td>    7.2092</td> <td>    0.233</td> <td>   30.975</td> <td> 0.000</td> <td>    6.753</td> <td>    7.665</td>\n",
       "</tr>\n",
       "<tr>\n",
       "  <th>holiday</th>    <td>  -19.1510</td> <td>    8.369</td> <td>   -2.288</td> <td> 0.022</td> <td>  -35.556</td> <td>   -2.746</td>\n",
       "</tr>\n",
       "<tr>\n",
       "  <th>year</th>       <td>   78.1211</td> <td>    3.020</td> <td>   25.864</td> <td> 0.000</td> <td>   72.200</td> <td>   84.042</td>\n",
       "</tr>\n",
       "<tr>\n",
       "  <th>workingday</th> <td>   10.9484</td> <td>    3.512</td> <td>    3.118</td> <td> 0.002</td> <td>    4.065</td> <td>   17.832</td>\n",
       "</tr>\n",
       "<tr>\n",
       "  <th>temp</th>       <td>  273.6625</td> <td>   61.680</td> <td>    4.437</td> <td> 0.000</td> <td>  152.755</td> <td>  394.570</td>\n",
       "</tr>\n",
       "<tr>\n",
       "  <th>atemp</th>      <td>  162.5353</td> <td>   64.909</td> <td>    2.504</td> <td> 0.012</td> <td>   35.298</td> <td>  289.773</td>\n",
       "</tr>\n",
       "<tr>\n",
       "  <th>hum</th>        <td> -202.0080</td> <td>    9.927</td> <td>  -20.349</td> <td> 0.000</td> <td> -221.468</td> <td> -182.548</td>\n",
       "</tr>\n",
       "<tr>\n",
       "  <th>windspeed</th>  <td>   19.3827</td> <td>   13.595</td> <td>    1.426</td> <td> 0.154</td> <td>   -7.268</td> <td>   46.033</td>\n",
       "</tr>\n",
       "<tr>\n",
       "  <th>spring</th>     <td>   50.0754</td> <td>    9.528</td> <td>    5.256</td> <td> 0.000</td> <td>   31.398</td> <td>   68.753</td>\n",
       "</tr>\n",
       "<tr>\n",
       "  <th>summer</th>     <td>   22.6879</td> <td>   11.138</td> <td>    2.037</td> <td> 0.042</td> <td>    0.855</td> <td>   44.521</td>\n",
       "</tr>\n",
       "<tr>\n",
       "  <th>fall</th>       <td>   70.9474</td> <td>    9.448</td> <td>    7.509</td> <td> 0.000</td> <td>   52.426</td> <td>   89.469</td>\n",
       "</tr>\n",
       "<tr>\n",
       "  <th>Feb</th>        <td>  -10.7198</td> <td>    7.590</td> <td>   -1.412</td> <td> 0.158</td> <td>  -25.598</td> <td>    4.158</td>\n",
       "</tr>\n",
       "<tr>\n",
       "  <th>Mar</th>        <td>  -11.2938</td> <td>    8.385</td> <td>   -1.347</td> <td> 0.178</td> <td>  -27.731</td> <td>    5.143</td>\n",
       "</tr>\n",
       "<tr>\n",
       "  <th>Apr</th>        <td>  -44.8326</td> <td>   12.635</td> <td>   -3.548</td> <td> 0.000</td> <td>  -69.600</td> <td>  -20.065</td>\n",
       "</tr>\n",
       "<tr>\n",
       "  <th>May</th>        <td>  -50.1605</td> <td>   13.493</td> <td>   -3.718</td> <td> 0.000</td> <td>  -76.609</td> <td>  -23.712</td>\n",
       "</tr>\n",
       "<tr>\n",
       "  <th>Jun</th>        <td>  -72.2042</td> <td>   13.700</td> <td>   -5.271</td> <td> 0.000</td> <td>  -99.058</td> <td>  -45.350</td>\n",
       "</tr>\n",
       "<tr>\n",
       "  <th>Jul</th>        <td>  -90.8965</td> <td>   15.387</td> <td>   -5.907</td> <td> 0.000</td> <td> -121.058</td> <td>  -60.735</td>\n",
       "</tr>\n",
       "<tr>\n",
       "  <th>Aug</th>        <td>  -58.3246</td> <td>   15.061</td> <td>   -3.873</td> <td> 0.000</td> <td>  -87.847</td> <td>  -28.802</td>\n",
       "</tr>\n",
       "<tr>\n",
       "  <th>Sept</th>       <td>  -16.1686</td> <td>   13.432</td> <td>   -1.204</td> <td> 0.229</td> <td>  -42.499</td> <td>   10.162</td>\n",
       "</tr>\n",
       "<tr>\n",
       "  <th>Oct</th>        <td>  -15.8838</td> <td>   12.484</td> <td>   -1.272</td> <td> 0.203</td> <td>  -40.356</td> <td>    8.588</td>\n",
       "</tr>\n",
       "<tr>\n",
       "  <th>Nov</th>        <td>  -32.7232</td> <td>   12.049</td> <td>   -2.716</td> <td> 0.007</td> <td>  -56.342</td> <td>   -9.104</td>\n",
       "</tr>\n",
       "<tr>\n",
       "  <th>Dec</th>        <td>  -19.2088</td> <td>    9.560</td> <td>   -2.009</td> <td> 0.045</td> <td>  -37.949</td> <td>   -0.469</td>\n",
       "</tr>\n",
       "<tr>\n",
       "  <th>Mon</th>        <td>   -3.3336</td> <td>    3.756</td> <td>   -0.888</td> <td> 0.375</td> <td>  -10.697</td> <td>    4.029</td>\n",
       "</tr>\n",
       "<tr>\n",
       "  <th>Tue</th>        <td>   -0.0074</td> <td>    4.105</td> <td>   -0.002</td> <td> 0.999</td> <td>   -8.055</td> <td>    8.040</td>\n",
       "</tr>\n",
       "<tr>\n",
       "  <th>Wed</th>        <td>   -2.2059</td> <td>    4.082</td> <td>   -0.540</td> <td> 0.589</td> <td>  -10.207</td> <td>    5.795</td>\n",
       "</tr>\n",
       "<tr>\n",
       "  <th>Thu</th>        <td>   -5.5698</td> <td>    4.013</td> <td>   -1.388</td> <td> 0.165</td> <td>  -13.436</td> <td>    2.297</td>\n",
       "</tr>\n",
       "<tr>\n",
       "  <th>Fri</th>        <td>    2.9140</td> <td>    4.015</td> <td>    0.726</td> <td> 0.468</td> <td>   -4.956</td> <td>   10.784</td>\n",
       "</tr>\n",
       "<tr>\n",
       "  <th>Sat</th>        <td>   12.7461</td> <td>    5.587</td> <td>    2.281</td> <td> 0.023</td> <td>    1.793</td> <td>   23.699</td>\n",
       "</tr>\n",
       "<tr>\n",
       "  <th>Cloudy</th>     <td>    6.9163</td> <td>    3.676</td> <td>    1.882</td> <td> 0.060</td> <td>   -0.289</td> <td>   14.122</td>\n",
       "</tr>\n",
       "<tr>\n",
       "  <th>Snow</th>       <td>  -26.8155</td> <td>    6.094</td> <td>   -4.401</td> <td> 0.000</td> <td>  -38.760</td> <td>  -14.871</td>\n",
       "</tr>\n",
       "<tr>\n",
       "  <th>Storm</th>      <td>   48.2045</td> <td>   98.839</td> <td>    0.488</td> <td> 0.626</td> <td> -145.543</td> <td>  241.952</td>\n",
       "</tr>\n",
       "</table>\n",
       "<table class=\"simpletable\">\n",
       "<tr>\n",
       "  <th>Omnibus:</th>       <td>1691.839</td> <th>  Durbin-Watson:     </th> <td>   1.982</td>\n",
       "</tr>\n",
       "<tr>\n",
       "  <th>Prob(Omnibus):</th>  <td> 0.000</td>  <th>  Jarque-Bera (JB):  </th> <td>3250.657</td>\n",
       "</tr>\n",
       "<tr>\n",
       "  <th>Skew:</th>           <td> 1.191</td>  <th>  Prob(JB):          </th> <td>    0.00</td>\n",
       "</tr>\n",
       "<tr>\n",
       "  <th>Kurtosis:</th>       <td> 4.818</td>  <th>  Cond. No.          </th> <td>1.17e+16</td>\n",
       "</tr>\n",
       "</table><br/><br/>Warnings:<br/>[1] Standard Errors assume that the covariance matrix of the errors is correctly specified.<br/>[2] The smallest eigenvalue is 1.18e-26. This might indicate that there are<br/>strong multicollinearity problems or that the design matrix is singular."
      ],
      "text/plain": [
       "<class 'statsmodels.iolib.summary.Summary'>\n",
       "\"\"\"\n",
       "                            OLS Regression Results                            \n",
       "==============================================================================\n",
       "Dep. Variable:                 counts   R-squared:                       0.412\n",
       "Model:                            OLS   Adj. R-squared:                  0.410\n",
       "Method:                 Least Squares   F-statistic:                     201.9\n",
       "Date:                Wed, 15 Jul 2020   Prob (F-statistic):               0.00\n",
       "Time:                        17:48:24   Log-Likelihood:                -55215.\n",
       "No. Observations:                8689   AIC:                         1.105e+05\n",
       "Df Residuals:                    8658   BIC:                         1.107e+05\n",
       "Df Model:                          30                                         \n",
       "Covariance Type:            nonrobust                                         \n",
       "==============================================================================\n",
       "                 coef    std err          t      P>|t|      [0.025      0.975]\n",
       "------------------------------------------------------------------------------\n",
       "const        -30.4075     10.908     -2.788      0.005     -51.789      -9.026\n",
       "hour           7.2092      0.233     30.975      0.000       6.753       7.665\n",
       "holiday      -19.1510      8.369     -2.288      0.022     -35.556      -2.746\n",
       "year          78.1211      3.020     25.864      0.000      72.200      84.042\n",
       "workingday    10.9484      3.512      3.118      0.002       4.065      17.832\n",
       "temp         273.6625     61.680      4.437      0.000     152.755     394.570\n",
       "atemp        162.5353     64.909      2.504      0.012      35.298     289.773\n",
       "hum         -202.0080      9.927    -20.349      0.000    -221.468    -182.548\n",
       "windspeed     19.3827     13.595      1.426      0.154      -7.268      46.033\n",
       "spring        50.0754      9.528      5.256      0.000      31.398      68.753\n",
       "summer        22.6879     11.138      2.037      0.042       0.855      44.521\n",
       "fall          70.9474      9.448      7.509      0.000      52.426      89.469\n",
       "Feb          -10.7198      7.590     -1.412      0.158     -25.598       4.158\n",
       "Mar          -11.2938      8.385     -1.347      0.178     -27.731       5.143\n",
       "Apr          -44.8326     12.635     -3.548      0.000     -69.600     -20.065\n",
       "May          -50.1605     13.493     -3.718      0.000     -76.609     -23.712\n",
       "Jun          -72.2042     13.700     -5.271      0.000     -99.058     -45.350\n",
       "Jul          -90.8965     15.387     -5.907      0.000    -121.058     -60.735\n",
       "Aug          -58.3246     15.061     -3.873      0.000     -87.847     -28.802\n",
       "Sept         -16.1686     13.432     -1.204      0.229     -42.499      10.162\n",
       "Oct          -15.8838     12.484     -1.272      0.203     -40.356       8.588\n",
       "Nov          -32.7232     12.049     -2.716      0.007     -56.342      -9.104\n",
       "Dec          -19.2088      9.560     -2.009      0.045     -37.949      -0.469\n",
       "Mon           -3.3336      3.756     -0.888      0.375     -10.697       4.029\n",
       "Tue           -0.0074      4.105     -0.002      0.999      -8.055       8.040\n",
       "Wed           -2.2059      4.082     -0.540      0.589     -10.207       5.795\n",
       "Thu           -5.5698      4.013     -1.388      0.165     -13.436       2.297\n",
       "Fri            2.9140      4.015      0.726      0.468      -4.956      10.784\n",
       "Sat           12.7461      5.587      2.281      0.023       1.793      23.699\n",
       "Cloudy         6.9163      3.676      1.882      0.060      -0.289      14.122\n",
       "Snow         -26.8155      6.094     -4.401      0.000     -38.760     -14.871\n",
       "Storm         48.2045     98.839      0.488      0.626    -145.543     241.952\n",
       "==============================================================================\n",
       "Omnibus:                     1691.839   Durbin-Watson:                   1.982\n",
       "Prob(Omnibus):                  0.000   Jarque-Bera (JB):             3250.657\n",
       "Skew:                           1.191   Prob(JB):                         0.00\n",
       "Kurtosis:                       4.818   Cond. No.                     1.17e+16\n",
       "==============================================================================\n",
       "\n",
       "Warnings:\n",
       "[1] Standard Errors assume that the covariance matrix of the errors is correctly specified.\n",
       "[2] The smallest eigenvalue is 1.18e-26. This might indicate that there are\n",
       "strong multicollinearity problems or that the design matrix is singular.\n",
       "\"\"\""
      ]
     },
     "execution_count": 33,
     "metadata": {},
     "output_type": "execute_result"
    }
   ],
   "source": [
    "######\n",
    "# your code here\n",
    "######\n",
    "\n",
    "model.summary()"
   ]
  },
  {
   "cell_type": "markdown",
   "metadata": {},
   "source": [
    "Based on the summary above, `hour`, `year` `workingday`, `temp`, `atemp`, `hum`, `spring`, `summer`, `fall`, `Apr`, `May`, `Jun`, `Jul`, `Aug`, `Nov`, `Dec`, `Sat`, `Cloudy`, `Snow` are statistically significant at significance level of 5%."
   ]
  },
  {
   "cell_type": "markdown",
   "metadata": {
    "run_control": {}
   },
   "source": [
    "**3.3 You should see some strange estimates for the predictors representing months...** "
   ]
  },
  {
   "cell_type": "markdown",
   "metadata": {},
   "source": [
    "The coefficients of the predictors representing months are all negative with generally large coefficients (in absolute terms) and standard errors. In particular, the July coefficient is the largest with the highest standard error among the month predictors. Together, this evidence points to multicollinearity between the July predictor and other predictors. As an additional check, it would nice to see if the coefficients change drastically from sample to sample. "
   ]
  },
  {
   "cell_type": "markdown",
   "metadata": {
    "button": false,
    "new_sheet": false,
    "run_control": {
     "read_only": false
    }
   },
   "source": [
    "**3.4 To diagnose the model, make two plots:...**"
   ]
  },
  {
   "cell_type": "markdown",
   "metadata": {},
   "source": [
    "\n",
    "\n",
    "3.4 To diagnose the model, make two plots: first a histogram of the residuals, and second a plot of the residuals of the fitted model  𝑒=𝑦−𝑦̂   as a function of the predicted value  𝑦̂  . Draw a horizontal line denoting the zero residual value on the Y-axis. What do the plots reveal about the OLS assumptions (linearity, constant variance, and normality)?"
   ]
  },
  {
   "cell_type": "code",
   "execution_count": 34,
   "metadata": {
    "button": false,
    "new_sheet": false,
    "run_control": {
     "read_only": false
    }
   },
   "outputs": [
    {
     "data": {
      "image/png": "[encoded data removed]",
      "text/plain": [
       "<Figure size 864x576 with 2 Axes>"
      ]
     },
     "metadata": {
      "needs_background": "light"
     },
     "output_type": "display_data"
    }
   ],
   "source": [
    "######\n",
    "# your code here\n",
    "######\n",
    "\n",
    "plt.figure(figsize=(12,8))\n",
    "\n",
    "# model residuals\n",
    "\n",
    "residual = BSS_train.counts - model.predict(X)\n",
    "plt.subplot(1, 2, 1)\n",
    "plt.hist(residual)\n",
    "plt.ylabel('Residuals')\n",
    "\n",
    "#fitted values of y\n",
    "plt.subplot(1,2, 2)\n",
    "plt.axhline(y=0, color='r')\n",
    "plt.scatter(model.predict(X), residual)\n",
    "plt.xlabel('Fitted values')\n",
    "plt.ylabel('Residuals')\n",
    "\n",
    "plt.show()"
   ]
  },
  {
   "cell_type": "markdown",
   "metadata": {},
   "source": [
    "By the histogram, we can see that the distribution of the residuals is non-normal due to the right skewness. The scatter plot shows clear evidence of heteroscedasticity since the variance around the horizontal line representing a residual of zero is not constant (fan-like shape). It is a little more difficult to determine if there is non-linearity by the scatter plot alone because of the severe heteroskedasticity. However, it will probably be more clear if we remove some of the correlated predictors. Overall, these plots show that there is some clear violations of OLS assumptions."
   ]
  },
  {
   "cell_type": "markdown",
   "metadata": {
    "run_control": {}
   },
   "source": [
    "---"
   ]
  },
  {
   "cell_type": "markdown",
   "metadata": {
    "button": false,
    "new_sheet": false,
    "run_control": {
     "read_only": false
    }
   },
   "source": [
    "<div class='exercise'> <b> Question 4 [20pts]: Regression Models with Polynomial and Interaction Terms </b> </div>\n",
    "\n",
    "**4.1** Drop the variables `workingday`, `atemp`, `spring`, `summer`, `fall`, and  `dteday` from `BSS_train` (if any of them still remain).\n",
    "\n",
    "**4.2** Write a function to standardize a provided subset of columns in your training/validation/test sets. Remember that while you will be scaling all of your data, you must learn the scaling parameters (mean and SD) from only the training set.\n",
    "\n",
    "Test your code by building a list of all non-binary columns from `X_train` into a dataset called `practice_X_train` and scaling only those columns. Call the result `practice_X_train_scaled`. Display the `.describe()` and verify that you have correctly scaled all columns, including the polynomial columns.\n",
    "\n",
    "**Hint: employ the provided list of binary columns and use `pd.columns.difference()`**\n",
    "\n",
    "`binary_columns = [ 'holiday', 'workingday','Feb', 'Mar', 'Apr',\n",
    "       'May', 'Jun', 'Jul', 'Aug', 'Sept', 'Oct', 'Nov', 'Dec', 'spring',\n",
    "       'summer', 'fall', 'Mon', 'Tue', 'Wed', 'Thu', 'Fri', 'Sat',\n",
    "       'Cloudy', 'Snow', 'Storm']`\n",
    "\n",
    "\n",
    "**4.3** Write a code to augment your a dataset with higher-order features for `temp`, `hum`,`windspeed`, and `hour`. You should include ONLY the pure powers of these columns. So with degree=2 you should produce `temp^2` and `hum^2` but not `temp*hum` or any other two-feature interactions. \n",
    "\n",
    "Encapsulate this process as a function with appropriate inputs and outputs, and test your code by producing `practice_X_train_poly`, a training dataset with quadratic and cubic features built from `practice_X_train_scaled`, and printing `practice_X_train_poly`'s column names and `.head()`.\n",
    "\n",
    "**4.4** Write code to add interaction terms to the model. Specifically, we want interactions between the continuous predictors (`temp`, `hum`,`windspeed`) and the month and weekday dummies (`Feb`, `Mar`...`Dec`, `Mon`, `Tue`, ... `Sat`). That means you SHOULD build `temp*Feb` and `hum*Mon` and so on, but NOT `Feb*Mar` and NOT `Feb*Tue`. The interaction terms should always be a continuous feature times a month dummy or a continuous feature times a weekday dummy.\n",
    "\n",
    "Encapsulate this process as a function with appropriate inputs and outputs, and test your code by adding interaction terms to `practice_X_train_poly` and show its column names and `.head()`**\n",
    "\n",
    "**4.5** Combine all your code so far into a function named `get_design_mats` that takes in `BSS_train`, `BSS_test`, the names of columns for polynomial, the target column, the columns to be dropped and produces computation-ready design matrices `X_train` and `X_test` and responses `y_train` and `y_test`. Your final function should build correct, scaled design matrices with the stated interaction terms and any polynomial degree.\n",
    "\n",
    "\n",
    "**4.6** For polynomials of degree 2, 6 and 10:\n",
    "\n",
    "1.  Build the training design matrix and validation design matrix using the function `get_design_mats` with polynomial terms up through the specified degree.\n",
    "\n",
    "2.  Fit a regression model to the training data.\n",
    "\n",
    "3.  Report the model's score on the test data.\n",
    "\n",
    "**4.7** Which model would you select, and why?"
   ]
  },
  {
   "cell_type": "markdown",
   "metadata": {
    "button": false,
    "new_sheet": false,
    "run_control": {
     "read_only": false
    }
   },
   "source": [
    "### Answers"
   ]
  },
  {
   "cell_type": "markdown",
   "metadata": {
    "button": false,
    "new_sheet": false,
    "run_control": {
     "read_only": false
    }
   },
   "source": [
    "**4.1 Drop...**"
   ]
  },
  {
   "cell_type": "code",
   "execution_count": 35,
   "metadata": {
    "button": false,
    "new_sheet": false,
    "run_control": {
     "read_only": false
    }
   },
   "outputs": [],
   "source": [
    "######\n",
    "# your code here\n",
    "######\n",
    "\n",
    "BSS_train = BSS_train.drop(['workingday', 'atemp', 'spring', 'summer', 'fall'], axis=1)\n",
    "BSS_test = BSS_test.drop(['workingday', 'atemp', 'spring', 'summer', 'fall'], axis=1)"
   ]
  },
  {
   "cell_type": "code",
   "execution_count": 36,
   "metadata": {},
   "outputs": [
    {
     "data": {
      "text/plain": [
       "(8689, 27)"
      ]
     },
     "execution_count": 36,
     "metadata": {},
     "output_type": "execute_result"
    }
   ],
   "source": [
    "BSS_train.shape"
   ]
  },
  {
   "cell_type": "code",
   "execution_count": 37,
   "metadata": {
    "scrolled": true
   },
   "outputs": [
    {
     "data": {
      "text/plain": [
       "hour           int64\n",
       "holiday        int64\n",
       "year           int64\n",
       "temp         float64\n",
       "hum          float64\n",
       "windspeed    float64\n",
       "counts         int64\n",
       "Feb            int64\n",
       "Mar            int64\n",
       "Apr            int64\n",
       "May            int64\n",
       "Jun            int64\n",
       "Jul            int64\n",
       "Aug            int64\n",
       "Sept           int64\n",
       "Oct            int64\n",
       "Nov            int64\n",
       "Dec            int64\n",
       "Mon            int64\n",
       "Tue            int64\n",
       "Wed            int64\n",
       "Thu            int64\n",
       "Fri            int64\n",
       "Sat            int64\n",
       "Cloudy         int64\n",
       "Snow           int64\n",
       "Storm          int64\n",
       "dtype: object"
      ]
     },
     "execution_count": 37,
     "metadata": {},
     "output_type": "execute_result"
    }
   ],
   "source": [
    "BSS_train.dtypes"
   ]
  },
  {
   "cell_type": "code",
   "execution_count": 38,
   "metadata": {},
   "outputs": [
    {
     "data": {
      "text/plain": [
       "(8690, 27)"
      ]
     },
     "execution_count": 38,
     "metadata": {},
     "output_type": "execute_result"
    }
   ],
   "source": [
    "BSS_test.shape"
   ]
  },
  {
   "cell_type": "code",
   "execution_count": 39,
   "metadata": {},
   "outputs": [
    {
     "data": {
      "text/plain": [
       "hour           int64\n",
       "holiday        int64\n",
       "year           int64\n",
       "temp         float64\n",
       "hum          float64\n",
       "windspeed    float64\n",
       "counts         int64\n",
       "Feb            int64\n",
       "Mar            int64\n",
       "Apr            int64\n",
       "May            int64\n",
       "Jun            int64\n",
       "Jul            int64\n",
       "Aug            int64\n",
       "Sept           int64\n",
       "Oct            int64\n",
       "Nov            int64\n",
       "Dec            int64\n",
       "Mon            int64\n",
       "Tue            int64\n",
       "Wed            int64\n",
       "Thu            int64\n",
       "Fri            int64\n",
       "Sat            int64\n",
       "Cloudy         int64\n",
       "Snow           int64\n",
       "Storm          int64\n",
       "dtype: object"
      ]
     },
     "execution_count": 39,
     "metadata": {},
     "output_type": "execute_result"
    }
   ],
   "source": [
    "BSS_test.dtypes"
   ]
  },
  {
   "cell_type": "markdown",
   "metadata": {
    "button": false,
    "new_sheet": false,
    "run_control": {
     "read_only": false
    }
   },
   "source": [
    "**4.2 Write a function to standardize...**\n"
   ]
  },
  {
   "cell_type": "markdown",
   "metadata": {},
   "source": [
    "**4.2** Write a function to standardize a provided subset of columns in your training/validation/test sets. Remember that while you will be scaling all of your data, you must learn the scaling parameters (mean and SD) from only the training set.\n",
    "\n",
    "Test your code by building a list of all non-binary columns from `X_train` into a dataset called `practice_X_train` and scaling only those columns. Call the result `practice_X_train_scaled`. Display the `.describe()` and verify that you have correctly scaled all columns, including the polynomial columns.\n",
    "\n",
    "**Hint: employ the provided list of binary columns and use `pd.columns.difference()`**\n",
    "\n",
    "`binary_columns = [ 'holiday', 'workingday','Feb', 'Mar', 'Apr',\n",
    "       'May', 'Jun', 'Jul', 'Aug', 'Sept', 'Oct', 'Nov', 'Dec', 'spring',\n",
    "       'summer', 'fall', 'Mon', 'Tue', 'Wed', 'Thu', 'Fri', 'Sat',\n",
    "       'Cloudy', 'Snow', 'Storm']`\n"
   ]
  },
  {
   "cell_type": "code",
   "execution_count": 40,
   "metadata": {
    "button": false,
    "new_sheet": false,
    "run_control": {
     "read_only": false
    },
    "scrolled": false
   },
   "outputs": [
    {
     "data": {
      "text/html": [
       "<div>\n",
       "<style scoped>\n",
       "    .dataframe tbody tr th:only-of-type {\n",
       "        vertical-align: middle;\n",
       "    }\n",
       "\n",
       "    .dataframe tbody tr th {\n",
       "        vertical-align: top;\n",
       "    }\n",
       "\n",
       "    .dataframe thead th {\n",
       "        text-align: right;\n",
       "    }\n",
       "</style>\n",
       "<table border=\"1\" class=\"dataframe\">\n",
       "  <thead>\n",
       "    <tr style=\"text-align: right;\">\n",
       "      <th></th>\n",
       "      <th>hour</th>\n",
       "      <th>holiday</th>\n",
       "      <th>year</th>\n",
       "      <th>temp</th>\n",
       "      <th>hum</th>\n",
       "      <th>windspeed</th>\n",
       "      <th>Feb</th>\n",
       "      <th>Mar</th>\n",
       "      <th>Apr</th>\n",
       "      <th>May</th>\n",
       "      <th>...</th>\n",
       "      <th>Dec</th>\n",
       "      <th>Mon</th>\n",
       "      <th>Tue</th>\n",
       "      <th>Wed</th>\n",
       "      <th>Thu</th>\n",
       "      <th>Fri</th>\n",
       "      <th>Sat</th>\n",
       "      <th>Cloudy</th>\n",
       "      <th>Snow</th>\n",
       "      <th>Storm</th>\n",
       "    </tr>\n",
       "  </thead>\n",
       "  <tbody>\n",
       "    <tr>\n",
       "      <th>count</th>\n",
       "      <td>8.689000e+03</td>\n",
       "      <td>8689.000000</td>\n",
       "      <td>8.689000e+03</td>\n",
       "      <td>8.689000e+03</td>\n",
       "      <td>8.689000e+03</td>\n",
       "      <td>8.689000e+03</td>\n",
       "      <td>8689.000000</td>\n",
       "      <td>8689.000000</td>\n",
       "      <td>8689.000000</td>\n",
       "      <td>8689.000000</td>\n",
       "      <td>...</td>\n",
       "      <td>8689.000000</td>\n",
       "      <td>8689.000000</td>\n",
       "      <td>8689.000000</td>\n",
       "      <td>8689.000000</td>\n",
       "      <td>8689.000000</td>\n",
       "      <td>8689.000000</td>\n",
       "      <td>8689.000000</td>\n",
       "      <td>8689.000000</td>\n",
       "      <td>8689.000000</td>\n",
       "      <td>8689.000000</td>\n",
       "    </tr>\n",
       "    <tr>\n",
       "      <th>mean</th>\n",
       "      <td>2.762461e-17</td>\n",
       "      <td>0.029347</td>\n",
       "      <td>-2.754411e-16</td>\n",
       "      <td>-7.622961e-17</td>\n",
       "      <td>-4.148227e-16</td>\n",
       "      <td>-5.604141e-17</td>\n",
       "      <td>0.077224</td>\n",
       "      <td>0.084705</td>\n",
       "      <td>0.082748</td>\n",
       "      <td>0.085626</td>\n",
       "      <td>...</td>\n",
       "      <td>0.085280</td>\n",
       "      <td>0.144205</td>\n",
       "      <td>0.137875</td>\n",
       "      <td>0.141788</td>\n",
       "      <td>0.144551</td>\n",
       "      <td>0.143975</td>\n",
       "      <td>0.146047</td>\n",
       "      <td>0.257567</td>\n",
       "      <td>0.083324</td>\n",
       "      <td>0.000230</td>\n",
       "    </tr>\n",
       "    <tr>\n",
       "      <th>std</th>\n",
       "      <td>1.000058e+00</td>\n",
       "      <td>0.168788</td>\n",
       "      <td>1.000058e+00</td>\n",
       "      <td>1.000058e+00</td>\n",
       "      <td>1.000058e+00</td>\n",
       "      <td>1.000058e+00</td>\n",
       "      <td>0.266962</td>\n",
       "      <td>0.278458</td>\n",
       "      <td>0.275517</td>\n",
       "      <td>0.279826</td>\n",
       "      <td>...</td>\n",
       "      <td>0.279314</td>\n",
       "      <td>0.351318</td>\n",
       "      <td>0.344789</td>\n",
       "      <td>0.348853</td>\n",
       "      <td>0.351667</td>\n",
       "      <td>0.351085</td>\n",
       "      <td>0.353173</td>\n",
       "      <td>0.437319</td>\n",
       "      <td>0.276387</td>\n",
       "      <td>0.015171</td>\n",
       "    </tr>\n",
       "    <tr>\n",
       "      <th>min</th>\n",
       "      <td>-1.666359e+00</td>\n",
       "      <td>0.000000</td>\n",
       "      <td>-1.006813e+00</td>\n",
       "      <td>-2.474192e+00</td>\n",
       "      <td>-3.251974e+00</td>\n",
       "      <td>-1.546636e+00</td>\n",
       "      <td>0.000000</td>\n",
       "      <td>0.000000</td>\n",
       "      <td>0.000000</td>\n",
       "      <td>0.000000</td>\n",
       "      <td>...</td>\n",
       "      <td>0.000000</td>\n",
       "      <td>0.000000</td>\n",
       "      <td>0.000000</td>\n",
       "      <td>0.000000</td>\n",
       "      <td>0.000000</td>\n",
       "      <td>0.000000</td>\n",
       "      <td>0.000000</td>\n",
       "      <td>0.000000</td>\n",
       "      <td>0.000000</td>\n",
       "      <td>0.000000</td>\n",
       "    </tr>\n",
       "    <tr>\n",
       "      <th>25%</th>\n",
       "      <td>-8.042663e-01</td>\n",
       "      <td>0.000000</td>\n",
       "      <td>-1.006813e+00</td>\n",
       "      <td>-8.122824e-01</td>\n",
       "      <td>-7.554808e-01</td>\n",
       "      <td>-6.987336e-01</td>\n",
       "      <td>0.000000</td>\n",
       "      <td>0.000000</td>\n",
       "      <td>0.000000</td>\n",
       "      <td>0.000000</td>\n",
       "      <td>...</td>\n",
       "      <td>0.000000</td>\n",
       "      <td>0.000000</td>\n",
       "      <td>0.000000</td>\n",
       "      <td>0.000000</td>\n",
       "      <td>0.000000</td>\n",
       "      <td>0.000000</td>\n",
       "      <td>0.000000</td>\n",
       "      <td>0.000000</td>\n",
       "      <td>0.000000</td>\n",
       "      <td>0.000000</td>\n",
       "    </tr>\n",
       "    <tr>\n",
       "      <th>50%</th>\n",
       "      <td>5.782674e-02</td>\n",
       "      <td>0.000000</td>\n",
       "      <td>9.932327e-01</td>\n",
       "      <td>1.867233e-02</td>\n",
       "      <td>-2.733697e-02</td>\n",
       "      <td>2.746035e-02</td>\n",
       "      <td>0.000000</td>\n",
       "      <td>0.000000</td>\n",
       "      <td>0.000000</td>\n",
       "      <td>0.000000</td>\n",
       "      <td>...</td>\n",
       "      <td>0.000000</td>\n",
       "      <td>0.000000</td>\n",
       "      <td>0.000000</td>\n",
       "      <td>0.000000</td>\n",
       "      <td>0.000000</td>\n",
       "      <td>0.000000</td>\n",
       "      <td>0.000000</td>\n",
       "      <td>0.000000</td>\n",
       "      <td>0.000000</td>\n",
       "      <td>0.000000</td>\n",
       "    </tr>\n",
       "    <tr>\n",
       "      <th>75%</th>\n",
       "      <td>9.199197e-01</td>\n",
       "      <td>0.000000</td>\n",
       "      <td>9.932327e-01</td>\n",
       "      <td>8.496271e-01</td>\n",
       "      <td>8.048274e-01</td>\n",
       "      <td>5.118601e-01</td>\n",
       "      <td>0.000000</td>\n",
       "      <td>0.000000</td>\n",
       "      <td>0.000000</td>\n",
       "      <td>0.000000</td>\n",
       "      <td>...</td>\n",
       "      <td>0.000000</td>\n",
       "      <td>0.000000</td>\n",
       "      <td>0.000000</td>\n",
       "      <td>0.000000</td>\n",
       "      <td>0.000000</td>\n",
       "      <td>0.000000</td>\n",
       "      <td>0.000000</td>\n",
       "      <td>1.000000</td>\n",
       "      <td>0.000000</td>\n",
       "      <td>0.000000</td>\n",
       "    </tr>\n",
       "    <tr>\n",
       "      <th>max</th>\n",
       "      <td>1.638331e+00</td>\n",
       "      <td>1.000000</td>\n",
       "      <td>9.932327e-01</td>\n",
       "      <td>2.511537e+00</td>\n",
       "      <td>1.949053e+00</td>\n",
       "      <td>5.355858e+00</td>\n",
       "      <td>1.000000</td>\n",
       "      <td>1.000000</td>\n",
       "      <td>1.000000</td>\n",
       "      <td>1.000000</td>\n",
       "      <td>...</td>\n",
       "      <td>1.000000</td>\n",
       "      <td>1.000000</td>\n",
       "      <td>1.000000</td>\n",
       "      <td>1.000000</td>\n",
       "      <td>1.000000</td>\n",
       "      <td>1.000000</td>\n",
       "      <td>1.000000</td>\n",
       "      <td>1.000000</td>\n",
       "      <td>1.000000</td>\n",
       "      <td>1.000000</td>\n",
       "    </tr>\n",
       "  </tbody>\n",
       "</table>\n",
       "<p>8 rows × 26 columns</p>\n",
       "</div>"
      ],
      "text/plain": [
       "               hour      holiday          year          temp           hum  \\\n",
       "count  8.689000e+03  8689.000000  8.689000e+03  8.689000e+03  8.689000e+03   \n",
       "mean   2.762461e-17     0.029347 -2.754411e-16 -7.622961e-17 -4.148227e-16   \n",
       "std    1.000058e+00     0.168788  1.000058e+00  1.000058e+00  1.000058e+00   \n",
       "min   -1.666359e+00     0.000000 -1.006813e+00 -2.474192e+00 -3.251974e+00   \n",
       "25%   -8.042663e-01     0.000000 -1.006813e+00 -8.122824e-01 -7.554808e-01   \n",
       "50%    5.782674e-02     0.000000  9.932327e-01  1.867233e-02 -2.733697e-02   \n",
       "75%    9.199197e-01     0.000000  9.932327e-01  8.496271e-01  8.048274e-01   \n",
       "max    1.638331e+00     1.000000  9.932327e-01  2.511537e+00  1.949053e+00   \n",
       "\n",
       "          windspeed          Feb          Mar          Apr          May  ...  \\\n",
       "count  8.689000e+03  8689.000000  8689.000000  8689.000000  8689.000000  ...   \n",
       "mean  -5.604141e-17     0.077224     0.084705     0.082748     0.085626  ...   \n",
       "std    1.000058e+00     0.266962     0.278458     0.275517     0.279826  ...   \n",
       "min   -1.546636e+00     0.000000     0.000000     0.000000     0.000000  ...   \n",
       "25%   -6.987336e-01     0.000000     0.000000     0.000000     0.000000  ...   \n",
       "50%    2.746035e-02     0.000000     0.000000     0.000000     0.000000  ...   \n",
       "75%    5.118601e-01     0.000000     0.000000     0.000000     0.000000  ...   \n",
       "max    5.355858e+00     1.000000     1.000000     1.000000     1.000000  ...   \n",
       "\n",
       "               Dec          Mon          Tue          Wed          Thu  \\\n",
       "count  8689.000000  8689.000000  8689.000000  8689.000000  8689.000000   \n",
       "mean      0.085280     0.144205     0.137875     0.141788     0.144551   \n",
       "std       0.279314     0.351318     0.344789     0.348853     0.351667   \n",
       "min       0.000000     0.000000     0.000000     0.000000     0.000000   \n",
       "25%       0.000000     0.000000     0.000000     0.000000     0.000000   \n",
       "50%       0.000000     0.000000     0.000000     0.000000     0.000000   \n",
       "75%       0.000000     0.000000     0.000000     0.000000     0.000000   \n",
       "max       1.000000     1.000000     1.000000     1.000000     1.000000   \n",
       "\n",
       "               Fri          Sat       Cloudy         Snow        Storm  \n",
       "count  8689.000000  8689.000000  8689.000000  8689.000000  8689.000000  \n",
       "mean      0.143975     0.146047     0.257567     0.083324     0.000230  \n",
       "std       0.351085     0.353173     0.437319     0.276387     0.015171  \n",
       "min       0.000000     0.000000     0.000000     0.000000     0.000000  \n",
       "25%       0.000000     0.000000     0.000000     0.000000     0.000000  \n",
       "50%       0.000000     0.000000     0.000000     0.000000     0.000000  \n",
       "75%       0.000000     0.000000     1.000000     0.000000     0.000000  \n",
       "max       1.000000     1.000000     1.000000     1.000000     1.000000  \n",
       "\n",
       "[8 rows x 26 columns]"
      ]
     },
     "execution_count": 40,
     "metadata": {},
     "output_type": "execute_result"
    }
   ],
   "source": [
    "######\n",
    "# your code here\n",
    "######\n",
    "\n",
    "def scale_datasets(train_data, test_data, cols_to_scale):\n",
    "    \"\"\"\n",
    "    This function will be used to standardize columns in your datasets. It\n",
    "    also allows you to pass in a test dataset, which will be standardized\n",
    "    using the stats from the training data. \n",
    "    \n",
    "    :param: train: The training dataset\n",
    "    :param: test: The test dataset, which will be standardized using stats \n",
    "                  from the training data. \n",
    "    :param: cols_to_scale: List containing the column names to be standardized\n",
    "    :return: (DataFrame, DataFrame) Standardized test and training DataFrames\n",
    "    \"\"\"\n",
    "\n",
    "    scaler = StandardScaler().fit(train_data[cols_to_scale])\n",
    "    \n",
    "    train_data[cols_to_scale] = scaler.transform(train_data[cols_to_scale])\n",
    "    test_data[cols_to_scale] = scaler.transform(test_data[cols_to_scale])\n",
    "    \n",
    "    return train_data, test_data\n",
    "\n",
    "###### Testing ######\n",
    "\n",
    "binary_columns = [ 'holiday','Feb', 'Mar', 'Apr',\n",
    "        'May', 'Jun', 'Jul', 'Aug', 'Sept', 'Oct', 'Nov', 'Dec', 'Mon','Tue', 'Wed', 'Thu', 'Fri', 'Sat',\n",
    "        'Cloudy', 'Snow', 'Storm']\n",
    "\n",
    "practice_X_train = BSS_train.drop(columns='counts')\n",
    "practice_X_test = BSS_test.drop(columns='counts')\n",
    "\n",
    "cols = practice_X_train.columns.difference(binary_columns).values.tolist()\n",
    "\n",
    "practice_X_train_scaled, practice_X_test_scaled = scale_datasets(practice_X_train, practice_X_test, cols)\n",
    "\n",
    "practice_X_train_scaled.describe()"
   ]
  },
  {
   "cell_type": "code",
   "execution_count": 41,
   "metadata": {},
   "outputs": [
    {
     "data": {
      "text/plain": [
       "(8689, 26)"
      ]
     },
     "execution_count": 41,
     "metadata": {},
     "output_type": "execute_result"
    }
   ],
   "source": [
    "practice_X_train.shape"
   ]
  },
  {
   "cell_type": "code",
   "execution_count": 42,
   "metadata": {},
   "outputs": [
    {
     "data": {
      "text/plain": [
       "(8689, 26)"
      ]
     },
     "execution_count": 42,
     "metadata": {},
     "output_type": "execute_result"
    }
   ],
   "source": [
    "practice_X_train_scaled.shape"
   ]
  },
  {
   "cell_type": "code",
   "execution_count": 43,
   "metadata": {},
   "outputs": [
    {
     "data": {
      "text/plain": [
       "hour         float64\n",
       "holiday        int64\n",
       "year         float64\n",
       "temp         float64\n",
       "hum          float64\n",
       "windspeed    float64\n",
       "Feb            int64\n",
       "Mar            int64\n",
       "Apr            int64\n",
       "May            int64\n",
       "Jun            int64\n",
       "Jul            int64\n",
       "Aug            int64\n",
       "Sept           int64\n",
       "Oct            int64\n",
       "Nov            int64\n",
       "Dec            int64\n",
       "Mon            int64\n",
       "Tue            int64\n",
       "Wed            int64\n",
       "Thu            int64\n",
       "Fri            int64\n",
       "Sat            int64\n",
       "Cloudy         int64\n",
       "Snow           int64\n",
       "Storm          int64\n",
       "dtype: object"
      ]
     },
     "execution_count": 43,
     "metadata": {},
     "output_type": "execute_result"
    }
   ],
   "source": [
    "practice_X_train_scaled.dtypes"
   ]
  },
  {
   "cell_type": "code",
   "execution_count": 44,
   "metadata": {
    "button": false,
    "new_sheet": false,
    "run_control": {
     "read_only": false
    },
    "scrolled": true
   },
   "outputs": [],
   "source": [
    "def split_columns(df, target_col, drop_columns=None):\n",
    "    \"\"\"\n",
    "    :param: df: Your DataFrame\n",
    "    :param: target_col: The name of the response variable\n",
    "    :param: drop_columns: List containing the column names you want to drop\n",
    "    :return: (X_train, y_train)\n",
    "    \"\"\"\n",
    "    y_df = df[target_col]\n",
    "    \n",
    "    if drop_columns:\n",
    "        X_df = df.drop(columns = drop_columns)\n",
    "        X_df = X_df.drop(columns=target_col)\n",
    "        \n",
    "    else:\n",
    "        X_df = df.drop(columns=target_col)\n",
    "\n",
    "    return X_df, y_df\n",
    "\n",
    "\n",
    "###### Testing ######\n",
    "\n",
    "# some_columns = [ 'holiday', 'Feb', 'Mar', 'Apr',\n",
    "#       'May', 'Jun', 'Jul', 'Aug', 'Sept', 'Oct', 'Nov', 'Dec',\n",
    "#       'Mon', 'Tue', 'Wed', 'Thu', 'Fri', 'Sat',\n",
    "#       'Cloudy', 'Snow', 'Storm']\n",
    "\n",
    "# p_X_train, p_y_train = split_columns(BSS_train, 'counts')\n",
    "\n",
    "# p_X_train.describe()"
   ]
  },
  {
   "cell_type": "markdown",
   "metadata": {
    "button": false,
    "new_sheet": false,
    "run_control": {
     "read_only": false
    }
   },
   "source": [
    "**4.3 Write code to augment your a dataset with higher-order features for...**"
   ]
  },
  {
   "cell_type": "code",
   "execution_count": 45,
   "metadata": {
    "button": false,
    "new_sheet": false,
    "run_control": {
     "read_only": false
    }
   },
   "outputs": [
    {
     "data": {
      "text/plain": [
       "Index(['hour', 'holiday', 'year', 'temp', 'hum', 'windspeed', 'Feb', 'Mar',\n",
       "       'Apr', 'May', 'Jun', 'Jul', 'Aug', 'Sept', 'Oct', 'Nov', 'Dec', 'Mon',\n",
       "       'Tue', 'Wed', 'Thu', 'Fri', 'Sat', 'Cloudy', 'Snow', 'Storm', 'temp^2',\n",
       "       'temp^3', 'hum^2', 'hum^3', 'windspeed^2', 'windspeed^3', 'hour^2',\n",
       "       'hour^3'],\n",
       "      dtype='object')"
      ]
     },
     "execution_count": 45,
     "metadata": {},
     "output_type": "execute_result"
    }
   ],
   "source": [
    "######\n",
    "# your code here\n",
    "######\n",
    "\n",
    "def add_poly_features(dataset, degree, columns):\n",
    "    \"\"\"\n",
    "    :param dataset: Your data\n",
    "    :param degree: Max degree\n",
    "    :return: Augmented DataFrame\n",
    "    \"\"\"\n",
    "    transformer = PolynomialFeatures(degree, include_bias=False)\n",
    "    \n",
    "    for col in columns:\n",
    "        #transform column\n",
    "        poly_df_raw = transformer.fit_transform(dataset[col].values.reshape(-1,1))\n",
    "        \n",
    "        #make feature name\n",
    "        col_names = transformer.get_feature_names([col])\n",
    "        \n",
    "        #add second and third degrees\n",
    "        poly_df = pd.DataFrame(data=poly_df_raw[:,1:], columns = col_names[1:])\n",
    "        \n",
    "        #combine with original dataset\n",
    "        dataset = pd.concat([dataset, poly_df], axis=1)\n",
    "    \n",
    "    return dataset\n",
    "\n",
    "cols = ['temp', 'hum','windspeed', 'hour']\n",
    "\n",
    "practice_X_train_poly = add_poly_features(practice_X_train_scaled, 3, cols)\n",
    "practice_X_train_poly.columns"
   ]
  },
  {
   "cell_type": "code",
   "execution_count": 46,
   "metadata": {
    "scrolled": true
   },
   "outputs": [
    {
     "data": {
      "text/html": [
       "<div>\n",
       "<style scoped>\n",
       "    .dataframe tbody tr th:only-of-type {\n",
       "        vertical-align: middle;\n",
       "    }\n",
       "\n",
       "    .dataframe tbody tr th {\n",
       "        vertical-align: top;\n",
       "    }\n",
       "\n",
       "    .dataframe thead th {\n",
       "        text-align: right;\n",
       "    }\n",
       "</style>\n",
       "<table border=\"1\" class=\"dataframe\">\n",
       "  <thead>\n",
       "    <tr style=\"text-align: right;\">\n",
       "      <th></th>\n",
       "      <th>hour</th>\n",
       "      <th>holiday</th>\n",
       "      <th>year</th>\n",
       "      <th>temp</th>\n",
       "      <th>hum</th>\n",
       "      <th>windspeed</th>\n",
       "      <th>Feb</th>\n",
       "      <th>Mar</th>\n",
       "      <th>Apr</th>\n",
       "      <th>May</th>\n",
       "      <th>...</th>\n",
       "      <th>Snow</th>\n",
       "      <th>Storm</th>\n",
       "      <th>temp^2</th>\n",
       "      <th>temp^3</th>\n",
       "      <th>hum^2</th>\n",
       "      <th>hum^3</th>\n",
       "      <th>windspeed^2</th>\n",
       "      <th>windspeed^3</th>\n",
       "      <th>hour^2</th>\n",
       "      <th>hour^3</th>\n",
       "    </tr>\n",
       "  </thead>\n",
       "  <tbody>\n",
       "    <tr>\n",
       "      <th>0</th>\n",
       "      <td>1.350966</td>\n",
       "      <td>0</td>\n",
       "      <td>0.993233</td>\n",
       "      <td>-1.331629</td>\n",
       "      <td>-0.131358</td>\n",
       "      <td>0.511860</td>\n",
       "      <td>0</td>\n",
       "      <td>0</td>\n",
       "      <td>0</td>\n",
       "      <td>0</td>\n",
       "      <td>...</td>\n",
       "      <td>0</td>\n",
       "      <td>0</td>\n",
       "      <td>1.773236</td>\n",
       "      <td>-2.361293</td>\n",
       "      <td>0.017255</td>\n",
       "      <td>-0.002267</td>\n",
       "      <td>0.262001</td>\n",
       "      <td>0.134108</td>\n",
       "      <td>1.825110</td>\n",
       "      <td>2.465662</td>\n",
       "    </tr>\n",
       "    <tr>\n",
       "      <th>1</th>\n",
       "      <td>0.776238</td>\n",
       "      <td>0</td>\n",
       "      <td>-1.006813</td>\n",
       "      <td>0.641888</td>\n",
       "      <td>1.064879</td>\n",
       "      <td>0.511860</td>\n",
       "      <td>0</td>\n",
       "      <td>0</td>\n",
       "      <td>0</td>\n",
       "      <td>0</td>\n",
       "      <td>...</td>\n",
       "      <td>1</td>\n",
       "      <td>0</td>\n",
       "      <td>0.412021</td>\n",
       "      <td>0.264471</td>\n",
       "      <td>1.133967</td>\n",
       "      <td>1.207537</td>\n",
       "      <td>0.262001</td>\n",
       "      <td>0.134108</td>\n",
       "      <td>0.602545</td>\n",
       "      <td>0.467718</td>\n",
       "    </tr>\n",
       "    <tr>\n",
       "      <th>2</th>\n",
       "      <td>-0.373220</td>\n",
       "      <td>0</td>\n",
       "      <td>0.993233</td>\n",
       "      <td>1.368974</td>\n",
       "      <td>0.180704</td>\n",
       "      <td>-0.214334</td>\n",
       "      <td>0</td>\n",
       "      <td>0</td>\n",
       "      <td>0</td>\n",
       "      <td>0</td>\n",
       "      <td>...</td>\n",
       "      <td>0</td>\n",
       "      <td>0</td>\n",
       "      <td>1.874089</td>\n",
       "      <td>2.565579</td>\n",
       "      <td>0.032654</td>\n",
       "      <td>0.005901</td>\n",
       "      <td>0.045939</td>\n",
       "      <td>-0.009846</td>\n",
       "      <td>0.139293</td>\n",
       "      <td>-0.051987</td>\n",
       "    </tr>\n",
       "    <tr>\n",
       "      <th>3</th>\n",
       "      <td>0.776238</td>\n",
       "      <td>0</td>\n",
       "      <td>0.993233</td>\n",
       "      <td>0.641888</td>\n",
       "      <td>-2.107748</td>\n",
       "      <td>0.875363</td>\n",
       "      <td>0</td>\n",
       "      <td>0</td>\n",
       "      <td>1</td>\n",
       "      <td>0</td>\n",
       "      <td>...</td>\n",
       "      <td>0</td>\n",
       "      <td>0</td>\n",
       "      <td>0.412021</td>\n",
       "      <td>0.264471</td>\n",
       "      <td>4.442601</td>\n",
       "      <td>-9.363882</td>\n",
       "      <td>0.766260</td>\n",
       "      <td>0.670755</td>\n",
       "      <td>0.602545</td>\n",
       "      <td>0.467718</td>\n",
       "    </tr>\n",
       "    <tr>\n",
       "      <th>4</th>\n",
       "      <td>-0.516902</td>\n",
       "      <td>0</td>\n",
       "      <td>0.993233</td>\n",
       "      <td>-1.643237</td>\n",
       "      <td>-1.171563</td>\n",
       "      <td>-0.456939</td>\n",
       "      <td>0</td>\n",
       "      <td>0</td>\n",
       "      <td>0</td>\n",
       "      <td>0</td>\n",
       "      <td>...</td>\n",
       "      <td>0</td>\n",
       "      <td>0</td>\n",
       "      <td>2.700228</td>\n",
       "      <td>-4.437116</td>\n",
       "      <td>1.372560</td>\n",
       "      <td>-1.608040</td>\n",
       "      <td>0.208794</td>\n",
       "      <td>-0.095406</td>\n",
       "      <td>0.267188</td>\n",
       "      <td>-0.138110</td>\n",
       "    </tr>\n",
       "  </tbody>\n",
       "</table>\n",
       "<p>5 rows × 34 columns</p>\n",
       "</div>"
      ],
      "text/plain": [
       "       hour  holiday      year      temp       hum  windspeed  Feb  Mar  Apr  \\\n",
       "0  1.350966        0  0.993233 -1.331629 -0.131358   0.511860    0    0    0   \n",
       "1  0.776238        0 -1.006813  0.641888  1.064879   0.511860    0    0    0   \n",
       "2 -0.373220        0  0.993233  1.368974  0.180704  -0.214334    0    0    0   \n",
       "3  0.776238        0  0.993233  0.641888 -2.107748   0.875363    0    0    1   \n",
       "4 -0.516902        0  0.993233 -1.643237 -1.171563  -0.456939    0    0    0   \n",
       "\n",
       "   May  ...  Snow  Storm    temp^2    temp^3     hum^2     hum^3  windspeed^2  \\\n",
       "0    0  ...     0      0  1.773236 -2.361293  0.017255 -0.002267     0.262001   \n",
       "1    0  ...     1      0  0.412021  0.264471  1.133967  1.207537     0.262001   \n",
       "2    0  ...     0      0  1.874089  2.565579  0.032654  0.005901     0.045939   \n",
       "3    0  ...     0      0  0.412021  0.264471  4.442601 -9.363882     0.766260   \n",
       "4    0  ...     0      0  2.700228 -4.437116  1.372560 -1.608040     0.208794   \n",
       "\n",
       "   windspeed^3    hour^2    hour^3  \n",
       "0     0.134108  1.825110  2.465662  \n",
       "1     0.134108  0.602545  0.467718  \n",
       "2    -0.009846  0.139293 -0.051987  \n",
       "3     0.670755  0.602545  0.467718  \n",
       "4    -0.095406  0.267188 -0.138110  \n",
       "\n",
       "[5 rows x 34 columns]"
      ]
     },
     "execution_count": 46,
     "metadata": {},
     "output_type": "execute_result"
    }
   ],
   "source": [
    "practice_X_train_poly.head()"
   ]
  },
  {
   "cell_type": "code",
   "execution_count": 47,
   "metadata": {},
   "outputs": [
    {
     "data": {
      "text/plain": [
       "(8689, 34)"
      ]
     },
     "execution_count": 47,
     "metadata": {},
     "output_type": "execute_result"
    }
   ],
   "source": [
    "practice_X_train_poly.shape"
   ]
  },
  {
   "cell_type": "markdown",
   "metadata": {
    "button": false,
    "new_sheet": false,
    "run_control": {
     "read_only": false
    }
   },
   "source": [
    "**4.4 Write code to add interaction terms to the model...**"
   ]
  },
  {
   "cell_type": "code",
   "execution_count": 48,
   "metadata": {
    "button": false,
    "new_sheet": false,
    "run_control": {
     "read_only": false
    },
    "scrolled": true
   },
   "outputs": [
    {
     "data": {
      "text/plain": [
       "Index(['hour', 'holiday', 'year', 'temp', 'hum', 'windspeed', 'Feb', 'Mar',\n",
       "       'Apr', 'May', 'Jun', 'Jul', 'Aug', 'Sept', 'Oct', 'Nov', 'Dec', 'Mon',\n",
       "       'Tue', 'Wed', 'Thu', 'Fri', 'Sat', 'Cloudy', 'Snow', 'Storm', 'temp^2',\n",
       "       'temp^3', 'hum^2', 'hum^3', 'windspeed^2', 'windspeed^3', 'hour^2',\n",
       "       'hour^3', 'tempFeb', 'tempMar', 'tempApr', 'tempMay', 'tempJun',\n",
       "       'tempJul', 'tempAug', 'tempSept', 'tempOct', 'tempNov', 'tempDec',\n",
       "       'tempMon', 'tempTue', 'tempWed', 'tempThu', 'tempFri', 'tempSat',\n",
       "       'humFeb', 'humMar', 'humApr', 'humMay', 'humJun', 'humJul', 'humAug',\n",
       "       'humSept', 'humOct', 'humNov', 'humDec', 'humMon', 'humTue', 'humWed',\n",
       "       'humThu', 'humFri', 'humSat', 'windspeedFeb', 'windspeedMar',\n",
       "       'windspeedApr', 'windspeedMay', 'windspeedJun', 'windspeedJul',\n",
       "       'windspeedAug', 'windspeedSept', 'windspeedOct', 'windspeedNov',\n",
       "       'windspeedDec', 'windspeedMon', 'windspeedTue', 'windspeedWed',\n",
       "       'windspeedThu', 'windspeedFri', 'windspeedSat'],\n",
       "      dtype='object')"
      ]
     },
     "execution_count": 48,
     "metadata": {},
     "output_type": "execute_result"
    }
   ],
   "source": [
    "######\n",
    "# your code here\n",
    "######\n",
    "\n",
    "def build_interaction(df, interact_left, interact_right): \n",
    "    \"\"\"\n",
    "    :param df: Your data\n",
    "    :param interact_left: The first set of columns you want to use in interactions\n",
    "    :param interact_right: The set of columns you want to generate interactions terms\n",
    "                           with in interact_left\n",
    "    \"\"\"\n",
    "    \n",
    "    for left_name in interact_left:\n",
    "        for right_name in interact_right:\n",
    "            df.loc[:,left_name+right_name] = df[left_name]*df[right_name]\n",
    "\n",
    "    return df\n",
    "\n",
    "left = ['temp', 'hum', 'windspeed']\n",
    "\n",
    "right = ['Feb', 'Mar','Apr', 'May', 'Jun', \n",
    "         'Jul', 'Aug', 'Sept', 'Oct', 'Nov', 'Dec', \n",
    "         'Mon','Tue', 'Wed', 'Thu', 'Fri', 'Sat']\n",
    "\n",
    "practice_X_train_poly = build_interaction(practice_X_train_poly, left, right)\n",
    "practice_X_train_poly.columns"
   ]
  },
  {
   "cell_type": "code",
   "execution_count": 49,
   "metadata": {},
   "outputs": [
    {
     "data": {
      "text/html": [
       "<div>\n",
       "<style scoped>\n",
       "    .dataframe tbody tr th:only-of-type {\n",
       "        vertical-align: middle;\n",
       "    }\n",
       "\n",
       "    .dataframe tbody tr th {\n",
       "        vertical-align: top;\n",
       "    }\n",
       "\n",
       "    .dataframe thead th {\n",
       "        text-align: right;\n",
       "    }\n",
       "</style>\n",
       "<table border=\"1\" class=\"dataframe\">\n",
       "  <thead>\n",
       "    <tr style=\"text-align: right;\">\n",
       "      <th></th>\n",
       "      <th>hour</th>\n",
       "      <th>holiday</th>\n",
       "      <th>year</th>\n",
       "      <th>temp</th>\n",
       "      <th>hum</th>\n",
       "      <th>windspeed</th>\n",
       "      <th>Feb</th>\n",
       "      <th>Mar</th>\n",
       "      <th>Apr</th>\n",
       "      <th>May</th>\n",
       "      <th>...</th>\n",
       "      <th>Dec</th>\n",
       "      <th>Mon</th>\n",
       "      <th>Tue</th>\n",
       "      <th>Wed</th>\n",
       "      <th>Thu</th>\n",
       "      <th>Fri</th>\n",
       "      <th>Sat</th>\n",
       "      <th>Cloudy</th>\n",
       "      <th>Snow</th>\n",
       "      <th>Storm</th>\n",
       "    </tr>\n",
       "  </thead>\n",
       "  <tbody>\n",
       "    <tr>\n",
       "      <th>0</th>\n",
       "      <td>1.350966</td>\n",
       "      <td>0</td>\n",
       "      <td>0.993233</td>\n",
       "      <td>-1.331629</td>\n",
       "      <td>-0.131358</td>\n",
       "      <td>0.511860</td>\n",
       "      <td>0</td>\n",
       "      <td>0</td>\n",
       "      <td>0</td>\n",
       "      <td>0</td>\n",
       "      <td>...</td>\n",
       "      <td>1</td>\n",
       "      <td>0</td>\n",
       "      <td>0</td>\n",
       "      <td>0</td>\n",
       "      <td>1</td>\n",
       "      <td>0</td>\n",
       "      <td>0</td>\n",
       "      <td>1</td>\n",
       "      <td>0</td>\n",
       "      <td>0</td>\n",
       "    </tr>\n",
       "    <tr>\n",
       "      <th>1</th>\n",
       "      <td>0.776238</td>\n",
       "      <td>0</td>\n",
       "      <td>-1.006813</td>\n",
       "      <td>0.641888</td>\n",
       "      <td>1.064879</td>\n",
       "      <td>0.511860</td>\n",
       "      <td>0</td>\n",
       "      <td>0</td>\n",
       "      <td>0</td>\n",
       "      <td>0</td>\n",
       "      <td>...</td>\n",
       "      <td>0</td>\n",
       "      <td>0</td>\n",
       "      <td>0</td>\n",
       "      <td>0</td>\n",
       "      <td>1</td>\n",
       "      <td>0</td>\n",
       "      <td>0</td>\n",
       "      <td>0</td>\n",
       "      <td>1</td>\n",
       "      <td>0</td>\n",
       "    </tr>\n",
       "    <tr>\n",
       "      <th>2</th>\n",
       "      <td>-0.373220</td>\n",
       "      <td>0</td>\n",
       "      <td>0.993233</td>\n",
       "      <td>1.368974</td>\n",
       "      <td>0.180704</td>\n",
       "      <td>-0.214334</td>\n",
       "      <td>0</td>\n",
       "      <td>0</td>\n",
       "      <td>0</td>\n",
       "      <td>0</td>\n",
       "      <td>...</td>\n",
       "      <td>0</td>\n",
       "      <td>0</td>\n",
       "      <td>0</td>\n",
       "      <td>0</td>\n",
       "      <td>1</td>\n",
       "      <td>0</td>\n",
       "      <td>0</td>\n",
       "      <td>0</td>\n",
       "      <td>0</td>\n",
       "      <td>0</td>\n",
       "    </tr>\n",
       "    <tr>\n",
       "      <th>3</th>\n",
       "      <td>0.776238</td>\n",
       "      <td>0</td>\n",
       "      <td>0.993233</td>\n",
       "      <td>0.641888</td>\n",
       "      <td>-2.107748</td>\n",
       "      <td>0.875363</td>\n",
       "      <td>0</td>\n",
       "      <td>0</td>\n",
       "      <td>1</td>\n",
       "      <td>0</td>\n",
       "      <td>...</td>\n",
       "      <td>0</td>\n",
       "      <td>0</td>\n",
       "      <td>0</td>\n",
       "      <td>0</td>\n",
       "      <td>0</td>\n",
       "      <td>0</td>\n",
       "      <td>0</td>\n",
       "      <td>0</td>\n",
       "      <td>0</td>\n",
       "      <td>0</td>\n",
       "    </tr>\n",
       "    <tr>\n",
       "      <th>4</th>\n",
       "      <td>-0.516902</td>\n",
       "      <td>0</td>\n",
       "      <td>0.993233</td>\n",
       "      <td>-1.643237</td>\n",
       "      <td>-1.171563</td>\n",
       "      <td>-0.456939</td>\n",
       "      <td>0</td>\n",
       "      <td>0</td>\n",
       "      <td>0</td>\n",
       "      <td>0</td>\n",
       "      <td>...</td>\n",
       "      <td>0</td>\n",
       "      <td>0</td>\n",
       "      <td>0</td>\n",
       "      <td>0</td>\n",
       "      <td>0</td>\n",
       "      <td>0</td>\n",
       "      <td>0</td>\n",
       "      <td>0</td>\n",
       "      <td>0</td>\n",
       "      <td>0</td>\n",
       "    </tr>\n",
       "  </tbody>\n",
       "</table>\n",
       "<p>5 rows × 26 columns</p>\n",
       "</div>"
      ],
      "text/plain": [
       "       hour  holiday      year      temp       hum  windspeed  Feb  Mar  Apr  \\\n",
       "0  1.350966        0  0.993233 -1.331629 -0.131358   0.511860    0    0    0   \n",
       "1  0.776238        0 -1.006813  0.641888  1.064879   0.511860    0    0    0   \n",
       "2 -0.373220        0  0.993233  1.368974  0.180704  -0.214334    0    0    0   \n",
       "3  0.776238        0  0.993233  0.641888 -2.107748   0.875363    0    0    1   \n",
       "4 -0.516902        0  0.993233 -1.643237 -1.171563  -0.456939    0    0    0   \n",
       "\n",
       "   May  ...  Dec  Mon  Tue  Wed  Thu  Fri  Sat  Cloudy  Snow  Storm  \n",
       "0    0  ...    1    0    0    0    1    0    0       1     0      0  \n",
       "1    0  ...    0    0    0    0    1    0    0       0     1      0  \n",
       "2    0  ...    0    0    0    0    1    0    0       0     0      0  \n",
       "3    0  ...    0    0    0    0    0    0    0       0     0      0  \n",
       "4    0  ...    0    0    0    0    0    0    0       0     0      0  \n",
       "\n",
       "[5 rows x 26 columns]"
      ]
     },
     "execution_count": 49,
     "metadata": {},
     "output_type": "execute_result"
    }
   ],
   "source": [
    "practice_X_train.head()"
   ]
  },
  {
   "cell_type": "code",
   "execution_count": 50,
   "metadata": {
    "scrolled": true
   },
   "outputs": [
    {
     "data": {
      "text/plain": [
       "(8689, 85)"
      ]
     },
     "execution_count": 50,
     "metadata": {},
     "output_type": "execute_result"
    }
   ],
   "source": [
    "practice_X_train_poly.shape"
   ]
  },
  {
   "cell_type": "markdown",
   "metadata": {
    "button": false,
    "new_sheet": false,
    "run_control": {
     "read_only": false
    }
   },
   "source": [
    "**4.5 Combine all your code so far into a function named...**"
   ]
  },
  {
   "cell_type": "code",
   "execution_count": 51,
   "metadata": {
    "button": false,
    "new_sheet": false,
    "run_control": {
     "read_only": false
    }
   },
   "outputs": [],
   "source": [
    "######\n",
    "# your code here\n",
    "######\n",
    "\n",
    "def get_design_mats(train_df, val_df,  degree, \n",
    "                    columns_forpoly=['temp', 'hum','windspeed', 'hour'],\n",
    "                    target_col='counts', \n",
    "                    bad_columns=['counts']):\n",
    "    \"\"\"\n",
    "    :param train_df: The training data\n",
    "    :param val_df: Your test/validation data\n",
    "    :param columns_forpoly: List containing the column name for which we want to create \n",
    "                            polynomial terms\n",
    "    :param target_col: The response variable column\n",
    "    :param bad_columns: The columns you want to drop\n",
    "    \"\"\"\n",
    "    #split up\n",
    "    x_train, y_train = split_columns(train_df, target_col)\n",
    "    x_val, y_val = split_columns(val_df, target_col)\n",
    "    \n",
    "    #standardize\n",
    "    cols = x_train.columns.difference(bad_columns).values.tolist()\n",
    "    x_train, x_val = scale_datasets(x_train, x_val, cols)\n",
    "    \n",
    "    #add poly terms\n",
    "    x_train = add_poly_features(x_train, degree, columns_forpoly)\n",
    "    x_val = add_poly_features(x_val, degree, columns_forpoly)\n",
    "    \n",
    "    #add interaction terms\n",
    "    x_train = build_interaction(x_train, columns_forpoly[:-1], bad_columns[1:-3])\n",
    "    x_val = build_interaction(x_val, columns_forpoly[:-1], bad_columns[1:-3])\n",
    " \n",
    "    return x_train,y_train, x_val,y_val\n",
    "\n",
    "\n",
    "\n",
    "binary_columns = [ 'holiday','Feb', 'Mar', 'Apr',\n",
    "        'May', 'Jun', 'Jul', 'Aug', 'Sept', 'Oct', 'Nov', 'Dec', 'Mon','Tue', 'Wed', 'Thu', 'Fri', 'Sat',\n",
    "        'Cloudy', 'Snow', 'Storm']\n",
    "\n",
    "x_train,y_train, x_val,y_val = get_design_mats(BSS_train, BSS_test, 3, ['temp', 'hum','windspeed', 'hour'], 'counts', binary_columns)\n",
    "\n"
   ]
  },
  {
   "cell_type": "code",
   "execution_count": 52,
   "metadata": {},
   "outputs": [
    {
     "data": {
      "text/plain": [
       "True"
      ]
     },
     "execution_count": 52,
     "metadata": {},
     "output_type": "execute_result"
    }
   ],
   "source": [
    "#testing\n",
    "np.all(x_train == practice_X_train_poly)"
   ]
  },
  {
   "cell_type": "markdown",
   "metadata": {
    "button": false,
    "new_sheet": false,
    "run_control": {
     "read_only": false
    }
   },
   "source": [
    "\n",
    "**4.6 For polynomial degrees 2, 6, and 10...**"
   ]
  },
  {
   "cell_type": "code",
   "execution_count": 53,
   "metadata": {
    "button": false,
    "new_sheet": false,
    "run_control": {
     "read_only": false
    }
   },
   "outputs": [
    {
     "name": "stdout",
     "output_type": "stream",
     "text": [
      "Degree 2: The R-squared score on the test set is 0.5122.\n",
      "Degree 6: The R-squared score on the test set is 0.599.\n",
      "Degree 10: The R-squared score on the test set is 0.64914.\n"
     ]
    }
   ],
   "source": [
    "######\n",
    "# your code here\n",
    "######\n",
    "\n",
    "#make the datasets\n",
    "x_train2,y_train2, x_val2,y_val2 = get_design_mats(BSS_train, BSS_test, 2, ['temp', 'hum','windspeed', 'hour'], 'counts', binary_columns)\n",
    "x_train6,y_train6, x_val6,y_val6 = get_design_mats(BSS_train, BSS_test, 6, ['temp', 'hum','windspeed', 'hour'], 'counts', binary_columns)\n",
    "x_train10,y_train10, x_val10,y_val10 = get_design_mats(BSS_train, BSS_test, 10, ['temp', 'hum','windspeed', 'hour'], 'counts', binary_columns)\n",
    "\n",
    "\n",
    "x_train2 = sm.add_constant(x_train2)\n",
    "model2 = OLS(y_train2, x_train2).fit()\n",
    "\n",
    "x_train6 = sm.add_constant(x_train6)\n",
    "model6 = OLS(y_train6, x_train6).fit()\n",
    "\n",
    "x_train10 = sm.add_constant(x_train10)\n",
    "model10 = OLS(y_train10, x_train10).fit()\n",
    "\n",
    "#print(f'The R-squared score on training set is {round(model.rsquared, 5)}.')\n",
    "\n",
    "x_val2 = sm.add_constant(x_val2)\n",
    "pred_test2 = model2.predict(x_val2)\n",
    "print(f'Degree 2: The R-squared score on the test set is {round(r2_score(y_val2.values, pred_test2.values), 5)}.')\n",
    "\n",
    "Xnew6 = sm.add_constant(x_val6)\n",
    "pred_test6 = model6.predict(Xnew6)\n",
    "print(f'Degree 6: The R-squared score on the test set is {round(r2_score(y_val6.values, pred_test6.values), 5)}.')\n",
    "\n",
    "Xnew10 = sm.add_constant(x_val10)\n",
    "pred_test10 = model10.predict(Xnew10)\n",
    "print(f'Degree 10: The R-squared score on the test set is {round(r2_score(y_val10.values, pred_test10.values), 5)}.')\n"
   ]
  },
  {
   "cell_type": "markdown",
   "metadata": {
    "button": false,
    "new_sheet": false,
    "run_control": {
     "read_only": false
    }
   },
   "source": [
    "**4.7 Which model would you select, and why?**"
   ]
  },
  {
   "cell_type": "markdown",
   "metadata": {
    "button": false,
    "new_sheet": false,
    "run_control": {
     "read_only": false
    }
   },
   "source": [
    "If prediction performance is of the highest priority, given that the model with polynomial degree 10 had the best the best test set R2 score, I would select it. However, for intepretation purposes, I may select another model that is simpler to interpret, such as the degree 2 polynomial model."
   ]
  },
  {
   "cell_type": "markdown",
   "metadata": {
    "button": false,
    "new_sheet": false,
    "run_control": {
     "read_only": false
    }
   },
   "source": [
    "<div class='exercise'> <b> Question 5 [20pts]: Regularized Models </b> </div>\n",
    "\n",
    "**5.1** Let's try regularizing our models via ridge regression. Split the training set, `BSS_train`, into an 80-20 train-validation split.  Build a table showing the validation set $R^2$ for the degree-5 and degree-10 polynomial models, regularized at the levels $\\lambda = (.01, .05, .1,.5, 1, 5, 10, 50, 100)$. Do not perform cross validation at this point, simply report performance on the single validation set. \n",
    "\n",
    "**5.2** Find the best-scoring degree and regularization combination.\n",
    "\n",
    "**5.3** It's time to see how well our selected model will do on future data. Use the earlier created test dataset, do any required formatting, and report the best model's $R^2$ score. How does it compare to the validation set score that made us choose this model? Does the test set simply have observations that are more difficult or easier to predict?\n",
    "\n",
    "**5.4** Build a dataset (design matrix) with polynomial degree 1 and fit an OLS model, a Ridge model, and a Lasso model. Use `RidgeCV` and `LassoCV` to select the best regularization level from among `(.1,.5,1,5,10,50,100)`. \n",
    "\n",
    "Note: On the lasso model, you may need to increase `max_iter` (start with 100,000) for the optimization to converge.\n",
    "\n",
    "**5.5** Build a plot which cleanly presents, for each feature in the data, 1) The coefficient assigned by OLS, 2) the coefficient assigned by ridge, and 3) the coefficient assigned by lasso, so that each predictor's coefficient can be easily compared across the 3 models.\n",
    "\n",
    "**Hint: Bar plots are a possible choice, but you are not required to use them**\n",
    "\n",
    "**Hint: use `xticks` to label coefficients with their feature names**\n",
    "\n",
    "**5.6** What trends do you see in the plot above? How do the three approaches handle the correlated pair `temp` and `atemp`?"
   ]
  },
  {
   "cell_type": "markdown",
   "metadata": {
    "button": false,
    "new_sheet": false,
    "run_control": {
     "read_only": false
    }
   },
   "source": [
    "### Answers"
   ]
  },
  {
   "cell_type": "markdown",
   "metadata": {
    "button": false,
    "new_sheet": false,
    "run_control": {
     "read_only": false
    }
   },
   "source": [
    "**5.1 Let's try regularizing our models via...** "
   ]
  },
  {
   "cell_type": "code",
   "execution_count": 54,
   "metadata": {
    "button": false,
    "new_sheet": false,
    "run_control": {
     "read_only": false
    }
   },
   "outputs": [],
   "source": [
    "bikes_train, bikes_val = train_test_split(BSS_train, test_size=.2)"
   ]
  },
  {
   "cell_type": "code",
   "execution_count": 55,
   "metadata": {
    "button": false,
    "new_sheet": false,
    "run_control": {
     "read_only": false
    }
   },
   "outputs": [
    {
     "name": "stdout",
     "output_type": "stream",
     "text": [
      "Lambda      |Poly5 R2    |Poly10 R2   \n",
      "--------------------------------------\n",
      "0.01        |0.576       |0.649       \n",
      "0.05        |0.576       |0.649       \n",
      "0.1         |0.576       |0.649       \n",
      "0.5         |0.576       |0.649       \n",
      "1           |0.576       |0.648       \n",
      "5           |0.576       |0.639       \n",
      "10          |0.576       |0.634       \n",
      "50          |0.574       |0.62        \n",
      "100         |0.571       |0.61        \n"
     ]
    }
   ],
   "source": [
    "######\n",
    "# your code here\n",
    "lambdas = [.01, .05, .1, .5, 1, 5, 10, 50, 100]\n",
    "poly_5_xtrain, poly_5_ytrain, poly_5_xval,poly_5_yval = get_design_mats(BSS_train, BSS_test, 5, ['temp', 'hum','windspeed', 'hour'], 'counts', binary_columns)\n",
    "poly_10_xtrain, poly_10_ytrain, poly_10_xval, poly_10_yval = get_design_mats(BSS_train, BSS_test, 10, ['temp', 'hum','windspeed', 'hour'], 'counts', binary_columns)\n",
    "\n",
    "poly_5 = []\n",
    "poly_10 = []\n",
    "\n",
    "for  lam in lambdas:\n",
    "    ridge_reg = Ridge(alpha = lam)\n",
    "    \n",
    "    ridge_reg.fit(poly_5_xtrain, poly_5_ytrain)\n",
    "    pred_ridge_5_poly = ridge_reg.predict(poly_5_xval)\n",
    "    poly_5.append(round(r2_score(poly_5_yval, pred_ridge_5_poly), 3))\n",
    "    \n",
    "    #Fitting model for R^2 on Poly10\n",
    "    ridge_reg.fit(poly_10_xtrain, poly_10_ytrain)\n",
    "    pred_ridge_10_poly = ridge_reg.predict(poly_10_xval)\n",
    "    poly_10.append(round(r2_score(poly_10_yval, pred_ridge_10_poly), 3))\n",
    "    \n",
    "    \n",
    "titles = ['Lambda', 'Poly5 R2', 'Poly10 R2']\n",
    "data = [titles] + list(zip(lambdas, poly_5, poly_10 ))\n",
    "                   \n",
    "for i, d in enumerate(data):\n",
    "    line = '|'.join(str(x).ljust(12) for x in d)\n",
    "    print(line)\n",
    "    if i == 0:\n",
    "        print('-' * len(line))\n",
    "\n",
    "######\n"
   ]
  },
  {
   "cell_type": "markdown",
   "metadata": {
    "button": false,
    "new_sheet": false,
    "run_control": {
     "read_only": false
    }
   },
   "source": [
    "**5.2 Find the best-scoring degree and regularization combination.**"
   ]
  },
  {
   "cell_type": "code",
   "execution_count": null,
   "metadata": {
    "button": false,
    "new_sheet": false,
    "run_control": {
     "read_only": false
    }
   },
   "outputs": [],
   "source": [
    "######\n",
    "# your code here\n",
    "print('From our table, we can see that degree 10 polynomial with a lambda of less than 1, gives the best score: 0.649')\n",
    "######\n"
   ]
  },
  {
   "cell_type": "markdown",
   "metadata": {
    "button": false,
    "new_sheet": false,
    "run_control": {
     "read_only": false
    }
   },
   "source": [
    "**5.3 It's time to see how well our selected model...**\n"
   ]
  },
  {
   "cell_type": "code",
   "execution_count": null,
   "metadata": {
    "button": false,
    "new_sheet": false,
    "run_control": {
     "read_only": false
    }
   },
   "outputs": [],
   "source": [
    "######\n",
    "# your code here\n",
    "lamda = 0.5\n",
    "degree = 10\n",
    "\n",
    "\n",
    "######"
   ]
  },
  {
   "cell_type": "markdown",
   "metadata": {},
   "source": [
    "*your answer here*\n"
   ]
  },
  {
   "cell_type": "markdown",
   "metadata": {
    "button": false,
    "new_sheet": false,
    "run_control": {
     "read_only": false
    }
   },
   "source": [
    "**5.4 Build a dataset with polynomial degree 1...**"
   ]
  },
  {
   "cell_type": "code",
   "execution_count": 85,
   "metadata": {
    "button": false,
    "new_sheet": false,
    "run_control": {
     "read_only": false
    }
   },
   "outputs": [
    {
     "name": "stdout",
     "output_type": "stream",
     "text": [
      "const           129.590366\n",
      "hour             49.185721\n",
      "holiday         -32.515575\n",
      "year             37.786770\n",
      "temp             51.185074\n",
      "                   ...    \n",
      "windspeedTue      2.952011\n",
      "windspeedWed      1.348317\n",
      "windspeedThu     11.551388\n",
      "windspeedFri      3.814874\n",
      "windspeedSat      2.665156\n",
      "Length: 78, dtype: float64\n",
      "Best model searched:\n",
      "alpha = 1.0\n",
      "intercept = 139.45216791682915\n",
      "betas = [ 49.15732021 -32.3657446   37.66459231  57.7362138  -30.28395192\n",
      " -10.4058063   -7.33881074  60.58552531  57.84462744  44.50740711\n",
      "  40.58884369  50.179095     4.44796535  73.11648343 110.69692221\n",
      "  91.46020978  77.88191471   7.54722662  12.43338352   7.58319314\n",
      "   6.51951248  14.62252422  10.66501344   5.79580711 -27.27647796\n",
      "  11.21686679 -11.93253025  49.53985459  53.80563481  49.2619187\n",
      "   6.159733   -16.78820376  45.70256882  58.57729838  53.01520797\n",
      "  55.79041164  48.99247588 -22.15818039 -24.42366384 -14.22030983\n",
      " -24.87237901 -21.55000138  -4.17808281   6.33713172   4.05151575\n",
      " -14.53875854 -39.62348298 -32.81643148 -41.05482704 -49.20908843\n",
      " -67.96987262 -53.58286544 -32.2086191  -17.62425523  17.43663667\n",
      "  19.32973479  22.16571469  23.88565401  23.41818311  -4.59524345\n",
      "   1.37510322   8.0692678    5.69246654  14.21610894  25.91387287\n",
      "  32.99769401  18.12455385  16.75682976  12.89184041  -0.83001961\n",
      "  -9.8451502   -1.87521076   2.86050745   1.22304514  11.46611888\n",
      "   3.57737588   2.53342356], \n",
      "Best model searched:\n",
      "alpha = 0.01\n",
      "intercept = 142.89786811413953\n",
      "betas = [ 49.13642991 -32.10283665  37.59233008  59.54113516 -29.81839994\n",
      "  -9.39994209  -9.16711532  57.39227031  54.71188205  41.37837759\n",
      "  37.74388705  43.54350663   0.          70.09771435 107.60905943\n",
      "  88.22445738  74.44874494   7.11687242  11.9861222    7.15755929\n",
      "   6.08172236  14.1540097   10.29865932   5.74989281 -27.1760035\n",
      "   0.         -13.00029948  47.22098279  51.53710105  47.04624539\n",
      "   3.72705435 -16.24596661  44.59516657  56.33005611  50.82054993\n",
      "  53.33161487  46.46330281 -21.77806361 -24.00352731 -13.81002919\n",
      " -24.46026389 -21.13340638  -3.81858103   6.34674611   3.95694159\n",
      " -14.522347   -39.55260542 -32.84828533 -39.98549598 -48.87148101\n",
      " -67.97433708 -53.58010082 -32.00354987 -17.39983344  16.90328391\n",
      "  18.79592401  21.54389396  23.28737105  22.73514407  -5.01498151\n",
      "   0.70615332   7.44860879   5.17717863  13.6566896   25.32230438\n",
      "  32.32683985  17.4091908   16.17897695  12.30548923  -1.05341893\n",
      " -10.10846769  -2.38439798   2.25305342   0.57353156  10.8765658\n",
      "   2.79527448   1.92628024], \n"
     ]
    }
   ],
   "source": [
    "######\n",
    "# your code here\n",
    "poly_1_xtrain, poly_1_ytrain, poly_1_xval, poly_1_yval = get_design_mats(BSS_train, BSS_test, 1, ['temp', 'hum','windspeed', 'hour'], 'counts', binary_columns)\n",
    "\n",
    "X = sm.add_constant(poly_1_xtrain)\n",
    "model = OLS(poly_1_ytrain, X)\n",
    "OLSModel = model.fit()\n",
    "print(OLSModel.params)\n",
    "# print(\"Beta0 =\", OLSModel.intercept ,\", Beta1 =\", OLSModel.coef_)\n",
    "\n",
    "ridgeCV_object = RidgeCV(alphas=(.01, .05, .1, .5, 1, 5, 10, 50, 100),fit_intercept=True).fit(poly_1_xtrain , poly_1_ytrain)\n",
    "print(\"RidgeCV: Best model searched:\\nalpha = {}\\nintercept = {}\\nbetas = {}, \".format(ridgeCV_object.alpha_,\n",
    "                                                                            ridgeCV_object.intercept_,\n",
    "                                                                            ridgeCV_object.coef_\n",
    "                                                                            ))\n",
    "\n",
    "lassoCV_object = LassoCV(alphas=(.01, .05, .1, .5, 1, 5, 10, 50, 100),fit_intercept=True,max_iter=1000).fit(poly_1_xtrain , poly_1_ytrain)\n",
    "print(\"LassoCV: Best model searched:\\nalpha = {}\\nintercept = {}\\nbetas = {}, \".format(lassoCV_object.alpha_,\n",
    "                                                                            lassoCV_object.intercept_,\n",
    "                                                                            lassoCV_object.coef_\n",
    "                                                                            ))\n",
    "\n",
    "######"
   ]
  },
  {
   "cell_type": "markdown",
   "metadata": {
    "button": false,
    "new_sheet": false,
    "run_control": {
     "read_only": false
    }
   },
   "source": [
    "**5.5  Build a plot which cleanly presents, for each feature in the data...**"
   ]
  },
  {
   "cell_type": "code",
   "execution_count": null,
   "metadata": {
    "button": false,
    "new_sheet": false,
    "run_control": {
     "read_only": false
    }
   },
   "outputs": [],
   "source": [
    "######\n",
    "# your code here\n",
    "######"
   ]
  },
  {
   "cell_type": "markdown",
   "metadata": {
    "button": false,
    "new_sheet": false,
    "run_control": {
     "read_only": false
    }
   },
   "source": [
    "**5.6 What trends do you see...**"
   ]
  },
  {
   "cell_type": "markdown",
   "metadata": {
    "button": false,
    "new_sheet": false,
    "run_control": {
     "read_only": false
    }
   },
   "source": [
    "*your answer here*"
   ]
  },
  {
   "cell_type": "markdown",
   "metadata": {},
   "source": [
    "---"
   ]
  },
  {
   "cell_type": "markdown",
   "metadata": {
    "button": false,
    "new_sheet": false,
    "run_control": {
     "read_only": false
    }
   },
   "source": [
    "<div class='exercise'> <b> Question 6 [20pts]: Logistic Regression </b></div>\n",
    "\n",
    "**6.1** Using the `bikes_by_day` dataframe, create a new binary indicator variable called `casual_high` which gets the value 1 if the number of casual riders is at least 20% of total riders on that day.  Show that roughly 27.2% of days have high number of casual riders based on this metric.\n",
    "\n",
    "**6.2** Fit an unregularized logistic regression model to predict `casual_high` from `season` alone (treated properly as a categorical variable).  What is the predicted probability for a day in each of the 4 seasons?  Confirm that this matches the observed proportions in the data set.\n",
    "\n",
    "**6.3** Fit an unregularized logistic regression model to predict `casual_high` from `temp`, `season` (treated properly as a categorical variable), and the interaction between the two.  Plot the logistic curves for this model (y-axis is probability scale, x-axis is temp) for each of the 4 seasons.  Interpret this plot: what season is most affected by temperature?  What season is least affected?  What may be misleading in this plot?\n",
    "\n",
    "**6.4** At what temperatures would you classify a day as a high number of casual riders in each of the 4 seasons (this should be 4 different ranges of termperatures)?  \n",
    "\n",
    "**6.5** Fit a logistic regression models to predict `casual_high` from the 6 predictors `['windspeed','temp','atemp','hum','season','weekday']` (properly handling the 2 categorical predictors) at various levels of the regularization parameter: for `Cs = np.exp(np.arange(-1,5,0.1))`. Keep the estimated coefficient for the \n",
    "four numeric predictors ['windspeed','temp','atemp','hum'].\n",
    "\n",
    "**6.6** For `['windspeed','temp','atemp','hum']`, plot the estimated coefficients on the y-axis as a function of the regularization parameter 1/C on the x-axis (4 curves on the same plot) for the models in the previous part and add a horizontal line at zero.  What do you notice? Explain why this is occurring in 4 or fewer sentences."
   ]
  },
  {
   "cell_type": "markdown",
   "metadata": {
    "button": false,
    "new_sheet": false,
    "run_control": {
     "read_only": false
    }
   },
   "source": [
    "### Answers"
   ]
  },
  {
   "cell_type": "markdown",
   "metadata": {},
   "source": [
    "**6.1 Using the `bikes_by_day` dataframe, create a new binary indicator variable...**"
   ]
  },
  {
   "cell_type": "code",
   "execution_count": 56,
   "metadata": {},
   "outputs": [
    {
     "name": "stdout",
     "output_type": "stream",
     "text": [
      "The percentage of casual riders calculated by dividing the number of rows for which casual_high is 1, comes out to be 0.2722298221614227\n"
     ]
    },
    {
     "data": {
      "text/plain": [
       "<bound method NDFrame.head of          dteday  counts  casual  weather  registered  season  weekday  \\\n",
       "0    2011-01-01     985     331        3         654       1        6   \n",
       "1    2011-01-02     801     131        3         670       1        0   \n",
       "2    2011-01-03    1349     120        1        1229       1        1   \n",
       "3    2011-01-04    1562     108        2        1454       1        2   \n",
       "4    2011-01-05    1600      82        1        1518       1        3   \n",
       "..          ...     ...     ...      ...         ...     ...      ...   \n",
       "726  2012-12-27    2114     247        3        1867       1        4   \n",
       "727  2012-12-28    3095     644        2        2451       1        5   \n",
       "728  2012-12-29    1341     159        3        1182       1        6   \n",
       "729  2012-12-30    1796     364        2        1432       1        0   \n",
       "730  2012-12-31    2729     439        2        2290       1        1   \n",
       "\n",
       "     windspeed      temp     atemp       hum  casual_high  \n",
       "0     0.160446  0.344167  0.363625  0.805833            1  \n",
       "1     0.248539  0.363478  0.353739  0.696087            0  \n",
       "2     0.248309  0.196364  0.189405  0.437273            0  \n",
       "3     0.160296  0.200000  0.212122  0.590435            0  \n",
       "4     0.186900  0.226957  0.229270  0.436957            0  \n",
       "..         ...       ...       ...       ...          ...  \n",
       "726   0.350133  0.254167  0.226642  0.652917            0  \n",
       "727   0.155471  0.253333  0.255046  0.590000            1  \n",
       "728   0.124383  0.253333  0.242400  0.752917            0  \n",
       "729   0.350754  0.255833  0.231700  0.483333            1  \n",
       "730   0.154846  0.215833  0.223488  0.577500            0  \n",
       "\n",
       "[731 rows x 12 columns]>"
      ]
     },
     "execution_count": 56,
     "metadata": {},
     "output_type": "execute_result"
    }
   ],
   "source": [
    "######\n",
    "# your code here\n",
    "casual_high = (1*((bikes_by_day['casual'] /bikes_by_day['counts'] >= 0.2)))\n",
    "bikes_by_day.loc[:,'casual_high'] = casual_high.values\n",
    "print('The percentage of casual riders calculated by dividing the number of rows for which casual_high is 1, comes out to be', len(bikes_by_day[bikes_by_day['casual_high'] == 1])/len(bikes_by_day))\n",
    "bikes_by_day.head\n",
    "######"
   ]
  },
  {
   "cell_type": "markdown",
   "metadata": {},
   "source": [
    "**6.2 Fit an unregularized logistic regression model to predict `casual_high` from `season` alone...**"
   ]
  },
  {
   "cell_type": "code",
   "execution_count": 96,
   "metadata": {},
   "outputs": [
    {
     "name": "stdout",
     "output_type": "stream",
     "text": [
      "The exp of coefficients for a day in each of the 4 seasons is: \n",
      " 0.469244377449061 for winter\n",
      " 1.098644877110636 for spring\n",
      " 1.2572474878177897 for summer\n",
      " 0.6795061166745497 for fall\n",
      "Each estimated coefficient is the expected change in the log odds of day having casual_high weather for a unit increase in the corresponding predictor variable holding the other predictor variables constant at certain value.\n",
      "logit(p) = log(p/(1-p))= β0  + β1*season_2 + β2*season_3 + β3*season_4, where B0 is the y intercept, [-0.8200196] For our coefficients, we can see that the probability of casual high being true for spring are 9.8% higher than the other seasons, similarly, for summer 25.7% higher than other seasons, wherease for  winter the probability of causual high being true is roughly 50% less and for fall its 30% less than other season.\n",
      "The outcome of success of casual_high and failure [[0.82872972 0.17127028]\n",
      " [0.82872972 0.17127028]\n",
      " [0.82872972 0.17127028]\n",
      " ...\n",
      " [0.82872972 0.17127028]\n",
      " [0.82872972 0.17127028]\n",
      " [0.82872972 0.17127028]]\n"
     ]
    },
    {
     "data": {
      "text/plain": [
       "0.2722298221614227"
      ]
     },
     "execution_count": 96,
     "metadata": {},
     "output_type": "execute_result"
    }
   ],
   "source": [
    "######\n",
    "# your code here\n",
    "import math\n",
    "from sklearn.linear_model import LogisticRegression\n",
    "# bikes_by_day = pd.get_dummies(bikes_by_day, columns = ['season'], drop_first = False)\n",
    "bikes_by_day.head\n",
    "\n",
    "#We already have treated seasons as a categorical variable\n",
    "data_x = bikes_by_day[['season_1', 'season_2', 'season_3', 'season_4']]\n",
    "\n",
    "data_y = bikes_by_day['casual_high']\n",
    "\n",
    "logreg = LogisticRegression(C=100000, fit_intercept=True)\n",
    "logreg = logreg.fit(data_x, data_y)\n",
    "\n",
    "# logreg.coef_\n",
    "\n",
    "print(\"The exp of coefficients for a day in each of the 4 seasons is: \\n\", np.exp(logreg.coef_[0][0]), \"for winter\\n\", np.exp(logreg.coef_[0][1]), 'for spring\\n', np.exp(logreg.coef_[0][2]), 'for summer\\n', np.exp(logreg.coef_[0][3]), 'for fall')\n",
    "print('Each estimated coefficient is the expected change in the log odds of day having casual_high weather for a unit increase in the corresponding predictor variable holding the other predictor variables constant at certain value.')\n",
    "print('logit(p) = log(p/(1-p))= β0  + β1*season_2 + β2*season_3 + β3*season_4, where B0 is the y intercept,', logreg.intercept_ ,'For our coefficients, we can see that the probability of casual high being true for spring are 9.8% higher than the other seasons, similarly, for summer 25.7% higher than other seasons, wherease for  winter the probability of causual high being true is roughly 50% less and for fall its 30% less than other season.')\n",
    "\n",
    "print('The outcome of success of casual_high and failure',(logreg.predict_proba(data_x)))\n",
    "\n",
    "#len(bikes_by_day[bikes_by_day['casual_high'] == 1])/len(bikes_by_day)\n",
    "######"
   ]
  },
  {
   "cell_type": "markdown",
   "metadata": {},
   "source": [
    "**6.3 Fit an unregularized logistic regression model to predict `casual_high` from `temp`, `season` (treated properly as a categorical variable), and the interaction between the two...**"
   ]
  },
  {
   "cell_type": "code",
   "execution_count": 125,
   "metadata": {},
   "outputs": [
    {
     "data": {
      "text/plain": [
       "Text(0.5, 0, 'temp')"
      ]
     },
     "execution_count": 125,
     "metadata": {},
     "output_type": "execute_result"
    },
    {
     "data": {
      "image/png": "[encoded data removed]",
      "text/plain": [
       "<Figure size 432x288 with 1 Axes>"
      ]
     },
     "metadata": {
      "needs_background": "light"
     },
     "output_type": "display_data"
    }
   ],
   "source": [
    "######\n",
    "# your code here\n",
    "df = bikes_by_day\n",
    "df.loc[:,'season_1_temp'] = df['season_1'].values*df.temp.values\n",
    "df.loc[:,'season_2_temp'] = df['season_2'].values*df.temp.values\n",
    "df.loc[:,'season_3_temp'] = df['season_3'].values*df.temp.values\n",
    "df.loc[:,'season_4_temp'] = df['season_4'].values*df.temp.values\n",
    "\n",
    "data_x = df[['temp','season_1', 'season_2', 'season_3', 'season_4', 'season_1_temp', 'season_2_temp', 'season_3_temp', 'season_4_temp']]\n",
    "\n",
    "data_y = bikes_by_day['casual_high']\n",
    "\n",
    "logreg = LogisticRegression(C=100000, fit_intercept=True)\n",
    "logreg = logreg.fit(data_x, data_y)\n",
    "logreg.coef_\n",
    "logreg.intercept_\n",
    "# dummy_x = np.linspace(np.min(data_x)-10,np.max(data_x)+10)\n",
    "yhat_logit = logreg.predict_proba(data_x)\n",
    "\n",
    "plt.plot(data_x['temp'], yhat_logit)\n",
    "plt.ylim(-0.05,1.05)\n",
    "plt.ylabel('Proability')\n",
    "plt.xlabel('temp')\n"
   ]
  },
  {
   "cell_type": "markdown",
   "metadata": {},
   "source": [
    "*your answer here*"
   ]
  },
  {
   "cell_type": "markdown",
   "metadata": {},
   "source": [
    "**6.4  At what temperatures would you classify a day as a high number of casual riders in...**"
   ]
  },
  {
   "cell_type": "code",
   "execution_count": null,
   "metadata": {},
   "outputs": [],
   "source": [
    "######\n",
    "# your code here\n",
    "######"
   ]
  },
  {
   "cell_type": "markdown",
   "metadata": {},
   "source": [
    "**6.5  Fit a logistic regression models to predict `casual_high` from 6 predictors in the dataset....**"
   ]
  },
  {
   "cell_type": "code",
   "execution_count": 122,
   "metadata": {},
   "outputs": [
    {
     "ename": "ValueError",
     "evalue": "Penalty term must be positive; got (C=array([  0.36787944,   0.40656966,   0.44932896,   0.4965853 ,\n         0.54881164,   0.60653066,   0.67032005,   0.74081822,\n         0.81873075,   0.90483742,   1.        ,   1.10517092,\n         1.22140276,   1.34985881,   1.4918247 ,   1.64872127,\n         1.8221188 ,   2.01375271,   2.22554093,   2.45960311,\n         2.71828183,   3.00416602,   3.32011692,   3.66929667,\n         4.05519997,   4.48168907,   4.95303242,   5.47394739,\n         6.04964746,   6.68589444,   7.3890561 ,   8.16616991,\n         9.0250135 ,   9.97418245,  11.02317638,  12.18249396,\n        13.46373804,  14.87973172,  16.44464677,  18.17414537,\n        20.08553692,  22.19795128,  24.5325302 ,  27.11263892,\n        29.96410005,  33.11545196,  36.59823444,  40.44730436,\n        44.70118449,  49.40244911,  54.59815003,  60.3402876 ,\n        66.68633104,  73.6997937 ,  81.45086866,  90.0171313 ,\n        99.48431564, 109.94717245, 121.51041752, 134.28977968]))",
     "output_type": "error",
     "traceback": [
      "\u001b[1;31m---------------------------------------------------------------------------\u001b[0m",
      "\u001b[1;31mValueError\u001b[0m                                Traceback (most recent call last)",
      "\u001b[1;32m<ipython-input-122-03844b18154f>\u001b[0m in \u001b[0;36m<module>\u001b[1;34m\u001b[0m\n\u001b[0;32m     12\u001b[0m \u001b[1;33m\u001b[0m\u001b[0m\n\u001b[0;32m     13\u001b[0m \u001b[0mlogreg\u001b[0m \u001b[1;33m=\u001b[0m \u001b[0mLogisticRegression\u001b[0m\u001b[1;33m(\u001b[0m\u001b[0mC\u001b[0m\u001b[1;33m=\u001b[0m\u001b[0mCs\u001b[0m\u001b[1;33m,\u001b[0m \u001b[0mpenalty\u001b[0m\u001b[1;33m=\u001b[0m\u001b[1;34m\"l2\"\u001b[0m\u001b[1;33m)\u001b[0m\u001b[1;33m\u001b[0m\u001b[1;33m\u001b[0m\u001b[0m\n\u001b[1;32m---> 14\u001b[1;33m \u001b[0mlogreg\u001b[0m \u001b[1;33m=\u001b[0m \u001b[0mlogreg\u001b[0m\u001b[1;33m.\u001b[0m\u001b[0mfit\u001b[0m\u001b[1;33m(\u001b[0m\u001b[0mdata_x\u001b[0m\u001b[1;33m,\u001b[0m \u001b[0mdata_y\u001b[0m\u001b[1;33m.\u001b[0m\u001b[0mvalues\u001b[0m\u001b[1;33m.\u001b[0m\u001b[0mreshape\u001b[0m\u001b[1;33m(\u001b[0m\u001b[1;33m-\u001b[0m\u001b[1;36m1\u001b[0m\u001b[1;33m,\u001b[0m\u001b[1;36m1\u001b[0m\u001b[1;33m)\u001b[0m\u001b[1;33m)\u001b[0m\u001b[1;33m\u001b[0m\u001b[1;33m\u001b[0m\u001b[0m\n\u001b[0m\u001b[0;32m     15\u001b[0m \u001b[0mlogreg\u001b[0m\u001b[1;33m.\u001b[0m\u001b[0mcoef_\u001b[0m\u001b[1;33m\u001b[0m\u001b[1;33m\u001b[0m\u001b[0m\n\u001b[0;32m     16\u001b[0m \u001b[0mlogreg\u001b[0m\u001b[1;33m.\u001b[0m\u001b[0mintercept_\u001b[0m\u001b[1;33m\u001b[0m\u001b[1;33m\u001b[0m\u001b[0m\n",
      "\u001b[1;32m~\\anaconda3\\lib\\site-packages\\sklearn\\linear_model\\_logistic.py\u001b[0m in \u001b[0;36mfit\u001b[1;34m(self, X, y, sample_weight)\u001b[0m\n\u001b[0;32m   1490\u001b[0m         \u001b[1;32mif\u001b[0m \u001b[1;32mnot\u001b[0m \u001b[0misinstance\u001b[0m\u001b[1;33m(\u001b[0m\u001b[0mself\u001b[0m\u001b[1;33m.\u001b[0m\u001b[0mC\u001b[0m\u001b[1;33m,\u001b[0m \u001b[0mnumbers\u001b[0m\u001b[1;33m.\u001b[0m\u001b[0mNumber\u001b[0m\u001b[1;33m)\u001b[0m \u001b[1;32mor\u001b[0m \u001b[0mself\u001b[0m\u001b[1;33m.\u001b[0m\u001b[0mC\u001b[0m \u001b[1;33m<\u001b[0m \u001b[1;36m0\u001b[0m\u001b[1;33m:\u001b[0m\u001b[1;33m\u001b[0m\u001b[1;33m\u001b[0m\u001b[0m\n\u001b[0;32m   1491\u001b[0m             raise ValueError(\"Penalty term must be positive; got (C=%r)\"\n\u001b[1;32m-> 1492\u001b[1;33m                              % self.C)\n\u001b[0m\u001b[0;32m   1493\u001b[0m         \u001b[1;32mif\u001b[0m \u001b[0mself\u001b[0m\u001b[1;33m.\u001b[0m\u001b[0mpenalty\u001b[0m \u001b[1;33m==\u001b[0m \u001b[1;34m'elasticnet'\u001b[0m\u001b[1;33m:\u001b[0m\u001b[1;33m\u001b[0m\u001b[1;33m\u001b[0m\u001b[0m\n\u001b[0;32m   1494\u001b[0m             if (not isinstance(self.l1_ratio, numbers.Number) or\n",
      "\u001b[1;31mValueError\u001b[0m: Penalty term must be positive; got (C=array([  0.36787944,   0.40656966,   0.44932896,   0.4965853 ,\n         0.54881164,   0.60653066,   0.67032005,   0.74081822,\n         0.81873075,   0.90483742,   1.        ,   1.10517092,\n         1.22140276,   1.34985881,   1.4918247 ,   1.64872127,\n         1.8221188 ,   2.01375271,   2.22554093,   2.45960311,\n         2.71828183,   3.00416602,   3.32011692,   3.66929667,\n         4.05519997,   4.48168907,   4.95303242,   5.47394739,\n         6.04964746,   6.68589444,   7.3890561 ,   8.16616991,\n         9.0250135 ,   9.97418245,  11.02317638,  12.18249396,\n        13.46373804,  14.87973172,  16.44464677,  18.17414537,\n        20.08553692,  22.19795128,  24.5325302 ,  27.11263892,\n        29.96410005,  33.11545196,  36.59823444,  40.44730436,\n        44.70118449,  49.40244911,  54.59815003,  60.3402876 ,\n        66.68633104,  73.6997937 ,  81.45086866,  90.0171313 ,\n        99.48431564, 109.94717245, 121.51041752, 134.28977968]))"
     ]
    }
   ],
   "source": [
    "######\n",
    "# your code here\n",
    "# data_x = bikes_by_day['windspeed','temp','atemp','hum','weekday']\n",
    "# bikes_by_day = pd.get_dummies(bikes_by_day, columns = ['weekday'], drop_first = False)\n",
    "bikes_by_day.head\n",
    "\n",
    "Cs = np.exp(np.arange(-1,5,0.1))\n",
    "#We already have treated seasons as a categorical variable\n",
    "data_x = bikes_by_day[['windspeed','temp','atemp','hum','season_1', 'season_2', 'season_3', 'season_4', 'weekday_0', 'weekday_1', 'weekday_2', 'weekday_3', 'weekday_4','weekday_5', 'weekday_6']]\n",
    "                      \n",
    "data_y = bikes_by_day['casual_high']\n",
    "                      \n",
    "logreg = LogisticRegression(C=Cs, penalty=\"l2\")\n",
    "logreg = logreg.fit(data_x, data_y.values.reshape(-1,1))\n",
    "logreg.coef_\n",
    "logreg.intercept_\n",
    "\n",
    "######"
   ]
  },
  {
   "cell_type": "markdown",
   "metadata": {},
   "source": [
    "**6.6 For `['windspeed','temp','atemp','hum']`, plot the estimated coefficient...**"
   ]
  },
  {
   "cell_type": "code",
   "execution_count": null,
   "metadata": {},
   "outputs": [],
   "source": [
    "######\n",
    "# your code here\n",
    "######"
   ]
  },
  {
   "cell_type": "markdown",
   "metadata": {},
   "source": [
    "*your answer here*"
   ]
  },
  {
   "cell_type": "code",
   "execution_count": null,
   "metadata": {},
   "outputs": [],
   "source": []
  }
 ],
 "metadata": {
  "anaconda-cloud": {},
  "kernelspec": {
   "display_name": "Python 3",
   "language": "python",
   "name": "python3"
  },
  "language_info": {
   "codemirror_mode": {
    "name": "ipython",
    "version": 3
   },
   "file_extension": ".py",
   "mimetype": "text/x-python",
   "name": "python",
   "nbconvert_exporter": "python",
   "pygments_lexer": "ipython3",
   "version": "3.7.6"
  }
 },
 "nbformat": 4,
 "nbformat_minor": 2
}
