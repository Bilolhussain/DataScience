{
 "cells": [
  {
   "cell_type": "markdown",
   "metadata": {
    "button": false,
    "new_sheet": false,
    "run_control": {
     "read_only": false
    }
   },
   "source": [
    "# <img style=\"float: left; padding-right: 10px; width: 45px\" src=\"https://raw.githubusercontent.com/Harvard-IACS/2018-CS109A/master/content/styles/iacs.png\"> CS-S109A Introduction to Data Science \n",
    "\n",
    "## Homework 4:  Classification, PCA, and Trees\n",
    "\n",
    "**Harvard University**<br/>\n",
    "**Summer 2020**<br/>\n",
    "**Instructors**: Kevin Rader\n",
    "\n",
    "\n",
    "<hr style='height:2px'>\n",
    "\n",
    "---\n",
    "\n"
   ]
  },
  {
   "cell_type": "code",
   "execution_count": 2,
   "metadata": {},
   "outputs": [
    {
     "data": {
      "text/html": [
       "<style>\n",
       "blockquote { background: #AEDE94; }\n",
       "h1 { \n",
       "    padding-top: 25px;\n",
       "    padding-bottom: 25px;\n",
       "    text-align: left; \n",
       "    padding-left: 10px;\n",
       "    background-color: #DDDDDD; \n",
       "    color: black;\n",
       "}\n",
       "h2 { \n",
       "    padding-top: 10px;\n",
       "    padding-bottom: 10px;\n",
       "    text-align: left; \n",
       "    padding-left: 5px;\n",
       "    background-color: #EEEEEE; \n",
       "    color: black;\n",
       "}\n",
       "\n",
       "div.exercise {\n",
       "\tbackground-color: #ffcccc;\n",
       "\tborder-color: #E9967A; \t\n",
       "\tborder-left: 5px solid #800080; \n",
       "\tpadding: 0.5em;\n",
       "}\n",
       "\n",
       "span.sub-q {\n",
       "\tfont-weight: bold;\n",
       "}\n",
       "div.theme {\n",
       "\tbackground-color: #DDDDDD;\n",
       "\tborder-color: #E9967A; \t\n",
       "\tborder-left: 5px solid #800080; \n",
       "\tpadding: 0.5em;\n",
       "\tfont-size: 18pt;\n",
       "}\n",
       "div.gc { \n",
       "\tbackground-color: #AEDE94;\n",
       "\tborder-color: #E9967A; \t \n",
       "\tborder-left: 5px solid #800080; \n",
       "\tpadding: 0.5em;\n",
       "\tfont-size: 12pt;\n",
       "}\n",
       "p.q1 { \n",
       "    padding-top: 5px;\n",
       "    padding-bottom: 5px;\n",
       "    text-align: left; \n",
       "    padding-left: 5px;\n",
       "    background-color: #EEEEEE; \n",
       "    color: black;\n",
       "}\n",
       "header {\n",
       "   padding-top: 35px;\n",
       "    padding-bottom: 35px;\n",
       "    text-align: left; \n",
       "    padding-left: 10px;\n",
       "    background-color: #DDDDDD; \n",
       "    color: black;\n",
       "}\n",
       "</style>\n",
       "\n"
      ],
      "text/plain": [
       "<IPython.core.display.HTML object>"
      ]
     },
     "execution_count": 2,
     "metadata": {},
     "output_type": "execute_result"
    }
   ],
   "source": [
    "## RUN THIS CELL TO GET THE RIGHT FORMATTING \n",
    "import requests\n",
    "from IPython.core.display import HTML\n",
    "styles = requests.get(\"https://raw.githubusercontent.com/Harvard-IACS/2018-CS109A/master/content/styles/cs109.css\").text\n",
    "HTML(styles)"
   ]
  },
  {
   "cell_type": "markdown",
   "metadata": {},
   "source": [
    "### INSTRUCTIONS\n",
    "\n",
    "- To submit your assignment follow the instructions given in Canvas.\n",
    "- Restart the kernel and run the whole notebook again before you submit. \n",
    "- If you submit individually and you have worked with someone, please include the name of your [one] partner below. \n",
    "- As much as possible, try and stick to the hints and functions we import at the top of the homework, as those are the ideas and tools the class supports and is aiming to teach. And if a problem specifies a particular library you're required to use that library, and possibly others from the import list.\n",
    "- Please use .head() when viewing data. Do not submit a notebook that is excessively long because output was not suppressed or otherwise limited. "
   ]
  },
  {
   "cell_type": "code",
   "execution_count": 4,
   "metadata": {},
   "outputs": [],
   "source": [
    "import numpy as np\n",
    "import pandas as pd\n",
    "\n",
    "from sklearn.linear_model import LogisticRegression\n",
    "from sklearn.linear_model import LogisticRegressionCV\n",
    "\n",
    "from sklearn.neighbors import KNeighborsClassifier\n",
    "from sklearn.model_selection import cross_val_score\n",
    "from sklearn.metrics import accuracy_score\n",
    "from sklearn.model_selection import KFold\n",
    "from sklearn.preprocessing import MinMaxScaler\n",
    "from sklearn.model_selection import train_test_split\n",
    "from sklearn import metrics\n",
    "from sklearn.decomposition import PCA\n",
    "from sklearn.tree import DecisionTreeClassifier\n",
    "from sklearn.ensemble import RandomForestClassifier\n",
    "\n",
    "import matplotlib\n",
    "import matplotlib.pyplot as plt\n",
    "%matplotlib inline\n",
    "\n",
    "import zipfile\n",
    "\n",
    "\n",
    "import seaborn as sns\n",
    "sns.set()\n",
    "\n",
    "from scipy.stats import ttest_ind"
   ]
  },
  {
   "cell_type": "markdown",
   "metadata": {},
   "source": [
    "<div class='theme'> Cancer Classification from Gene Expressions </div>\n",
    "\n",
    "In this problem, we will build a classification model to distinguish between two related classes of cancer, acute lymphoblastic leukemia (ALL) and acute myeloid leukemia (AML), using gene expression measurements. The dataset is provided in the file `data/genomic_data.csv`. Each row in this file corresponds to a tumor tissue sample from a patient with one of the two forms of Leukemia. The first column contains the cancer type, with **0 indicating the ALL** class and **1 indicating the AML** class. Columns 2-7130 contain expression levels of 7129 genes recorded from each tissue sample. \n",
    "\n",
    "In the following questions, we will use linear and logistic regression to build classification models for this data set. \n"
   ]
  },
  {
   "cell_type": "markdown",
   "metadata": {},
   "source": [
    "<div class='exercise'><b> Question 1 [13 pts]: Data Exploration </b></div>\n",
    "\n",
    "The first step is to split the observations into an approximate 75-25 train-test split.  Below is some code to do this for you (we want to make sure everyone has the same splits). It also prints the dataset's shape before splitting and after splitting. `Cancer_type` is our target column.\n",
    "\n",
    "\n",
    "**1.1** Take a peek at your training set: you should notice the severe differences in the measurements from one gene to the next (some are negative, some hover around zero, and some are well into the thousands). To account for these differences in scale and variability, normalize each predictor to vary between 0 and 1. **NOTE: for the entirety of this homework assignment, you will use these normalized values, not the original, raw values**. Normalizing genomic data is a fairly standard first step.\n",
    "\n",
    "\n",
    "**1.2** The training set contains more predictors than observations. What problem(s) can this lead to in fitting a classification model to such a dataset? Explain in 3 or fewer sentences.\n",
    "\n",
    "\n",
    "**1.3** Determine which single gene individually discriminates between the two cancer classes the best (consider every gene in the dataset) and call it `best_predictor`.\n",
    "\n",
    "Plot two histograms of your `best_predictor` -- one using the training set and another using the testing set. The histogram should clearly distinguish two different `Cancer_type` classes.\n",
    "\n",
    "**Hint:** You may use any reasonable approach to determine the `best_predictor`, but please use something very simple (whether taught in this class or elsewhere).\n",
    "\n",
    "\n",
    "**1.4** Using `best_predictor`, create a classification model by simply eye-balling a value for this gene that would discriminate the two classes the best (do not use an algorithm to determine for you the optimal coefficient or threshold; we are asking you to provide a rough estimate / model by manual inspection). Justify your choice in 1-2 sentences. Report the accuracy of your hand-chosen model on the test set.\n",
    "\n",
    "<hr> "
   ]
  },
  {
   "cell_type": "markdown",
   "metadata": {},
   "source": [
    "\n",
    "### Answers"
   ]
  },
  {
   "cell_type": "markdown",
   "metadata": {},
   "source": [
    "**The first step is to split the observations into an approximate 75-25 train-test split. Below is some code to do this for you (we want to make sure everyone has the same splits). Print dataset shape before splitting and after splitting. `Cancer_type` is our target column.**"
   ]
  },
  {
   "cell_type": "code",
   "execution_count": 5,
   "metadata": {},
   "outputs": [],
   "source": [
    "np.random.seed(10)\n",
    "df = pd.read_csv('data/genomic_data.csv', index_col=0)\n",
    "X_train, X_test, y_train, y_test = train_test_split(df.loc[:, df.columns != 'Cancer_type'], \n",
    "                                                         df.Cancer_type, test_size=0.25, \n",
    "                                                         random_state = 109, \n",
    "                                                         stratify = df.Cancer_type)"
   ]
  },
  {
   "cell_type": "code",
   "execution_count": 6,
   "metadata": {},
   "outputs": [
    {
     "name": "stdout",
     "output_type": "stream",
     "text": [
      "(752, 7130)\n",
      "(564, 7129) (188, 7129) (564,) (188,)\n",
      "0.0    0.511968\n",
      "1.0    0.488032\n",
      "Name: Cancer_type, dtype: float64\n"
     ]
    }
   ],
   "source": [
    "print(df.shape)\n",
    "print(X_train.shape, X_test.shape, y_train.shape, y_test.shape)\n",
    "print(df.Cancer_type.value_counts(normalize=True))"
   ]
  },
  {
   "cell_type": "markdown",
   "metadata": {},
   "source": [
    "**1.1 Take a peek at your training set: you should notice the severe differences in the measurements from one gene to the next (some are negative, some hover around zero, and some are well into the thousands). To account for these differences in scale and variability, normalize each predictor to vary between 0 and 1. **NOTE: for the entirety of this homework assignment, you will use these normalized values, not the original, raw values.**\n"
   ]
  },
  {
   "cell_type": "code",
   "execution_count": 7,
   "metadata": {},
   "outputs": [
    {
     "data": {
      "text/html": [
       "<div>\n",
       "<style scoped>\n",
       "    .dataframe tbody tr th:only-of-type {\n",
       "        vertical-align: middle;\n",
       "    }\n",
       "\n",
       "    .dataframe tbody tr th {\n",
       "        vertical-align: top;\n",
       "    }\n",
       "\n",
       "    .dataframe thead th {\n",
       "        text-align: right;\n",
       "    }\n",
       "</style>\n",
       "<table border=\"1\" class=\"dataframe\">\n",
       "  <thead>\n",
       "    <tr style=\"text-align: right;\">\n",
       "      <th></th>\n",
       "      <th>AFFX-BioB-5_at</th>\n",
       "      <th>AFFX-BioB-M_at</th>\n",
       "      <th>AFFX-BioB-3_at</th>\n",
       "      <th>AFFX-BioC-5_at</th>\n",
       "      <th>AFFX-BioC-3_at</th>\n",
       "      <th>AFFX-BioDn-5_at</th>\n",
       "      <th>AFFX-BioDn-3_at</th>\n",
       "      <th>AFFX-CreX-5_at</th>\n",
       "      <th>AFFX-CreX-3_at</th>\n",
       "      <th>AFFX-BioB-5_st</th>\n",
       "      <th>...</th>\n",
       "      <th>U48730_at</th>\n",
       "      <th>U58516_at</th>\n",
       "      <th>U73738_at</th>\n",
       "      <th>X06956_at</th>\n",
       "      <th>X16699_at</th>\n",
       "      <th>X83863_at</th>\n",
       "      <th>Z17240_at</th>\n",
       "      <th>L49218_f_at</th>\n",
       "      <th>M71243_f_at</th>\n",
       "      <th>Z78285_f_at</th>\n",
       "    </tr>\n",
       "  </thead>\n",
       "  <tbody>\n",
       "    <tr>\n",
       "      <th>count</th>\n",
       "      <td>564.000000</td>\n",
       "      <td>564.000000</td>\n",
       "      <td>564.000000</td>\n",
       "      <td>564.000000</td>\n",
       "      <td>564.000000</td>\n",
       "      <td>564.000000</td>\n",
       "      <td>564.000000</td>\n",
       "      <td>564.000000</td>\n",
       "      <td>564.000000</td>\n",
       "      <td>564.000000</td>\n",
       "      <td>...</td>\n",
       "      <td>564.000000</td>\n",
       "      <td>564.000000</td>\n",
       "      <td>564.000000</td>\n",
       "      <td>564.000000</td>\n",
       "      <td>564.000000</td>\n",
       "      <td>564.000000</td>\n",
       "      <td>564.000000</td>\n",
       "      <td>564.000000</td>\n",
       "      <td>564.000000</td>\n",
       "      <td>564.000000</td>\n",
       "    </tr>\n",
       "    <tr>\n",
       "      <th>mean</th>\n",
       "      <td>-117.907036</td>\n",
       "      <td>-163.527476</td>\n",
       "      <td>26.835753</td>\n",
       "      <td>210.370847</td>\n",
       "      <td>-248.657677</td>\n",
       "      <td>-406.595313</td>\n",
       "      <td>-28.764782</td>\n",
       "      <td>-190.080423</td>\n",
       "      <td>74.023263</td>\n",
       "      <td>94.750752</td>\n",
       "      <td>...</td>\n",
       "      <td>162.952887</td>\n",
       "      <td>698.676059</td>\n",
       "      <td>2.962852</td>\n",
       "      <td>415.726722</td>\n",
       "      <td>-50.791438</td>\n",
       "      <td>833.447504</td>\n",
       "      <td>329.612463</td>\n",
       "      <td>7.808718</td>\n",
       "      <td>520.229369</td>\n",
       "      <td>-24.088765</td>\n",
       "    </tr>\n",
       "    <tr>\n",
       "      <th>std</th>\n",
       "      <td>169.792429</td>\n",
       "      <td>189.691312</td>\n",
       "      <td>205.798155</td>\n",
       "      <td>205.008971</td>\n",
       "      <td>209.564816</td>\n",
       "      <td>258.448200</td>\n",
       "      <td>541.128517</td>\n",
       "      <td>162.728073</td>\n",
       "      <td>175.291394</td>\n",
       "      <td>356.386595</td>\n",
       "      <td>...</td>\n",
       "      <td>164.794952</td>\n",
       "      <td>521.178135</td>\n",
       "      <td>151.324810</td>\n",
       "      <td>580.873231</td>\n",
       "      <td>106.535986</td>\n",
       "      <td>820.213770</td>\n",
       "      <td>370.829412</td>\n",
       "      <td>84.859351</td>\n",
       "      <td>936.957523</td>\n",
       "      <td>72.056218</td>\n",
       "    </tr>\n",
       "    <tr>\n",
       "      <th>min</th>\n",
       "      <td>-894.789505</td>\n",
       "      <td>-1095.737090</td>\n",
       "      <td>-645.439001</td>\n",
       "      <td>-425.750627</td>\n",
       "      <td>-1154.285694</td>\n",
       "      <td>-1091.492494</td>\n",
       "      <td>-2066.516448</td>\n",
       "      <td>-728.996262</td>\n",
       "      <td>-770.025847</td>\n",
       "      <td>-1176.663615</td>\n",
       "      <td>...</td>\n",
       "      <td>-416.206278</td>\n",
       "      <td>-1010.430536</td>\n",
       "      <td>-447.077819</td>\n",
       "      <td>-1870.955269</td>\n",
       "      <td>-432.967768</td>\n",
       "      <td>-2151.593119</td>\n",
       "      <td>-651.051441</td>\n",
       "      <td>-255.419724</td>\n",
       "      <td>-2754.665185</td>\n",
       "      <td>-237.864216</td>\n",
       "    </tr>\n",
       "    <tr>\n",
       "      <th>25%</th>\n",
       "      <td>-225.038171</td>\n",
       "      <td>-274.322819</td>\n",
       "      <td>-95.270925</td>\n",
       "      <td>84.245857</td>\n",
       "      <td>-379.511872</td>\n",
       "      <td>-566.993723</td>\n",
       "      <td>-342.364586</td>\n",
       "      <td>-300.978001</td>\n",
       "      <td>-20.279803</td>\n",
       "      <td>-122.958169</td>\n",
       "      <td>...</td>\n",
       "      <td>68.056179</td>\n",
       "      <td>354.959208</td>\n",
       "      <td>-88.764266</td>\n",
       "      <td>96.448742</td>\n",
       "      <td>-105.297264</td>\n",
       "      <td>274.126036</td>\n",
       "      <td>89.320933</td>\n",
       "      <td>-41.845553</td>\n",
       "      <td>-49.150550</td>\n",
       "      <td>-73.781203</td>\n",
       "    </tr>\n",
       "    <tr>\n",
       "      <th>50%</th>\n",
       "      <td>-107.412549</td>\n",
       "      <td>-146.993065</td>\n",
       "      <td>20.548933</td>\n",
       "      <td>213.143203</td>\n",
       "      <td>-228.639073</td>\n",
       "      <td>-432.747578</td>\n",
       "      <td>-49.602631</td>\n",
       "      <td>-179.079214</td>\n",
       "      <td>88.038576</td>\n",
       "      <td>102.087963</td>\n",
       "      <td>...</td>\n",
       "      <td>153.844059</td>\n",
       "      <td>679.200114</td>\n",
       "      <td>8.707703</td>\n",
       "      <td>379.423043</td>\n",
       "      <td>-35.816408</td>\n",
       "      <td>776.498538</td>\n",
       "      <td>290.209261</td>\n",
       "      <td>7.337169</td>\n",
       "      <td>460.622697</td>\n",
       "      <td>-25.003950</td>\n",
       "    </tr>\n",
       "    <tr>\n",
       "      <th>75%</th>\n",
       "      <td>-6.157261</td>\n",
       "      <td>-43.097489</td>\n",
       "      <td>127.413838</td>\n",
       "      <td>331.513199</td>\n",
       "      <td>-115.153022</td>\n",
       "      <td>-251.990616</td>\n",
       "      <td>324.333687</td>\n",
       "      <td>-73.891345</td>\n",
       "      <td>186.391086</td>\n",
       "      <td>284.218792</td>\n",
       "      <td>...</td>\n",
       "      <td>265.721675</td>\n",
       "      <td>1058.612890</td>\n",
       "      <td>95.688864</td>\n",
       "      <td>718.826611</td>\n",
       "      <td>19.827732</td>\n",
       "      <td>1321.287958</td>\n",
       "      <td>520.922602</td>\n",
       "      <td>62.512588</td>\n",
       "      <td>1109.915839</td>\n",
       "      <td>20.020152</td>\n",
       "    </tr>\n",
       "    <tr>\n",
       "      <th>max</th>\n",
       "      <td>516.618491</td>\n",
       "      <td>384.626762</td>\n",
       "      <td>696.983127</td>\n",
       "      <td>1022.560525</td>\n",
       "      <td>308.876677</td>\n",
       "      <td>607.737258</td>\n",
       "      <td>1385.881293</td>\n",
       "      <td>263.634029</td>\n",
       "      <td>589.778466</td>\n",
       "      <td>1355.537180</td>\n",
       "      <td>...</td>\n",
       "      <td>686.321597</td>\n",
       "      <td>2522.188808</td>\n",
       "      <td>481.820516</td>\n",
       "      <td>3982.980299</td>\n",
       "      <td>215.047697</td>\n",
       "      <td>3743.264860</td>\n",
       "      <td>1996.244626</td>\n",
       "      <td>274.575647</td>\n",
       "      <td>3315.374276</td>\n",
       "      <td>224.773440</td>\n",
       "    </tr>\n",
       "  </tbody>\n",
       "</table>\n",
       "<p>8 rows × 7129 columns</p>\n",
       "</div>"
      ],
      "text/plain": [
       "       AFFX-BioB-5_at  AFFX-BioB-M_at  AFFX-BioB-3_at  AFFX-BioC-5_at  \\\n",
       "count      564.000000      564.000000      564.000000      564.000000   \n",
       "mean      -117.907036     -163.527476       26.835753      210.370847   \n",
       "std        169.792429      189.691312      205.798155      205.008971   \n",
       "min       -894.789505    -1095.737090     -645.439001     -425.750627   \n",
       "25%       -225.038171     -274.322819      -95.270925       84.245857   \n",
       "50%       -107.412549     -146.993065       20.548933      213.143203   \n",
       "75%         -6.157261      -43.097489      127.413838      331.513199   \n",
       "max        516.618491      384.626762      696.983127     1022.560525   \n",
       "\n",
       "       AFFX-BioC-3_at  AFFX-BioDn-5_at  AFFX-BioDn-3_at  AFFX-CreX-5_at  \\\n",
       "count      564.000000       564.000000       564.000000      564.000000   \n",
       "mean      -248.657677      -406.595313       -28.764782     -190.080423   \n",
       "std        209.564816       258.448200       541.128517      162.728073   \n",
       "min      -1154.285694     -1091.492494     -2066.516448     -728.996262   \n",
       "25%       -379.511872      -566.993723      -342.364586     -300.978001   \n",
       "50%       -228.639073      -432.747578       -49.602631     -179.079214   \n",
       "75%       -115.153022      -251.990616       324.333687      -73.891345   \n",
       "max        308.876677       607.737258      1385.881293      263.634029   \n",
       "\n",
       "       AFFX-CreX-3_at  AFFX-BioB-5_st  ...   U48730_at    U58516_at  \\\n",
       "count      564.000000      564.000000  ...  564.000000   564.000000   \n",
       "mean        74.023263       94.750752  ...  162.952887   698.676059   \n",
       "std        175.291394      356.386595  ...  164.794952   521.178135   \n",
       "min       -770.025847    -1176.663615  ... -416.206278 -1010.430536   \n",
       "25%        -20.279803     -122.958169  ...   68.056179   354.959208   \n",
       "50%         88.038576      102.087963  ...  153.844059   679.200114   \n",
       "75%        186.391086      284.218792  ...  265.721675  1058.612890   \n",
       "max        589.778466     1355.537180  ...  686.321597  2522.188808   \n",
       "\n",
       "        U73738_at    X06956_at   X16699_at    X83863_at    Z17240_at  \\\n",
       "count  564.000000   564.000000  564.000000   564.000000   564.000000   \n",
       "mean     2.962852   415.726722  -50.791438   833.447504   329.612463   \n",
       "std    151.324810   580.873231  106.535986   820.213770   370.829412   \n",
       "min   -447.077819 -1870.955269 -432.967768 -2151.593119  -651.051441   \n",
       "25%    -88.764266    96.448742 -105.297264   274.126036    89.320933   \n",
       "50%      8.707703   379.423043  -35.816408   776.498538   290.209261   \n",
       "75%     95.688864   718.826611   19.827732  1321.287958   520.922602   \n",
       "max    481.820516  3982.980299  215.047697  3743.264860  1996.244626   \n",
       "\n",
       "       L49218_f_at  M71243_f_at  Z78285_f_at  \n",
       "count   564.000000   564.000000   564.000000  \n",
       "mean      7.808718   520.229369   -24.088765  \n",
       "std      84.859351   936.957523    72.056218  \n",
       "min    -255.419724 -2754.665185  -237.864216  \n",
       "25%     -41.845553   -49.150550   -73.781203  \n",
       "50%       7.337169   460.622697   -25.003950  \n",
       "75%      62.512588  1109.915839    20.020152  \n",
       "max     274.575647  3315.374276   224.773440  \n",
       "\n",
       "[8 rows x 7129 columns]"
      ]
     },
     "execution_count": 7,
     "metadata": {},
     "output_type": "execute_result"
    }
   ],
   "source": [
    "X_train.describe()"
   ]
  },
  {
   "cell_type": "code",
   "execution_count": 9,
   "metadata": {},
   "outputs": [],
   "source": [
    "X_test = pd.DataFrame(MinMaxScaler().fit(X_train).transform(X_test), columns = X_test.columns, index = X_test.index)\n",
    "X_train = pd.DataFrame(MinMaxScaler().fit_transform(X_train), columns = X_train.columns, index = X_train.index)"
   ]
  },
  {
   "cell_type": "code",
   "execution_count": 8,
   "metadata": {},
   "outputs": [
    {
     "data": {
      "text/html": [
       "<div>\n",
       "<style scoped>\n",
       "    .dataframe tbody tr th:only-of-type {\n",
       "        vertical-align: middle;\n",
       "    }\n",
       "\n",
       "    .dataframe tbody tr th {\n",
       "        vertical-align: top;\n",
       "    }\n",
       "\n",
       "    .dataframe thead th {\n",
       "        text-align: right;\n",
       "    }\n",
       "</style>\n",
       "<table border=\"1\" class=\"dataframe\">\n",
       "  <thead>\n",
       "    <tr style=\"text-align: right;\">\n",
       "      <th></th>\n",
       "      <th>AFFX-BioB-5_at</th>\n",
       "      <th>AFFX-BioB-M_at</th>\n",
       "      <th>AFFX-BioB-3_at</th>\n",
       "      <th>AFFX-BioC-5_at</th>\n",
       "      <th>AFFX-BioC-3_at</th>\n",
       "      <th>AFFX-BioDn-5_at</th>\n",
       "      <th>AFFX-BioDn-3_at</th>\n",
       "      <th>AFFX-CreX-5_at</th>\n",
       "      <th>AFFX-CreX-3_at</th>\n",
       "      <th>AFFX-BioB-5_st</th>\n",
       "      <th>...</th>\n",
       "      <th>U48730_at</th>\n",
       "      <th>U58516_at</th>\n",
       "      <th>U73738_at</th>\n",
       "      <th>X06956_at</th>\n",
       "      <th>X16699_at</th>\n",
       "      <th>X83863_at</th>\n",
       "      <th>Z17240_at</th>\n",
       "      <th>L49218_f_at</th>\n",
       "      <th>M71243_f_at</th>\n",
       "      <th>Z78285_f_at</th>\n",
       "    </tr>\n",
       "  </thead>\n",
       "  <tbody>\n",
       "    <tr>\n",
       "      <th>count</th>\n",
       "      <td>564.000000</td>\n",
       "      <td>564.000000</td>\n",
       "      <td>564.000000</td>\n",
       "      <td>564.000000</td>\n",
       "      <td>564.000000</td>\n",
       "      <td>564.000000</td>\n",
       "      <td>564.000000</td>\n",
       "      <td>564.000000</td>\n",
       "      <td>564.000000</td>\n",
       "      <td>564.000000</td>\n",
       "      <td>...</td>\n",
       "      <td>564.000000</td>\n",
       "      <td>564.000000</td>\n",
       "      <td>564.000000</td>\n",
       "      <td>564.000000</td>\n",
       "      <td>564.000000</td>\n",
       "      <td>564.000000</td>\n",
       "      <td>564.000000</td>\n",
       "      <td>564.000000</td>\n",
       "      <td>564.000000</td>\n",
       "      <td>564.000000</td>\n",
       "    </tr>\n",
       "    <tr>\n",
       "      <th>mean</th>\n",
       "      <td>-117.907036</td>\n",
       "      <td>-163.527476</td>\n",
       "      <td>26.835753</td>\n",
       "      <td>210.370847</td>\n",
       "      <td>-248.657677</td>\n",
       "      <td>-406.595313</td>\n",
       "      <td>-28.764782</td>\n",
       "      <td>-190.080423</td>\n",
       "      <td>74.023263</td>\n",
       "      <td>94.750752</td>\n",
       "      <td>...</td>\n",
       "      <td>162.952887</td>\n",
       "      <td>698.676059</td>\n",
       "      <td>2.962852</td>\n",
       "      <td>415.726722</td>\n",
       "      <td>-50.791438</td>\n",
       "      <td>833.447504</td>\n",
       "      <td>329.612463</td>\n",
       "      <td>7.808718</td>\n",
       "      <td>520.229369</td>\n",
       "      <td>-24.088765</td>\n",
       "    </tr>\n",
       "    <tr>\n",
       "      <th>std</th>\n",
       "      <td>169.792429</td>\n",
       "      <td>189.691312</td>\n",
       "      <td>205.798155</td>\n",
       "      <td>205.008971</td>\n",
       "      <td>209.564816</td>\n",
       "      <td>258.448200</td>\n",
       "      <td>541.128517</td>\n",
       "      <td>162.728073</td>\n",
       "      <td>175.291394</td>\n",
       "      <td>356.386595</td>\n",
       "      <td>...</td>\n",
       "      <td>164.794952</td>\n",
       "      <td>521.178135</td>\n",
       "      <td>151.324810</td>\n",
       "      <td>580.873231</td>\n",
       "      <td>106.535986</td>\n",
       "      <td>820.213770</td>\n",
       "      <td>370.829412</td>\n",
       "      <td>84.859351</td>\n",
       "      <td>936.957523</td>\n",
       "      <td>72.056218</td>\n",
       "    </tr>\n",
       "    <tr>\n",
       "      <th>min</th>\n",
       "      <td>-894.789505</td>\n",
       "      <td>-1095.737090</td>\n",
       "      <td>-645.439001</td>\n",
       "      <td>-425.750627</td>\n",
       "      <td>-1154.285694</td>\n",
       "      <td>-1091.492494</td>\n",
       "      <td>-2066.516448</td>\n",
       "      <td>-728.996262</td>\n",
       "      <td>-770.025847</td>\n",
       "      <td>-1176.663615</td>\n",
       "      <td>...</td>\n",
       "      <td>-416.206278</td>\n",
       "      <td>-1010.430536</td>\n",
       "      <td>-447.077819</td>\n",
       "      <td>-1870.955269</td>\n",
       "      <td>-432.967768</td>\n",
       "      <td>-2151.593119</td>\n",
       "      <td>-651.051441</td>\n",
       "      <td>-255.419724</td>\n",
       "      <td>-2754.665185</td>\n",
       "      <td>-237.864216</td>\n",
       "    </tr>\n",
       "    <tr>\n",
       "      <th>25%</th>\n",
       "      <td>-225.038171</td>\n",
       "      <td>-274.322819</td>\n",
       "      <td>-95.270925</td>\n",
       "      <td>84.245857</td>\n",
       "      <td>-379.511872</td>\n",
       "      <td>-566.993723</td>\n",
       "      <td>-342.364586</td>\n",
       "      <td>-300.978001</td>\n",
       "      <td>-20.279803</td>\n",
       "      <td>-122.958169</td>\n",
       "      <td>...</td>\n",
       "      <td>68.056179</td>\n",
       "      <td>354.959208</td>\n",
       "      <td>-88.764266</td>\n",
       "      <td>96.448742</td>\n",
       "      <td>-105.297264</td>\n",
       "      <td>274.126036</td>\n",
       "      <td>89.320933</td>\n",
       "      <td>-41.845553</td>\n",
       "      <td>-49.150550</td>\n",
       "      <td>-73.781203</td>\n",
       "    </tr>\n",
       "    <tr>\n",
       "      <th>50%</th>\n",
       "      <td>-107.412549</td>\n",
       "      <td>-146.993065</td>\n",
       "      <td>20.548933</td>\n",
       "      <td>213.143203</td>\n",
       "      <td>-228.639073</td>\n",
       "      <td>-432.747578</td>\n",
       "      <td>-49.602631</td>\n",
       "      <td>-179.079214</td>\n",
       "      <td>88.038576</td>\n",
       "      <td>102.087963</td>\n",
       "      <td>...</td>\n",
       "      <td>153.844059</td>\n",
       "      <td>679.200114</td>\n",
       "      <td>8.707703</td>\n",
       "      <td>379.423043</td>\n",
       "      <td>-35.816408</td>\n",
       "      <td>776.498538</td>\n",
       "      <td>290.209261</td>\n",
       "      <td>7.337169</td>\n",
       "      <td>460.622697</td>\n",
       "      <td>-25.003950</td>\n",
       "    </tr>\n",
       "    <tr>\n",
       "      <th>75%</th>\n",
       "      <td>-6.157261</td>\n",
       "      <td>-43.097489</td>\n",
       "      <td>127.413838</td>\n",
       "      <td>331.513199</td>\n",
       "      <td>-115.153022</td>\n",
       "      <td>-251.990616</td>\n",
       "      <td>324.333687</td>\n",
       "      <td>-73.891345</td>\n",
       "      <td>186.391086</td>\n",
       "      <td>284.218792</td>\n",
       "      <td>...</td>\n",
       "      <td>265.721675</td>\n",
       "      <td>1058.612890</td>\n",
       "      <td>95.688864</td>\n",
       "      <td>718.826611</td>\n",
       "      <td>19.827732</td>\n",
       "      <td>1321.287958</td>\n",
       "      <td>520.922602</td>\n",
       "      <td>62.512588</td>\n",
       "      <td>1109.915839</td>\n",
       "      <td>20.020152</td>\n",
       "    </tr>\n",
       "    <tr>\n",
       "      <th>max</th>\n",
       "      <td>516.618491</td>\n",
       "      <td>384.626762</td>\n",
       "      <td>696.983127</td>\n",
       "      <td>1022.560525</td>\n",
       "      <td>308.876677</td>\n",
       "      <td>607.737258</td>\n",
       "      <td>1385.881293</td>\n",
       "      <td>263.634029</td>\n",
       "      <td>589.778466</td>\n",
       "      <td>1355.537180</td>\n",
       "      <td>...</td>\n",
       "      <td>686.321597</td>\n",
       "      <td>2522.188808</td>\n",
       "      <td>481.820516</td>\n",
       "      <td>3982.980299</td>\n",
       "      <td>215.047697</td>\n",
       "      <td>3743.264860</td>\n",
       "      <td>1996.244626</td>\n",
       "      <td>274.575647</td>\n",
       "      <td>3315.374276</td>\n",
       "      <td>224.773440</td>\n",
       "    </tr>\n",
       "  </tbody>\n",
       "</table>\n",
       "<p>8 rows × 7129 columns</p>\n",
       "</div>"
      ],
      "text/plain": [
       "       AFFX-BioB-5_at  AFFX-BioB-M_at  AFFX-BioB-3_at  AFFX-BioC-5_at  \\\n",
       "count      564.000000      564.000000      564.000000      564.000000   \n",
       "mean      -117.907036     -163.527476       26.835753      210.370847   \n",
       "std        169.792429      189.691312      205.798155      205.008971   \n",
       "min       -894.789505    -1095.737090     -645.439001     -425.750627   \n",
       "25%       -225.038171     -274.322819      -95.270925       84.245857   \n",
       "50%       -107.412549     -146.993065       20.548933      213.143203   \n",
       "75%         -6.157261      -43.097489      127.413838      331.513199   \n",
       "max        516.618491      384.626762      696.983127     1022.560525   \n",
       "\n",
       "       AFFX-BioC-3_at  AFFX-BioDn-5_at  AFFX-BioDn-3_at  AFFX-CreX-5_at  \\\n",
       "count      564.000000       564.000000       564.000000      564.000000   \n",
       "mean      -248.657677      -406.595313       -28.764782     -190.080423   \n",
       "std        209.564816       258.448200       541.128517      162.728073   \n",
       "min      -1154.285694     -1091.492494     -2066.516448     -728.996262   \n",
       "25%       -379.511872      -566.993723      -342.364586     -300.978001   \n",
       "50%       -228.639073      -432.747578       -49.602631     -179.079214   \n",
       "75%       -115.153022      -251.990616       324.333687      -73.891345   \n",
       "max        308.876677       607.737258      1385.881293      263.634029   \n",
       "\n",
       "       AFFX-CreX-3_at  AFFX-BioB-5_st  ...   U48730_at    U58516_at  \\\n",
       "count      564.000000      564.000000  ...  564.000000   564.000000   \n",
       "mean        74.023263       94.750752  ...  162.952887   698.676059   \n",
       "std        175.291394      356.386595  ...  164.794952   521.178135   \n",
       "min       -770.025847    -1176.663615  ... -416.206278 -1010.430536   \n",
       "25%        -20.279803     -122.958169  ...   68.056179   354.959208   \n",
       "50%         88.038576      102.087963  ...  153.844059   679.200114   \n",
       "75%        186.391086      284.218792  ...  265.721675  1058.612890   \n",
       "max        589.778466     1355.537180  ...  686.321597  2522.188808   \n",
       "\n",
       "        U73738_at    X06956_at   X16699_at    X83863_at    Z17240_at  \\\n",
       "count  564.000000   564.000000  564.000000   564.000000   564.000000   \n",
       "mean     2.962852   415.726722  -50.791438   833.447504   329.612463   \n",
       "std    151.324810   580.873231  106.535986   820.213770   370.829412   \n",
       "min   -447.077819 -1870.955269 -432.967768 -2151.593119  -651.051441   \n",
       "25%    -88.764266    96.448742 -105.297264   274.126036    89.320933   \n",
       "50%      8.707703   379.423043  -35.816408   776.498538   290.209261   \n",
       "75%     95.688864   718.826611   19.827732  1321.287958   520.922602   \n",
       "max    481.820516  3982.980299  215.047697  3743.264860  1996.244626   \n",
       "\n",
       "       L49218_f_at  M71243_f_at  Z78285_f_at  \n",
       "count   564.000000   564.000000   564.000000  \n",
       "mean      7.808718   520.229369   -24.088765  \n",
       "std      84.859351   936.957523    72.056218  \n",
       "min    -255.419724 -2754.665185  -237.864216  \n",
       "25%     -41.845553   -49.150550   -73.781203  \n",
       "50%       7.337169   460.622697   -25.003950  \n",
       "75%      62.512588  1109.915839    20.020152  \n",
       "max     274.575647  3315.374276   224.773440  \n",
       "\n",
       "[8 rows x 7129 columns]"
      ]
     },
     "execution_count": 8,
     "metadata": {},
     "output_type": "execute_result"
    }
   ],
   "source": [
    "X_train.describe()"
   ]
  },
  {
   "cell_type": "code",
   "execution_count": 9,
   "metadata": {},
   "outputs": [
    {
     "data": {
      "text/html": [
       "<div>\n",
       "<style scoped>\n",
       "    .dataframe tbody tr th:only-of-type {\n",
       "        vertical-align: middle;\n",
       "    }\n",
       "\n",
       "    .dataframe tbody tr th {\n",
       "        vertical-align: top;\n",
       "    }\n",
       "\n",
       "    .dataframe thead th {\n",
       "        text-align: right;\n",
       "    }\n",
       "</style>\n",
       "<table border=\"1\" class=\"dataframe\">\n",
       "  <thead>\n",
       "    <tr style=\"text-align: right;\">\n",
       "      <th></th>\n",
       "      <th>AFFX-BioB-5_at</th>\n",
       "      <th>AFFX-BioB-M_at</th>\n",
       "      <th>AFFX-BioB-3_at</th>\n",
       "      <th>AFFX-BioC-5_at</th>\n",
       "      <th>AFFX-BioC-3_at</th>\n",
       "      <th>AFFX-BioDn-5_at</th>\n",
       "      <th>AFFX-BioDn-3_at</th>\n",
       "      <th>AFFX-CreX-5_at</th>\n",
       "      <th>AFFX-CreX-3_at</th>\n",
       "      <th>AFFX-BioB-5_st</th>\n",
       "      <th>...</th>\n",
       "      <th>U48730_at</th>\n",
       "      <th>U58516_at</th>\n",
       "      <th>U73738_at</th>\n",
       "      <th>X06956_at</th>\n",
       "      <th>X16699_at</th>\n",
       "      <th>X83863_at</th>\n",
       "      <th>Z17240_at</th>\n",
       "      <th>L49218_f_at</th>\n",
       "      <th>M71243_f_at</th>\n",
       "      <th>Z78285_f_at</th>\n",
       "    </tr>\n",
       "  </thead>\n",
       "  <tbody>\n",
       "    <tr>\n",
       "      <th>count</th>\n",
       "      <td>188.000000</td>\n",
       "      <td>188.000000</td>\n",
       "      <td>188.000000</td>\n",
       "      <td>188.000000</td>\n",
       "      <td>188.000000</td>\n",
       "      <td>188.000000</td>\n",
       "      <td>188.000000</td>\n",
       "      <td>188.000000</td>\n",
       "      <td>188.000000</td>\n",
       "      <td>188.000000</td>\n",
       "      <td>...</td>\n",
       "      <td>188.000000</td>\n",
       "      <td>188.000000</td>\n",
       "      <td>188.000000</td>\n",
       "      <td>188.000000</td>\n",
       "      <td>188.000000</td>\n",
       "      <td>188.000000</td>\n",
       "      <td>188.000000</td>\n",
       "      <td>188.000000</td>\n",
       "      <td>188.000000</td>\n",
       "      <td>188.000000</td>\n",
       "    </tr>\n",
       "    <tr>\n",
       "      <th>mean</th>\n",
       "      <td>0.561738</td>\n",
       "      <td>0.634597</td>\n",
       "      <td>0.501239</td>\n",
       "      <td>0.433427</td>\n",
       "      <td>0.612125</td>\n",
       "      <td>0.380404</td>\n",
       "      <td>0.582946</td>\n",
       "      <td>0.532833</td>\n",
       "      <td>0.631379</td>\n",
       "      <td>0.517483</td>\n",
       "      <td>...</td>\n",
       "      <td>0.519247</td>\n",
       "      <td>0.511867</td>\n",
       "      <td>0.472841</td>\n",
       "      <td>0.395106</td>\n",
       "      <td>0.605775</td>\n",
       "      <td>0.519104</td>\n",
       "      <td>0.389816</td>\n",
       "      <td>0.517771</td>\n",
       "      <td>0.513215</td>\n",
       "      <td>0.453961</td>\n",
       "    </tr>\n",
       "    <tr>\n",
       "      <th>std</th>\n",
       "      <td>0.123235</td>\n",
       "      <td>0.134141</td>\n",
       "      <td>0.157874</td>\n",
       "      <td>0.131229</td>\n",
       "      <td>0.136587</td>\n",
       "      <td>0.147493</td>\n",
       "      <td>0.138172</td>\n",
       "      <td>0.156388</td>\n",
       "      <td>0.115769</td>\n",
       "      <td>0.148621</td>\n",
       "      <td>...</td>\n",
       "      <td>0.136079</td>\n",
       "      <td>0.153522</td>\n",
       "      <td>0.159465</td>\n",
       "      <td>0.109187</td>\n",
       "      <td>0.154944</td>\n",
       "      <td>0.129731</td>\n",
       "      <td>0.133707</td>\n",
       "      <td>0.151813</td>\n",
       "      <td>0.152040</td>\n",
       "      <td>0.132519</td>\n",
       "    </tr>\n",
       "    <tr>\n",
       "      <th>min</th>\n",
       "      <td>0.222337</td>\n",
       "      <td>0.052362</td>\n",
       "      <td>0.104800</td>\n",
       "      <td>0.105928</td>\n",
       "      <td>0.071105</td>\n",
       "      <td>0.041556</td>\n",
       "      <td>0.156020</td>\n",
       "      <td>0.039091</td>\n",
       "      <td>0.320783</td>\n",
       "      <td>0.206945</td>\n",
       "      <td>...</td>\n",
       "      <td>-0.077168</td>\n",
       "      <td>0.070354</td>\n",
       "      <td>0.092721</td>\n",
       "      <td>0.181925</td>\n",
       "      <td>0.057503</td>\n",
       "      <td>0.149185</td>\n",
       "      <td>0.030233</td>\n",
       "      <td>0.140083</td>\n",
       "      <td>0.074901</td>\n",
       "      <td>0.054844</td>\n",
       "    </tr>\n",
       "    <tr>\n",
       "      <th>25%</th>\n",
       "      <td>0.500665</td>\n",
       "      <td>0.562184</td>\n",
       "      <td>0.403885</td>\n",
       "      <td>0.347752</td>\n",
       "      <td>0.529243</td>\n",
       "      <td>0.281566</td>\n",
       "      <td>0.492646</td>\n",
       "      <td>0.422516</td>\n",
       "      <td>0.556706</td>\n",
       "      <td>0.433877</td>\n",
       "      <td>...</td>\n",
       "      <td>0.441398</td>\n",
       "      <td>0.408140</td>\n",
       "      <td>0.361823</td>\n",
       "      <td>0.329071</td>\n",
       "      <td>0.515338</td>\n",
       "      <td>0.435752</td>\n",
       "      <td>0.304626</td>\n",
       "      <td>0.424325</td>\n",
       "      <td>0.430404</td>\n",
       "      <td>0.368946</td>\n",
       "    </tr>\n",
       "    <tr>\n",
       "      <th>50%</th>\n",
       "      <td>0.570258</td>\n",
       "      <td>0.645425</td>\n",
       "      <td>0.483037</td>\n",
       "      <td>0.426811</td>\n",
       "      <td>0.627283</td>\n",
       "      <td>0.372691</td>\n",
       "      <td>0.582697</td>\n",
       "      <td>0.546694</td>\n",
       "      <td>0.631572</td>\n",
       "      <td>0.504297</td>\n",
       "      <td>...</td>\n",
       "      <td>0.524073</td>\n",
       "      <td>0.490492</td>\n",
       "      <td>0.474553</td>\n",
       "      <td>0.383808</td>\n",
       "      <td>0.610087</td>\n",
       "      <td>0.512868</td>\n",
       "      <td>0.375929</td>\n",
       "      <td>0.516419</td>\n",
       "      <td>0.493434</td>\n",
       "      <td>0.447750</td>\n",
       "    </tr>\n",
       "    <tr>\n",
       "      <th>75%</th>\n",
       "      <td>0.637644</td>\n",
       "      <td>0.714132</td>\n",
       "      <td>0.602182</td>\n",
       "      <td>0.522053</td>\n",
       "      <td>0.689176</td>\n",
       "      <td>0.470946</td>\n",
       "      <td>0.658562</td>\n",
       "      <td>0.633396</td>\n",
       "      <td>0.716083</td>\n",
       "      <td>0.596946</td>\n",
       "      <td>...</td>\n",
       "      <td>0.589623</td>\n",
       "      <td>0.611714</td>\n",
       "      <td>0.566337</td>\n",
       "      <td>0.438184</td>\n",
       "      <td>0.706367</td>\n",
       "      <td>0.599912</td>\n",
       "      <td>0.479222</td>\n",
       "      <td>0.619085</td>\n",
       "      <td>0.593413</td>\n",
       "      <td>0.526402</td>\n",
       "    </tr>\n",
       "    <tr>\n",
       "      <th>max</th>\n",
       "      <td>0.914668</td>\n",
       "      <td>0.956050</td>\n",
       "      <td>1.038177</td>\n",
       "      <td>0.809448</td>\n",
       "      <td>1.083614</td>\n",
       "      <td>0.814954</td>\n",
       "      <td>0.935497</td>\n",
       "      <td>0.951292</td>\n",
       "      <td>0.948824</td>\n",
       "      <td>1.135258</td>\n",
       "      <td>...</td>\n",
       "      <td>0.897353</td>\n",
       "      <td>0.956029</td>\n",
       "      <td>0.930731</td>\n",
       "      <td>0.837301</td>\n",
       "      <td>0.975043</td>\n",
       "      <td>0.856707</td>\n",
       "      <td>0.771090</td>\n",
       "      <td>0.905217</td>\n",
       "      <td>1.030505</td>\n",
       "      <td>0.867071</td>\n",
       "    </tr>\n",
       "  </tbody>\n",
       "</table>\n",
       "<p>8 rows × 7129 columns</p>\n",
       "</div>"
      ],
      "text/plain": [
       "       AFFX-BioB-5_at  AFFX-BioB-M_at  AFFX-BioB-3_at  AFFX-BioC-5_at  \\\n",
       "count      188.000000      188.000000      188.000000      188.000000   \n",
       "mean         0.561738        0.634597        0.501239        0.433427   \n",
       "std          0.123235        0.134141        0.157874        0.131229   \n",
       "min          0.222337        0.052362        0.104800        0.105928   \n",
       "25%          0.500665        0.562184        0.403885        0.347752   \n",
       "50%          0.570258        0.645425        0.483037        0.426811   \n",
       "75%          0.637644        0.714132        0.602182        0.522053   \n",
       "max          0.914668        0.956050        1.038177        0.809448   \n",
       "\n",
       "       AFFX-BioC-3_at  AFFX-BioDn-5_at  AFFX-BioDn-3_at  AFFX-CreX-5_at  \\\n",
       "count      188.000000       188.000000       188.000000      188.000000   \n",
       "mean         0.612125         0.380404         0.582946        0.532833   \n",
       "std          0.136587         0.147493         0.138172        0.156388   \n",
       "min          0.071105         0.041556         0.156020        0.039091   \n",
       "25%          0.529243         0.281566         0.492646        0.422516   \n",
       "50%          0.627283         0.372691         0.582697        0.546694   \n",
       "75%          0.689176         0.470946         0.658562        0.633396   \n",
       "max          1.083614         0.814954         0.935497        0.951292   \n",
       "\n",
       "       AFFX-CreX-3_at  AFFX-BioB-5_st  ...   U48730_at   U58516_at  \\\n",
       "count      188.000000      188.000000  ...  188.000000  188.000000   \n",
       "mean         0.631379        0.517483  ...    0.519247    0.511867   \n",
       "std          0.115769        0.148621  ...    0.136079    0.153522   \n",
       "min          0.320783        0.206945  ...   -0.077168    0.070354   \n",
       "25%          0.556706        0.433877  ...    0.441398    0.408140   \n",
       "50%          0.631572        0.504297  ...    0.524073    0.490492   \n",
       "75%          0.716083        0.596946  ...    0.589623    0.611714   \n",
       "max          0.948824        1.135258  ...    0.897353    0.956029   \n",
       "\n",
       "        U73738_at   X06956_at   X16699_at   X83863_at   Z17240_at  \\\n",
       "count  188.000000  188.000000  188.000000  188.000000  188.000000   \n",
       "mean     0.472841    0.395106    0.605775    0.519104    0.389816   \n",
       "std      0.159465    0.109187    0.154944    0.129731    0.133707   \n",
       "min      0.092721    0.181925    0.057503    0.149185    0.030233   \n",
       "25%      0.361823    0.329071    0.515338    0.435752    0.304626   \n",
       "50%      0.474553    0.383808    0.610087    0.512868    0.375929   \n",
       "75%      0.566337    0.438184    0.706367    0.599912    0.479222   \n",
       "max      0.930731    0.837301    0.975043    0.856707    0.771090   \n",
       "\n",
       "       L49218_f_at  M71243_f_at  Z78285_f_at  \n",
       "count   188.000000   188.000000   188.000000  \n",
       "mean      0.517771     0.513215     0.453961  \n",
       "std       0.151813     0.152040     0.132519  \n",
       "min       0.140083     0.074901     0.054844  \n",
       "25%       0.424325     0.430404     0.368946  \n",
       "50%       0.516419     0.493434     0.447750  \n",
       "75%       0.619085     0.593413     0.526402  \n",
       "max       0.905217     1.030505     0.867071  \n",
       "\n",
       "[8 rows x 7129 columns]"
      ]
     },
     "execution_count": 9,
     "metadata": {},
     "output_type": "execute_result"
    }
   ],
   "source": [
    "X_test.describe()"
   ]
  },
  {
   "cell_type": "code",
   "execution_count": 10,
   "metadata": {},
   "outputs": [],
   "source": [
    "train = pd.concat([X_train, y_train], axis = 1)\n",
    "test = pd.concat([X_test, y_test], axis = 1)"
   ]
  },
  {
   "cell_type": "markdown",
   "metadata": {},
   "source": [
    "**1.2 The training set contains more predictors than observations. What problem(s) can this lead to in fitting a  classification model to such a dataset? Explain in 3 or fewer sentences.**"
   ]
  },
  {
   "cell_type": "markdown",
   "metadata": {},
   "source": [
    "When there are more features than there are observations, the model will overfit to the training set, but fail to generalize to other data sets. Multicollinearity is likely to be present in the model as well, and matrices may not be invertible, which is a problem for OLS regressions. Ways to compensate for this overabundance of features for potential models is to choose a subset of the predictor variables or to rely on regularization to reduce variance."
   ]
  },
  {
   "cell_type": "markdown",
   "metadata": {},
   "source": [
    "**1.3 Determine which single gene individually discriminates between the two cancer classes the best (consider every gene in the dataset) and call it `best_predictor`.**\n",
    "\n",
    "**Plot two histograms of your `best_predictor` -- one using the training set and another using the testing set. The histogram should clearly distinguish two different `Cancer_type` classes.**"
   ]
  },
  {
   "cell_type": "code",
   "execution_count": 11,
   "metadata": {
    "scrolled": true
   },
   "outputs": [
    {
     "data": {
      "text/html": [
       "<div>\n",
       "<style scoped>\n",
       "    .dataframe tbody tr th:only-of-type {\n",
       "        vertical-align: middle;\n",
       "    }\n",
       "\n",
       "    .dataframe tbody tr th {\n",
       "        vertical-align: top;\n",
       "    }\n",
       "\n",
       "    .dataframe thead th {\n",
       "        text-align: right;\n",
       "    }\n",
       "</style>\n",
       "<table border=\"1\" class=\"dataframe\">\n",
       "  <thead>\n",
       "    <tr style=\"text-align: right;\">\n",
       "      <th></th>\n",
       "      <th>predictor</th>\n",
       "      <th>ttest</th>\n",
       "    </tr>\n",
       "  </thead>\n",
       "  <tbody>\n",
       "    <tr>\n",
       "      <th>0</th>\n",
       "      <td>AFFX-BioB-5_at</td>\n",
       "      <td>-2.90043</td>\n",
       "    </tr>\n",
       "    <tr>\n",
       "      <th>1</th>\n",
       "      <td>AFFX-BioB-M_at</td>\n",
       "      <td>-6.53582</td>\n",
       "    </tr>\n",
       "    <tr>\n",
       "      <th>2</th>\n",
       "      <td>AFFX-BioB-3_at</td>\n",
       "      <td>-0.599274</td>\n",
       "    </tr>\n",
       "    <tr>\n",
       "      <th>3</th>\n",
       "      <td>AFFX-BioC-5_at</td>\n",
       "      <td>2.20951</td>\n",
       "    </tr>\n",
       "    <tr>\n",
       "      <th>4</th>\n",
       "      <td>AFFX-BioC-3_at</td>\n",
       "      <td>-5.99498</td>\n",
       "    </tr>\n",
       "    <tr>\n",
       "      <th>...</th>\n",
       "      <td>...</td>\n",
       "      <td>...</td>\n",
       "    </tr>\n",
       "    <tr>\n",
       "      <th>7124</th>\n",
       "      <td>X83863_at</td>\n",
       "      <td>-0.859423</td>\n",
       "    </tr>\n",
       "    <tr>\n",
       "      <th>7125</th>\n",
       "      <td>Z17240_at</td>\n",
       "      <td>5.35509</td>\n",
       "    </tr>\n",
       "    <tr>\n",
       "      <th>7126</th>\n",
       "      <td>L49218_f_at</td>\n",
       "      <td>-0.410204</td>\n",
       "    </tr>\n",
       "    <tr>\n",
       "      <th>7127</th>\n",
       "      <td>M71243_f_at</td>\n",
       "      <td>-2.3555</td>\n",
       "    </tr>\n",
       "    <tr>\n",
       "      <th>7128</th>\n",
       "      <td>Z78285_f_at</td>\n",
       "      <td>1.15618</td>\n",
       "    </tr>\n",
       "  </tbody>\n",
       "</table>\n",
       "<p>7129 rows × 2 columns</p>\n",
       "</div>"
      ],
      "text/plain": [
       "           predictor     ttest\n",
       "0     AFFX-BioB-5_at  -2.90043\n",
       "1     AFFX-BioB-M_at  -6.53582\n",
       "2     AFFX-BioB-3_at -0.599274\n",
       "3     AFFX-BioC-5_at   2.20951\n",
       "4     AFFX-BioC-3_at  -5.99498\n",
       "...              ...       ...\n",
       "7124       X83863_at -0.859423\n",
       "7125       Z17240_at   5.35509\n",
       "7126     L49218_f_at -0.410204\n",
       "7127     M71243_f_at   -2.3555\n",
       "7128     Z78285_f_at   1.15618\n",
       "\n",
       "[7129 rows x 2 columns]"
      ]
     },
     "execution_count": 11,
     "metadata": {},
     "output_type": "execute_result"
    }
   ],
   "source": [
    "######\n",
    "from sklearn.linear_model import LinearRegression\n",
    "from scipy.stats import ttest_ind\n",
    "\n",
    "ttest_scores1_3 = pd.DataFrame(columns = ['predictor', 'ttest'])\n",
    "ttest_scores1_3['predictor'] = X_train.columns\n",
    "for i in range(len(ttest_scores1_3)):\n",
    "    col = ttest_scores1_3.iloc[i][0]\n",
    "    ttest_score_val, p_val = ttest_ind(y_train, X_train[X_train.columns[i]], equal_var=False)\n",
    "    ttest_scores1_3.iloc[i][1] = ttest_score_val\n",
    "    \n",
    "ttest_scores1_3\n",
    "######"
   ]
  },
  {
   "cell_type": "code",
   "execution_count": 12,
   "metadata": {},
   "outputs": [
    {
     "name": "stdout",
     "output_type": "stream",
     "text": [
      "The best predictor is M28825_at with a t-test value of 10.091020834770662.\n"
     ]
    }
   ],
   "source": [
    "best_predictor_tval = abs(ttest_scores1_3['ttest']).max()\n",
    "best_predictor = ttest_scores1_3[abs(ttest_scores1_3['ttest']) == best_predictor_tval]['predictor'].iloc[0]\n",
    "best_predictor_ttest = ttest_scores1_3[ttest_scores1_3['predictor']==best_predictor].iloc[0][1]\n",
    "print('The best predictor is '+ str(best_predictor) + \" with a t-test value of \"\\\n",
    "     + str(best_predictor_ttest) + \".\")"
   ]
  },
  {
   "cell_type": "code",
   "execution_count": 13,
   "metadata": {},
   "outputs": [
    {
     "data": {
      "image/png": "[encoded data removed]",
      "text/plain": [
       "<Figure size 432x288 with 2 Axes>"
      ]
     },
     "metadata": {},
     "output_type": "display_data"
    }
   ],
   "source": [
    "fig, axes = plt.subplots(nrows=1, ncols=2)\n",
    "ax0, ax1 = axes.flatten()\n",
    "\n",
    "ax0.hist(train[train['Cancer_type'] == 1][best_predictor], color ='blue', alpha = 0.4, label = 'AML')\n",
    "ax0.hist(train[train['Cancer_type'] == 0][best_predictor], color ='green', alpha = 0.4, label = 'ALL')\n",
    "ax0.set_xlabel('Best Predictor')\n",
    "ax0.set_ylabel('Count')\n",
    "ax0.legend(shadow=True, fancybox=True)\n",
    "ax0.set_title('Training')\n",
    "\n",
    "ax1.hist(test[test['Cancer_type'] == 1][best_predictor], color ='blue', alpha = 0.4, label = 'AML')\n",
    "ax1.hist(test[test['Cancer_type'] == 0][best_predictor], color ='green', alpha = 0.4, label = 'ALL')\n",
    "ax1.set_xlabel('Best Predictor')\n",
    "ax1.set_ylabel('Count')\n",
    "ax1.legend(shadow=True, fancybox=True)\n",
    "ax1.set_title('Test')\n",
    "\n",
    "fig.tight_layout()\n",
    "plt.show()"
   ]
  },
  {
   "cell_type": "markdown",
   "metadata": {},
   "source": [
    "**1.4 Using `best_predictor`, create a classification model by simply eye-balling a value for this gene that would discriminate the two classes the best (do not use an algorithm to determine for you the optimal coefficient or threshold; we are asking you to provide a rough estimate / model by manual inspection). Justify your choice in 1-2 sentences. Report the accuracy of your hand-chosen model on the test set.**\n"
   ]
  },
  {
   "cell_type": "code",
   "execution_count": 14,
   "metadata": {},
   "outputs": [
    {
     "name": "stdout",
     "output_type": "stream",
     "text": [
      "The accuracy of the eye-balled model on the training data is 0.5088652482269503\n",
      "The accuracy of the eye-balled model on the test data is 0.5425531914893617\n"
     ]
    }
   ],
   "source": [
    "######\n",
    "y_pred_train = X_train[best_predictor] >= 0.315\n",
    "print('The accuracy of the eye-balled model on the training data is', accuracy_score(y_train, y_pred_train))\n",
    "y_pred_test = X_test[best_predictor] >= 0.315\n",
    "print('The accuracy of the eye-balled model on the test data is', accuracy_score(y_test, y_pred_test))\n",
    "######"
   ]
  },
  {
   "cell_type": "markdown",
   "metadata": {},
   "source": [
    "Based on the on the histograms, a threshhold of 0.315 could be reasonable cutoff for differentiating between AML and ALL, with anything below the threshold likely to indicate AML, and anything above the thresshold to be classified as ALL. Since there is a large degree of overlap between the two distributions, there is not a clear threshold between the two cancer types, but the best_predictor model is only a slightly more accurate predictor than a random guess would be (0.5). "
   ]
  },
  {
   "cell_type": "markdown",
   "metadata": {},
   "source": [
    "---"
   ]
  },
  {
   "cell_type": "markdown",
   "metadata": {},
   "source": [
    "<div class='exercise'> <b> Question 2 [20pts]: Logistic Regression Modeling </b> </div>\n",
    "\n",
    "\n",
    "**2.1** Fit a simple logistic regression model to the training set using the single gene predictor `best_predictor` to predict cancer type. Calculate the training and test classification accuracies of this model. How do these compare to the eye-balled from 1.4? \n",
    "\n",
    "*Remember, you need to set the regularization parameter for sklearn's logistic regression function to be a very large value in order to **not** regularize (use 'C=100000').\n",
    "\n",
    "**2.2** Next, fit a multiple logistic regression model with **all** the gene predictors from the data set (reminder: for this assignment, we are always using the normalized values). How does the classification accuracy of this model compare with the models fitted with a single gene (on both the training and test sets)?  \n",
    "\n",
    "**2.3** Print out and interpret the logistic regression coefficients for  `best_predictor` from both the simple logistic and multiple logistic regression models from the previous two parts.  Do they agree or disagree?  What does this indicate?\n",
    "\n",
    "**2.4** Now let's use regularization to improve the predictions from the multiple logistic regression model. Specifically, use LASSO-like regularization and 5-fold cross-validation to fit the model on the training set. Report the classification accuracy on both the training and testing set.\n",
    "\n",
    "**2.5** How many predictors are considered as important features in this regularized model?  What does that say about the full logistic regression model in problem 2.2?"
   ]
  },
  {
   "cell_type": "markdown",
   "metadata": {},
   "source": [
    "\n",
    "## Answers"
   ]
  },
  {
   "cell_type": "markdown",
   "metadata": {},
   "source": [
    "**2.1 Fit a simple logistic regression model to the training set using the single gene predictor `best_predictor` to predict cancer type. Calculate the training and test classification accuracies of this model. How do these compare to the eye-balled from 1.4?**"
   ]
  },
  {
   "cell_type": "code",
   "execution_count": 15,
   "metadata": {},
   "outputs": [
    {
     "name": "stdout",
     "output_type": "stream",
     "text": [
      "The classification accuracy of the model is 0.5372340425531915, and the value of the coefficient is 0.3736783930031581.\n"
     ]
    }
   ],
   "source": [
    "######\n",
    "model2_1 = LogisticRegression(C=100000, fit_intercept=True).fit(X_train[[best_predictor]], y_train)\n",
    "yhat2_1 = model2_1.predict(X_test[best_predictor].values.reshape(-1,1))\n",
    "\n",
    "print(\"The classification accuracy of the model is \" + str(metrics.accuracy_score(y_test, yhat2_1)) + \", and \" +\\\n",
    "      \"the value of the coefficient is \" + str(model2_1.coef_[0][0]) + \".\")\n",
    "######"
   ]
  },
  {
   "cell_type": "markdown",
   "metadata": {},
   "source": [
    "The classification accuracy of this model is around the same degree of precision as the eyeballed model from 1.4."
   ]
  },
  {
   "cell_type": "markdown",
   "metadata": {},
   "source": [
    "**2.2 Next, fit a multiple logistic regression model with *all* the gene predictors from the data set (reminder: for this assignment, we are always using the normalized values). How does the classification accuracy of this model compare with the models fitted with a single gene (on both the training and test sets)?**\n"
   ]
  },
  {
   "cell_type": "code",
   "execution_count": 16,
   "metadata": {},
   "outputs": [
    {
     "name": "stdout",
     "output_type": "stream",
     "text": [
      "The classification accuracy of the model is 0.7872340425531915, and the value of the coefficient is 1.0633994617453673.\n"
     ]
    }
   ],
   "source": [
    "######\n",
    "model2_2 = LogisticRegression(C=100000, fit_intercept=True, max_iter=100000).fit(X_train, y_train)\n",
    "yhat2_2 = model2_2.predict(X_test)\n",
    "\n",
    "print(\"The classification accuracy of the model is \" + str(metrics.accuracy_score(y_test, yhat2_2)) + \", and \" +\\\n",
    "      \"the value of the coefficient is \" + str(model2_2.coef_[0][0]) + \".\")\n",
    "######"
   ]
  },
  {
   "cell_type": "markdown",
   "metadata": {},
   "source": [
    "The classification accuracy in this model with all predictor is 79%, rough 25% more accurate than the prior model, with just the best predictor for the model."
   ]
  },
  {
   "cell_type": "markdown",
   "metadata": {},
   "source": [
    "**2.3 Print out and interpret the logistic regression coefficients for  `best_predictor` from both the simple logistic and multiple logistic regression models from the previous two parts.  Do they agree or disagree?  What does this indicate?**"
   ]
  },
  {
   "cell_type": "code",
   "execution_count": 18,
   "metadata": {},
   "outputs": [
    {
     "name": "stdout",
     "output_type": "stream",
     "text": [
      "0.3736783930031581\n",
      "0.16167821974070254\n"
     ]
    }
   ],
   "source": [
    "######\n",
    "print(model2_1.coef_[0][0])\n",
    "print(model2_2.coef_[0][X_train.columns.get_loc(best_predictor)])\n",
    "######"
   ]
  },
  {
   "cell_type": "markdown",
   "metadata": {},
   "source": [
    "The value of the regression coefficient from the simple logistic model is less than that of the multiple regression model. The coefficient value shrinking in strength when other predictor are added to the model makes sense because it means that the strength of the relationship between the best_predictor variable and the outcome is weakened when other variables are included in the relationship to predict the outcome."
   ]
  },
  {
   "cell_type": "markdown",
   "metadata": {},
   "source": [
    "**2.4 Now let's use regularization to improve the predictions from the multiple logistic regression model. Specifically, use LASSO-like regularization and 5-fold cross-validation to fit the model on the training set. Report the classification accuracy on both the training and testing set.**"
   ]
  },
  {
   "cell_type": "code",
   "execution_count": 96,
   "metadata": {},
   "outputs": [
    {
     "name": "stdout",
     "output_type": "stream",
     "text": [
      "The classification accuracy for each of the five folds and average accuracy for the training data are respectively [0.92920354 0.92035398 0.92035398 0.88495575 0.83928571]  and  0.8988305941845764  .\n",
      "The classification accuracy for each of the five folds and average accuracy for the test data are respectively [0.84210526 0.78947368 0.81578947 0.83783784 0.86486486]  and  0.8300142247510667  .\n"
     ]
    }
   ],
   "source": [
    "######\n",
    "model2_4 = LogisticRegressionCV(cv=5, penalty='l1', solver='liblinear', max_iter=10000)\n",
    "train_results2_4 = cross_val_score(model2_4, X_train, y_train, cv=KFold(5))\n",
    "test_results2_4 = cross_val_score(model2_4, X_test, y_test, cv=KFold(5))\n",
    "\n",
    "print(\"The classification accuracy for each of the five folds and average accuracy for the training data are respectively\", train_results2_4, ' and ',\\\n",
    "      train_results2_4.mean(), \" .\")\n",
    "print(\"The classification accuracy for each of the five folds and average accuracy for the test data are respectively\", test_results2_4, ' and ',\\\n",
    "      test_results2_4.mean(), \" .\")\n",
    "\n",
    "\n",
    "# ######"
   ]
  },
  {
   "cell_type": "code",
   "execution_count": null,
   "metadata": {},
   "outputs": [],
   "source": [
    "ypredict_regular = model2_4.predict(X_train)\n",
    "ypredict_regular_test = model2.predict(X_test)\n",
    "\n",
    "print(\"Training Data Accuracy Score:\", metrics.accuracy_score(y_train, ypredict_regular))\n",
    "print(\"Testing Data Accuracy Score:\", metrics.accuracy_score(y_test, ypredict_regular_test))"
   ]
  },
  {
   "cell_type": "markdown",
   "metadata": {},
   "source": [
    "**2.5 How many predictors are considered as important features in this regularized model?  What does that say about the full logistic regression model in problem 2.2?**\n"
   ]
  },
  {
   "cell_type": "code",
   "execution_count": 20,
   "metadata": {},
   "outputs": [
    {
     "name": "stdout",
     "output_type": "stream",
     "text": [
      "0.8670212765957447\n",
      "79  number of predictors are considered important features in this regularized model.\n"
     ]
    }
   ],
   "source": [
    "######\n",
    "yhat2_4 = model2_4.fit(X_train, y_train).predict(X_test)\n",
    "print(metrics.accuracy_score(y_test, yhat2_4))\n",
    "coefs2_5 = model2_4.fit(X_train, y_train).coef_[0]\n",
    "count = 0\n",
    "for i in range(len(coefs2_5)):\n",
    "    if coefs2_5[i] > 0:\n",
    "        count += 1\n",
    "    elif coefs2_5[i] < 0:\n",
    "        count += 1\n",
    "\n",
    "print(count, \" number of predictors are considered important features in this regularized model.\")\n",
    "######"
   ]
  },
  {
   "cell_type": "markdown",
   "metadata": {},
   "source": [
    "There are far fewer predictors included in this model as important features relative to the full logistic regression model in 2.2. This difference indicates that the model in 2.2 is very likely overfitting to the training set data relative to the test set difference relative to to the regularized model. This hypothesis is confirmed by the greater classification accuracy in the 2.4 model compared to the 2.2 model."
   ]
  },
  {
   "cell_type": "markdown",
   "metadata": {},
   "source": [
    "---"
   ]
  },
  {
   "cell_type": "markdown",
   "metadata": {},
   "source": [
    "<div class='exercise'> <b> Question 3 [10pts]: $k$-NN Classification </b> </div>"
   ]
  },
  {
   "cell_type": "markdown",
   "metadata": {},
   "source": [
    "**3.1** Use 5-fold cross-validation to select $k$ for a $k$-NN classification model based on the full predictor set.  Choose between `ks = [1,3,5,7,10,15,20,50,100]`. \n",
    "\n",
    "**3.2** Provide the confusion matrix for 3 models: (i) the full multiple logistic regression model from 2.2, (ii) the best regularized model from 2.5, and (iii) the best $k$-NN from the previous part. Report the false positive and false negative rates (all in the test set).  Briefly interpret what you notice."
   ]
  },
  {
   "cell_type": "markdown",
   "metadata": {},
   "source": [
    "\n",
    "### Answers"
   ]
  },
  {
   "cell_type": "markdown",
   "metadata": {},
   "source": [
    "**3.1 Use 5-fold cross-validation to select $k$ for a $k$-NN classification model based on the full predictor set.  Choose between `ks = [1,3,5,7,10,15,20,50,100]`.  Report your chosen $k$, and report the misclassification rate on both the train and test sets for the model using your chosen $k$.**"
   ]
  },
  {
   "cell_type": "code",
   "execution_count": 52,
   "metadata": {},
   "outputs": [
    {
     "name": "stdout",
     "output_type": "stream",
     "text": [
      "The k with the greatest classification accuracy is: 3\n"
     ]
    }
   ],
   "source": [
    "######\n",
    "ks = [1,3,5,7,10,15,20,50,100]\n",
    "k_dict = {}\n",
    "model_scores = []\n",
    "for k in ks:\n",
    "    knn = KNeighborsClassifier(n_neighbors=k).fit(X_train, y_train)\n",
    "    scores = cross_val_score(knn, X_train, y_train, cv=5, scoring='accuracy').mean()\n",
    "    model_scores.append(scores)\n",
    "    k_dict[k] = scores\n",
    "\n",
    "best_k = max(k_dict, key=k_dict.get)\n",
    "print(\"The k with the greatest classification accuracy is:\", best_k)\n",
    "######"
   ]
  },
  {
   "cell_type": "code",
   "execution_count": 51,
   "metadata": {},
   "outputs": [
    {
     "name": "stdout",
     "output_type": "stream",
     "text": [
      "The misclassification rate on the training data is:  0.08333333333333337\n",
      "The misclassification rate on the test data is:  0.16489361702127658\n"
     ]
    }
   ],
   "source": [
    "best_knn = KNeighborsClassifier(n_neighbors=best_k).fit(X_train, y_train)\n",
    "yhat_train3_1 = best_knn.predict(X_train)\n",
    "yhat_test3_1 = best_knn.predict(X_test)\n",
    "\n",
    "\n",
    "print(\"The misclassification rate on the training data is: \", 1-metrics.accuracy_score(y_train, yhat_train3_1))\n",
    "print(\"The misclassification rate on the test data is: \", 1-metrics.accuracy_score(y_test, yhat_test3_1))"
   ]
  },
  {
   "cell_type": "markdown",
   "metadata": {},
   "source": [
    "**3.2 Provide the confusion matrix for 3 models: (i) the full multiple logistic regression model from 2.2, (ii) the best regularized model from 2.5, and (iii) the best $k$-NN from the previous part. what are the  false positive and false negative rates in these 3 models (all in the test set)?  Briefly interpret what you notice.**"
   ]
  },
  {
   "cell_type": "code",
   "execution_count": 50,
   "metadata": {
    "scrolled": true
   },
   "outputs": [
    {
     "data": {
      "image/png": "[encoded data removed]",
      "text/plain": [
       "<Figure size 1080x720 with 6 Axes>"
      ]
     },
     "metadata": {},
     "output_type": "display_data"
    }
   ],
   "source": [
    "######\n",
    "multiple_log = metrics.confusion_matrix(y_test, yhat2_1)\n",
    "best_reg = metrics.confusion_matrix(y_test, model2_4.fit(X_train, y_train).predict(X_test))\n",
    "best_knn = metrics.confusion_matrix(y_test, yhat_test3_1)\n",
    "\n",
    "multiple_log_acc = metrics.accuracy_score(y_test, yhat2_1)\n",
    "best_reg_acc = metrics.accuracy_score(y_test, yhat2_4)\n",
    "best_knn_acc = metrics.accuracy_score(y_test, yhat_test3_1)\n",
    "\n",
    "plt.figure(figsize=(15,10))\n",
    "           \n",
    "plt.subplot(1, 3, 1)\n",
    "sns.heatmap(multiple_log, annot=True, square = True, cmap = 'YlGnBu', linewidths=.5);\n",
    "plt.ylabel('True Cancer Type');\n",
    "plt.xlabel('Predicted Cancer Type');\n",
    "plt.title('Full Multiple Logistic \\n Regression Model \\n Accuracy Score: ' + str(format(round(multiple_log_acc, 3))), size = 15)\n",
    "\n",
    "plt.subplot(1, 3, 2)\n",
    "sns.heatmap(best_reg, annot=True, square = True, cmap = 'Reds_r', linewidths=.5);\n",
    "plt.ylabel('True Cancer Type');\n",
    "plt.xlabel('Predicted Cancer Type');\n",
    "plt.title('Best Regularized Model \\n Accuracy Score: ' + str(format(round(best_reg_acc, 3))), size = 14)\n",
    "\n",
    "plt.subplot(1, 3, 3)\n",
    "sns.heatmap(best_knn, annot=True, square = True, linewidths=.5);\n",
    "plt.ylabel('True Cancer Type');\n",
    "plt.xlabel('Predicted Cancer Type');\n",
    "plt.title('KNN Model \\n Accuracy Score: ' + str(format(round(best_knn_acc, 3))), size = 14)\n",
    "\n",
    "plt.show()\n",
    "######"
   ]
  },
  {
   "cell_type": "markdown",
   "metadata": {},
   "source": [
    "The full multiple logistic regression model has a high degree of incorrect AML diagnoses, where the model predicts that a patients has ALL, when in fact they have AML. Unlike the high degree of false negatives (predicting 0 when the true type is 1) shown in the mulitple logistic model, the regularized lasso model and KNN classification model do a much better job of accurately assessing AML diagnoses (predicting 1 accurately). However, the multiple logistic model has slighly fewer false positives (predicting 1 when the true type is 0), inaccurately predicting that a patient has AML when they in fact have ALL less often than the latter two models."
   ]
  },
  {
   "cell_type": "markdown",
   "metadata": {},
   "source": [
    "---"
   ]
  },
  {
   "cell_type": "markdown",
   "metadata": {},
   "source": [
    "#### <div class='exercise'><b> Question 4 [15 pts]: Performing Principal Components Analysis </b></div>"
   ]
  },
  {
   "cell_type": "markdown",
   "metadata": {},
   "source": [
    "**4.1** Create the full PCA decomposition of `X_train` and apply the transformation to both `X_train` and `X_test`.  Report the shape of both of these.  What is the limiting factor for the maximum number of PCA components for this data set? \n",
    "\n",
    "*Hint: be sure to standardize before performing PCA.\n",
    "\n",
    "**4.2** PCA is often solely used to help in visualizing high-dimensional problems.  Plot the scatterplot of the second PCA vector of train on the $Y$-axis and the first PCA vector of train on the $X$-axis (be sure to denote the classes via different colors and markings).  In 2-3 sentences, explain why using the scatterplot of the top 2 PCA vectors is a useful approach to visualize a high dimensional classification problem.\n",
    "\n",
    "**4.3** Determine and report the variance explained in `X_train` based on the top 2 PCA vectors.  Determine and report how many PCA vectors are needed so that 90\\% of the variability in the predictors is explained, and create a plot to illustrate this result (Hint: look at cumulative explained variability vs. number of PCA components used).  Select a reasonable value for the number of components that balances representativeness (of the predictors) with parsimony. \n"
   ]
  },
  {
   "cell_type": "markdown",
   "metadata": {},
   "source": [
    "\n",
    "### Answers"
   ]
  },
  {
   "cell_type": "markdown",
   "metadata": {},
   "source": [
    "**4.1 Create the full PCA decomposition of X_train and apply the transformation to both X_train and X_test. Report the shape of both of these. What is the limiting factor for the maximum number of PCA components for this data set?**"
   ]
  },
  {
   "cell_type": "code",
   "execution_count": 49,
   "metadata": {},
   "outputs": [
    {
     "name": "stdout",
     "output_type": "stream",
     "text": [
      "(564, 564)\n",
      "(188, 564)\n"
     ]
    }
   ],
   "source": [
    "######\n",
    "pca = PCA().fit(X_train)\n",
    "x_train_pca = pca.transform(X_train)\n",
    "x_test_pca = pca.transform(X_test)\n",
    "\n",
    "print(x_train_pca.shape)\n",
    "print(x_test_pca.shape)\n",
    "######"
   ]
  },
  {
   "cell_type": "markdown",
   "metadata": {},
   "source": [
    "The limiting factor is the number of observations from the X_train dataset that the PCA decomposition was fitted to."
   ]
  },
  {
   "cell_type": "markdown",
   "metadata": {},
   "source": [
    "**4.2 PCA is often solely used to help in visualizing high-dimensional problems. Plot the scatterplot of the second PCA vector on the  𝑌 -axis and the first PCA vector on the  𝑋 -axis (be sure to denote the classes via different color/markings). In 2-3 sentences, explain why using the scatterplot of the top 2 PCA vectors is a useful approach to visualize a high dimensional classification problem.**"
   ]
  },
  {
   "cell_type": "code",
   "execution_count": 25,
   "metadata": {},
   "outputs": [
    {
     "data": {
      "image/png": "[encoded data removed]",
      "text/plain": [
       "<Figure size 432x288 with 1 Axes>"
      ]
     },
     "metadata": {},
     "output_type": "display_data"
    }
   ],
   "source": [
    "plt.scatter(x_train_pca[0,:][y_train == 1],x_train_pca[1,:][y_train == 1])\n",
    "plt.scatter(x_train_pca[0,:][y_train == 0],x_train_pca[1,:][y_train == 0])\n",
    "plt.legend([\"AML\",\"ALL\"])\n",
    "plt.xlabel(\"First PCA Component Vector\")\n",
    "plt.ylabel(\"Second PCA Component Vector\")\n",
    "plt.title(\"Second PCA Component Vector vs. First PCA Component Vector\")\n",
    "plt.show()"
   ]
  },
  {
   "cell_type": "markdown",
   "metadata": {},
   "source": [
    "The top 2 PCA components are the two orthogonal linear combinations of the original predictors, which capture the greatest degree of variance in the dataset. When there is a high dimensional classification problem, PCA allows us to reduce dimensionality by reorganizing the original predictors into a 2D space."
   ]
  },
  {
   "cell_type": "markdown",
   "metadata": {},
   "source": [
    "**4.3 Determine and report the variance explained in `X_train` based on the top 2 PCA vectors.  Determine and report how many PCA vectors are needed so that 90\\% of the variability in the predictors is explained, and create a plot to illustrate this result (Hint: look at cumulative explained variability vs. number of PCA components used).  Select a reasonable value for the number of components that balances representativeness (of the predictors) with parsimony. **"
   ]
  },
  {
   "cell_type": "code",
   "execution_count": 48,
   "metadata": {},
   "outputs": [
    {
     "name": "stdout",
     "output_type": "stream",
     "text": [
      "Variance explained by the top 2 PCA vectors: 0.1145437357522262\n",
      "223 PCA vectors are needed so that 90% of the variability in the dataset is explained.\n"
     ]
    },
    {
     "data": {
      "image/png": "[encoded data removed]",
      "text/plain": [
       "<Figure size 720x432 with 1 Axes>"
      ]
     },
     "metadata": {},
     "output_type": "display_data"
    }
   ],
   "source": [
    "######\n",
    "print('Variance explained by the top 2 PCA vectors:', pca.explained_variance_ratio_[0] +  pca.explained_variance_ratio_[1])\n",
    "variance = 0\n",
    "for i in range(len(pca.explained_variance_ratio_)):\n",
    "    variance = variance + pca.explained_variance_ratio_[i]\n",
    "    if variance >= 0.9:\n",
    "        print(i + 1, 'PCA vectors are needed so that 90% of the variability in the dataset is explained.')\n",
    "        break\n",
    "\n",
    "cum_var = np.cumsum(pca.explained_variance_ratio_)\n",
    "\n",
    "plt.figure(figsize=(10,6))\n",
    "plt.scatter(np.arange(len(np.cumsum(cum_var))), cum_var)\n",
    "plt.xlabel(\"Number of PCA Vectors Included\")\n",
    "plt.ylabel(\"Total Variance Captured\")\n",
    "plt.title(\"Variance Explained by PCA Vectors\")\n",
    "plt.show()\n",
    "######"
   ]
  },
  {
   "cell_type": "markdown",
   "metadata": {},
   "source": [
    "As calculated and shown by the graph above, 223 PCA vectors are needed to explain 90% of the variability in the dataset. However, if we want to balance representativeness (of the predictors) with parsimony, we should find the bend or elbow in the graph above, which occurs at the inclusion of approximately 100 PCA vectors. "
   ]
  },
  {
   "cell_type": "markdown",
   "metadata": {},
   "source": [
    "---"
   ]
  },
  {
   "cell_type": "markdown",
   "metadata": {},
   "source": [
    "<div class='exercise'><b> Question 5 [10 pts]: Principal Components Regression (PCR) </b></div>\n",
    "\n",
    "**5.1** Fit three separate Logistic Regression models using principal components as the predictors: (1) with just the first 2 PCA vectors, (2) with the number of component vectors you chose from 5.4 above, and (3) with the number of components that explain at least 90% of the variability in the predictor set. How do the classification accuracy values on both the training and test sets compare with these models?\n",
    "\n",
    "**5.2** Use cross-validation to determine the best number of principal components. Try out the 3 values from the previous sub-part and optionally include other values as well. For the best performing model according to cross-validation, interpret what the model says about the relationship between `best_predictor` and `Cancer_type`.\n"
   ]
  },
  {
   "cell_type": "markdown",
   "metadata": {},
   "source": [
    "\n",
    "### Answers"
   ]
  },
  {
   "cell_type": "markdown",
   "metadata": {},
   "source": [
    "**5.1 Fit three separate Logistic Regression models using principal components as the predictors: (1) with just the first 2 PCA vectors, (2) with the number of component vectors you chose from 5.4 above, and (3) with the number of components that explain at least 90% of the variability in the predictor set. How do the classification accuracy values on both the training and test sets compare with these models?**"
   ]
  },
  {
   "cell_type": "code",
   "execution_count": 66,
   "metadata": {},
   "outputs": [
    {
     "data": {
      "text/html": [
       "<div>\n",
       "<style scoped>\n",
       "    .dataframe tbody tr th:only-of-type {\n",
       "        vertical-align: middle;\n",
       "    }\n",
       "\n",
       "    .dataframe tbody tr th {\n",
       "        vertical-align: top;\n",
       "    }\n",
       "\n",
       "    .dataframe thead th {\n",
       "        text-align: right;\n",
       "    }\n",
       "</style>\n",
       "<table border=\"1\" class=\"dataframe\">\n",
       "  <thead>\n",
       "    <tr style=\"text-align: right;\">\n",
       "      <th></th>\n",
       "      <th>PCA</th>\n",
       "      <th>Train Accuracy</th>\n",
       "      <th>Test Accuracy</th>\n",
       "    </tr>\n",
       "  </thead>\n",
       "  <tbody>\n",
       "    <tr>\n",
       "      <th>0</th>\n",
       "      <td>2.0</td>\n",
       "      <td>0.774823</td>\n",
       "      <td>0.750000</td>\n",
       "    </tr>\n",
       "    <tr>\n",
       "      <th>1</th>\n",
       "      <td>100.0</td>\n",
       "      <td>0.914894</td>\n",
       "      <td>0.851064</td>\n",
       "    </tr>\n",
       "    <tr>\n",
       "      <th>2</th>\n",
       "      <td>223.0</td>\n",
       "      <td>1.000000</td>\n",
       "      <td>0.771277</td>\n",
       "    </tr>\n",
       "  </tbody>\n",
       "</table>\n",
       "</div>"
      ],
      "text/plain": [
       "     PCA  Train Accuracy  Test Accuracy\n",
       "0    2.0        0.774823       0.750000\n",
       "1  100.0        0.914894       0.851064\n",
       "2  223.0        1.000000       0.771277"
      ]
     },
     "execution_count": 66,
     "metadata": {},
     "output_type": "execute_result"
    }
   ],
   "source": [
    "######\n",
    "pcaXdf = pd.DataFrame(x_train_pca)\n",
    "pcaXdf_test = pd.DataFrame(x_test_pca)\n",
    "num_components = [2, 100, 223]\n",
    "pc_df = pd.DataFrame(columns = ['PCA', \"Train Accuracy\", 'Test Accuracy'])\n",
    "\n",
    "for n in num_components:\n",
    "    pcaX_train = pcaXdf.iloc[:, :n]\n",
    "    pcaX_test = pcaXdf_test.iloc[:, :n]\n",
    "    logit_pcr = LogisticRegression(C=1000000,solver=\"lbfgs\", max_iter = 10000, fit_intercept=True).fit(pcaX_train,y_train)\n",
    "    train_accuracy = logit_pcr.score(pcaX_train,y_train)\n",
    "    test_accuracy = logit_pcr.score(pcaX_test,y_test)\n",
    "    pc_df = pc_df.append({\"PCA\": int(n), \"Train Accuracy\": train_accuracy, \"Test Accuracy\": test_accuracy}, ignore_index=True)\n",
    "\n",
    "pc_df\n",
    "######"
   ]
  },
  {
   "cell_type": "markdown",
   "metadata": {},
   "source": [
    "The logistric classification accuracy for 2 PCA components yields low training and testing accuracy due to underfitting wherease 223 PCA components overfit the data giving accuracy equals to 1. From our table, we can see that the logistic regression including 100 PCA components has the highest classification accuracy on the test set. This confirms our initial hypothesis that 100 PCA components is the optimal number of vectors to select in order to balance representativeness and parsimony."
   ]
  },
  {
   "cell_type": "markdown",
   "metadata": {},
   "source": [
    "**5.2 Use cross-validation to determine the best number of principal components. Try out the 3 values from the previous sub-part and optionally include other values as well. For the best performing model according to cross-validation, interpret what the model says about the relationship between your `best_predictor` and `Cancer_type`**."
   ]
  },
  {
   "cell_type": "code",
   "execution_count": 76,
   "metadata": {
    "scrolled": false
   },
   "outputs": [
    {
     "data": {
      "text/html": [
       "<div>\n",
       "<style scoped>\n",
       "    .dataframe tbody tr th:only-of-type {\n",
       "        vertical-align: middle;\n",
       "    }\n",
       "\n",
       "    .dataframe tbody tr th {\n",
       "        vertical-align: top;\n",
       "    }\n",
       "\n",
       "    .dataframe thead th {\n",
       "        text-align: right;\n",
       "    }\n",
       "</style>\n",
       "<table border=\"1\" class=\"dataframe\">\n",
       "  <thead>\n",
       "    <tr style=\"text-align: right;\">\n",
       "      <th></th>\n",
       "      <th>PCA</th>\n",
       "      <th>Train Accuracy</th>\n",
       "      <th>Test Accuracy</th>\n",
       "    </tr>\n",
       "  </thead>\n",
       "  <tbody>\n",
       "    <tr>\n",
       "      <th>0</th>\n",
       "      <td>1.0</td>\n",
       "      <td>0.657728</td>\n",
       "      <td>0.692034</td>\n",
       "    </tr>\n",
       "    <tr>\n",
       "      <th>1</th>\n",
       "      <td>2.0</td>\n",
       "      <td>0.771176</td>\n",
       "      <td>0.776529</td>\n",
       "    </tr>\n",
       "    <tr>\n",
       "      <th>2</th>\n",
       "      <td>5.0</td>\n",
       "      <td>0.804915</td>\n",
       "      <td>0.787198</td>\n",
       "    </tr>\n",
       "    <tr>\n",
       "      <th>3</th>\n",
       "      <td>10.0</td>\n",
       "      <td>0.852781</td>\n",
       "      <td>0.829872</td>\n",
       "    </tr>\n",
       "    <tr>\n",
       "      <th>4</th>\n",
       "      <td>20.0</td>\n",
       "      <td>0.893505</td>\n",
       "      <td>0.851209</td>\n",
       "    </tr>\n",
       "    <tr>\n",
       "      <th>5</th>\n",
       "      <td>25.0</td>\n",
       "      <td>0.897045</td>\n",
       "      <td>0.851209</td>\n",
       "    </tr>\n",
       "    <tr>\n",
       "      <th>6</th>\n",
       "      <td>35.0</td>\n",
       "      <td>0.900601</td>\n",
       "      <td>0.845804</td>\n",
       "    </tr>\n",
       "    <tr>\n",
       "      <th>7</th>\n",
       "      <td>50.0</td>\n",
       "      <td>0.897061</td>\n",
       "      <td>0.835135</td>\n",
       "    </tr>\n",
       "    <tr>\n",
       "      <th>8</th>\n",
       "      <td>80.0</td>\n",
       "      <td>0.902370</td>\n",
       "      <td>0.840541</td>\n",
       "    </tr>\n",
       "    <tr>\n",
       "      <th>9</th>\n",
       "      <td>100.0</td>\n",
       "      <td>0.900601</td>\n",
       "      <td>0.840541</td>\n",
       "    </tr>\n",
       "    <tr>\n",
       "      <th>10</th>\n",
       "      <td>175.0</td>\n",
       "      <td>0.902370</td>\n",
       "      <td>0.856472</td>\n",
       "    </tr>\n",
       "    <tr>\n",
       "      <th>11</th>\n",
       "      <td>223.0</td>\n",
       "      <td>0.902370</td>\n",
       "      <td>0.856472</td>\n",
       "    </tr>\n",
       "    <tr>\n",
       "      <th>12</th>\n",
       "      <td>300.0</td>\n",
       "      <td>0.902370</td>\n",
       "      <td>0.840541</td>\n",
       "    </tr>\n",
       "  </tbody>\n",
       "</table>\n",
       "</div>"
      ],
      "text/plain": [
       "      PCA  Train Accuracy  Test Accuracy\n",
       "0     1.0        0.657728       0.692034\n",
       "1     2.0        0.771176       0.776529\n",
       "2     5.0        0.804915       0.787198\n",
       "3    10.0        0.852781       0.829872\n",
       "4    20.0        0.893505       0.851209\n",
       "5    25.0        0.897045       0.851209\n",
       "6    35.0        0.900601       0.845804\n",
       "7    50.0        0.897061       0.835135\n",
       "8    80.0        0.902370       0.840541\n",
       "9   100.0        0.900601       0.840541\n",
       "10  175.0        0.902370       0.856472\n",
       "11  223.0        0.902370       0.856472\n",
       "12  300.0        0.902370       0.840541"
      ]
     },
     "execution_count": 76,
     "metadata": {},
     "output_type": "execute_result"
    }
   ],
   "source": [
    "######\n",
    "num_components = [1, 2, 5, 10, 20, 25, 35, 50, 80, 100, 175, 223, 300]\n",
    "pc_df = pd.DataFrame(columns = ['PCA', \"Train Accuracy\", 'Test Accuracy'])\n",
    "np.random.seed(10)\n",
    "for n in num_components:\n",
    "    pca_transformer = PCA(n).fit(X_train)\n",
    "    X_train_pca = pca_transformer.transform(X_train)\n",
    "    X_test_pca =  pca_transformer.transform(X_test)\n",
    "    \n",
    "    logit3 = LogisticRegressionCV(cv = 5, solver='liblinear', max_iter=10000).fit(X_train_pca, y_train)\n",
    "    train_results = cross_val_score(logit3, X_train_pca, y_train, cv=KFold(5)).mean()\n",
    "    test_results = cross_val_score(logit3, X_test_pca, y_test, cv=KFold(5)).mean()\n",
    "    \n",
    "    pc_df = pc_df.append({\"PCA\": int(n), \"Train Accuracy\": train_results, \"Test Accuracy\": test_results}, ignore_index=True)\n",
    "\n",
    "#display table\n",
    "pc_df\n",
    "######"
   ]
  },
  {
   "cell_type": "code",
   "execution_count": 102,
   "metadata": {},
   "outputs": [],
   "source": [
    "#Eye-balling best model to be PCA 20\n",
    "pca = PCA(n_components = 20).fit(X_train)\n",
    "X_train_pca = pca_transformer.transform(X_train)\n",
    "X_test_pca =  pca_transformer.transform(X_test)\n",
    "logit20 = LogisticRegressionCV(cv=5,solver='liblinear', max_iter=10000).fit(X_train_pca, y_train)\n",
    "\n",
    "#add best model's coef to dict\n",
    "best_model_coef={}\n",
    "\n",
    "for cf, feature in list(zip(logit20.coef_[0], np.array(X_train.columns))):\n",
    "    best_model_coef[feature] = cf\n",
    "    \n",
    "pcr1=(logit20.coef_*np.transpose(pca.components_[0:1,:])).sum(axis=1)\n"
   ]
  },
  {
   "cell_type": "code",
   "execution_count": 101,
   "metadata": {},
   "outputs": [
    {
     "ename": "KeyError",
     "evalue": "'M28825_at'",
     "output_type": "error",
     "traceback": [
      "\u001b[1;31m---------------------------------------------------------------------------\u001b[0m",
      "\u001b[1;31mKeyError\u001b[0m                                  Traceback (most recent call last)",
      "\u001b[1;32m<ipython-input-101-f28dbec89684>\u001b[0m in \u001b[0;36m<module>\u001b[1;34m\u001b[0m\n\u001b[0;32m      1\u001b[0m \u001b[0mpcr1\u001b[0m\u001b[1;33m[\u001b[0m\u001b[1;36m0\u001b[0m\u001b[1;33m]\u001b[0m\u001b[1;33m\u001b[0m\u001b[1;33m\u001b[0m\u001b[0m\n\u001b[0;32m      2\u001b[0m \u001b[1;31m# # len(best_model_coef)\u001b[0m\u001b[1;33m\u001b[0m\u001b[1;33m\u001b[0m\u001b[1;33m\u001b[0m\u001b[0m\n\u001b[1;32m----> 3\u001b[1;33m \u001b[0mprint\u001b[0m\u001b[1;33m(\u001b[0m\u001b[0mbest_model_coef\u001b[0m\u001b[1;33m[\u001b[0m\u001b[0mbest_predictor\u001b[0m\u001b[1;33m]\u001b[0m\u001b[1;33m)\u001b[0m\u001b[1;33m\u001b[0m\u001b[1;33m\u001b[0m\u001b[0m\n\u001b[0m",
      "\u001b[1;31mKeyError\u001b[0m: 'M28825_at'"
     ]
    }
   ],
   "source": [
    "pcr1[0]\n",
    "\n",
    "print(best_model_coef[best_predictor])"
   ]
  },
  {
   "cell_type": "markdown",
   "metadata": {},
   "source": [
    "From what I understand we have: log odds = beta_0 + beta_1(PC1) + beta_2(PC2) + … + beta_n(PCn). Then we want to take the linear combination coefficients of the original predictors that make up each of the principle components (via .components_) and then substitute them into that equation where X1, X2, X3 are original predictors. We choose the PCA 20 with the best testing accuracy across the different models. The best PCA model provides a classification accuracy of around 85%, while the regressing on the best predictor alone result in a classification accuracy of 54%. The best predictor alone accounts for only a small fraction of the prediction that is improved upon a random guess rate of 50%. This indicates that additional information is correlated with the best predictor or not useful prediction itself."
   ]
  },
  {
   "cell_type": "markdown",
   "metadata": {},
   "source": [
    "Since the number of PCA components used to fit a model is much like the number of predictors used to fit a model, it is clear that only one predictor is insufficient to have a . We want to parsimoniously choose the number of PCA components we use because we can also run into overfitting/underfitting issues when using PCA components. "
   ]
  },
  {
   "cell_type": "markdown",
   "metadata": {},
   "source": [
    "<div class='exercise'><b> Question 6 [20 pts]: Tree-Based Methods </b></div>\n",
    "\n",
    "**6.1** Fit a decision tree model to the training set. Choose a range of tree depths from 1 to 10 and evaluate the  performance and standard deviations for each depth using 5-fold cross-validation. Plot the estimated mean +/- 2 standard deviations for each depth. Select an appropriate depth and justify your choice using your cross-validation estimates. Then report the classification accuracy on the **test set**. \n",
    "\n",
    "**6.2**  Fit a Bagged Classifier using  `RandomForestClassifier` to the original `X_train` data using 10 as the max depth and 50 trees. Evaluate its accuracy on the test set and assign it to a variable name `bagging_test_score`.\n",
    "\n",
    "Hint: the number of features to consider when looking for the best split should be equal to the number of features. \n",
    "\n",
    "**6.3**  Fit a Random Forest Classifier using  `RandomForestClassifier` to the original `X_train` data using 200 as the max depth and 50 trees. Use number of features to consider when looking for the best split to be the `sqrt(total_number of features)` (not the default). Evaluate its accuracy on the test set and assign it to a variable name `random_forest_test_score`.\n",
    "\n",
    "**6.4** Among all of the decision trees fit in the bagging process, how many times is each feature used as the top/first node? How about for each tree in the random forest you just fit? What about the process of training the Random Forest causes this difference? What implication does this observation have on the accuracy of bagging vs Random Forest?\n",
    "\n",
    "**Hint**: A decision tree's top feature is stored in `model.tree_.feature[0]`. A random forest object stores its decision trees in its `.estimators_` attribute.\n",
    "\n",
    "**Note:** No tuning was done here to simplify the approach (it should be done in a real life application)."
   ]
  },
  {
   "cell_type": "markdown",
   "metadata": {},
   "source": [
    "### Answers"
   ]
  },
  {
   "cell_type": "markdown",
   "metadata": {},
   "source": [
    "**6.1 Fit a decision tree model to the training set. Choose a range of tree depths from 1 to 10 and evaluate the  performance and standard deviations for each depth using 5-fold cross-validation. Plot the estimated mean +/- 2 standard deviations for each depth. Select an appropriate depth and justify your choice using your cross-validation estimates. Then report the classification accuracy on the test set**. "
   ]
  },
  {
   "cell_type": "code",
   "execution_count": 30,
   "metadata": {},
   "outputs": [],
   "source": [
    "######\n",
    "depths = list(range(1, 11))\n",
    "train_scores = []\n",
    "cvmeans = []\n",
    "cvstds = []\n",
    "cv_scores = []\n",
    "for depth in depths:\n",
    "    dtree = DecisionTreeClassifier(max_depth=depth)\n",
    "    # Perform 5-fold cross validation and store results\n",
    "    train_scores.append(dtree.fit(X_train, y_train).score(X_train, y_train))\n",
    "    scores = cross_val_score(estimator=dtree, X=X_train, y=y_train, cv=5)\n",
    "    cvmeans.append(scores.mean())\n",
    "    cvstds.append(scores.std())\n",
    "\n",
    "cvmeans = np.array(cvmeans)\n",
    "cvstds = np.array(cvstds)\n",
    "######"
   ]
  },
  {
   "cell_type": "code",
   "execution_count": 31,
   "metadata": {},
   "outputs": [
    {
     "data": {
      "image/png": "[encoded data removed]",
      "text/plain": [
       "<Figure size 432x288 with 1 Axes>"
      ]
     },
     "metadata": {},
     "output_type": "display_data"
    }
   ],
   "source": [
    "######\n",
    "plt.plot(depths, cvmeans, '*-', label=\"Mean CV\")\n",
    "plt.fill_between(depths, cvmeans - 2*cvstds, cvmeans + 2*cvstds, alpha=0.3)\n",
    "ylim = plt.ylim()\n",
    "plt.plot(depths, train_scores, '-+', label=\"Train\")\n",
    "plt.legend()\n",
    "plt.ylabel(\"Accuracy\")\n",
    "plt.xlabel(\"Max Depth\")\n",
    "plt.xticks(depths);\n",
    "######"
   ]
  },
  {
   "cell_type": "code",
   "execution_count": 33,
   "metadata": {},
   "outputs": [
    {
     "name": "stdout",
     "output_type": "stream",
     "text": [
      "The classification accuracy on the test set is: 0.7446808510638298\n"
     ]
    }
   ],
   "source": [
    "best_dtree = DecisionTreeClassifier(max_depth=4).fit(X_train, y_train)\n",
    "print('The classification accuracy on the test set is:', best_dtree.score(X_test, y_test))"
   ]
  },
  {
   "cell_type": "markdown",
   "metadata": {},
   "source": [
    "As seen in the graph above, $R^2$ on the training set increases and approaches 1 as max_depth increases. On the other hand $R^2$ on the test set reaches its peak at a max_depth of 4. To balance representativeness of the predictors with parsimony and to prevent overfitting, I would choose a max_depth of 4."
   ]
  },
  {
   "cell_type": "markdown",
   "metadata": {},
   "source": [
    "**6.2  Fit a Bagged Classifier using  `RandomForestClassifier` to the original `X_train` data using 10 as the max depth and 50 trees. Evaluate its accuracy on the test set and assign it to a variable name `bagging_test_score`.**"
   ]
  },
  {
   "cell_type": "code",
   "execution_count": 41,
   "metadata": {},
   "outputs": [],
   "source": [
    "# get original data\n",
    "np.random.seed(10)\n",
    "df = pd.read_csv('data/genomic_data.csv', index_col=0)\n",
    "X_train_og, X_test_og, y_train_og, y_test_og = train_test_split(df.loc[:, df.columns != 'Cancer_type'], \n",
    "                                                         df.Cancer_type, test_size=0.25, \n",
    "                                                         random_state = 109, \n",
    "                                                         stratify = df.Cancer_type)"
   ]
  },
  {
   "cell_type": "code",
   "execution_count": 42,
   "metadata": {},
   "outputs": [
    {
     "name": "stdout",
     "output_type": "stream",
     "text": [
      "Accuracy score of the most frequent occurence in the trees: 0.723404255319149\n"
     ]
    }
   ],
   "source": [
    "######\n",
    "from sklearn.utils import resample\n",
    "\n",
    "ntrees = 50\n",
    "estimators = []\n",
    "trees = []\n",
    "y_hats_test = np.zeros((X_test_og.shape[0], ntrees))\n",
    "\n",
    "for i in range(ntrees):\n",
    "    simpletree = DecisionTreeClassifier(max_depth=10)\n",
    "    trees.append(simpletree)\n",
    "    boot_x, boot_y = resample(X_train_og, y_train)\n",
    "    estimators = np.append(estimators,simpletree.fit(boot_x, boot_y))\n",
    "    y_hats_test[:,i] = simpletree.predict(X_test_og)\n",
    "    bagging_test_score = accuracy_score(y_test, simpletree.predict(X_test_og))\n",
    "\n",
    "print(\"Accuracy score of the most frequent occurence in the trees:\", bagging_test_score)\n",
    "######"
   ]
  },
  {
   "cell_type": "markdown",
   "metadata": {},
   "source": [
    "**6.3  Fit a Random Forest Classifier using  `RandomForestClassifier` to the original `X_train` data using 200 as the max depth and 50 trees. Use number of features to consider when looking for the best split to be the `sqrt(total_number of features)` (not the default). Evaluate its accuracy on the test set and assign it to a variable name `random_forest_test_score`.**\n",
    "\n"
   ]
  },
  {
   "cell_type": "code",
   "execution_count": 43,
   "metadata": {},
   "outputs": [
    {
     "data": {
      "text/plain": [
       "0.851063829787234"
      ]
     },
     "execution_count": 43,
     "metadata": {},
     "output_type": "execute_result"
    }
   ],
   "source": [
    "######\n",
    "np.random.seed(40)\n",
    "rf6_3 = RandomForestClassifier(n_estimators=50, max_depth=200, max_features='sqrt').fit(X_train_og, y_train)\n",
    "random_forest_test_score = accuracy_score(y_test,rf6_3.predict(X_test_og))\n",
    "random_forest_test_score\n",
    "############"
   ]
  },
  {
   "cell_type": "markdown",
   "metadata": {},
   "source": [
    "**6.4 Among all of the decision trees fit in the bagging process, how many times is each feature used as the top/first node? How about for each tree in the random forest you just fit? What about the process of training the Random Forest causes this difference? What implication does this observation have on the accuracy of bagging vs Random Forest?**"
   ]
  },
  {
   "cell_type": "code",
   "execution_count": 44,
   "metadata": {},
   "outputs": [
    {
     "name": "stdout",
     "output_type": "stream",
     "text": [
      "Times is each feature used as the top/first node in Bagged Trees:\n",
      "2287  -   34 times\n",
      "3319  -   2 times\n",
      "4365  -   2 times\n",
      "4846  -   9 times\n",
      "6538  -   1 times\n",
      "6854  -   2 times\n",
      "Times is each feature used as the top/first node in Random Forest:\n",
      "247  -   1 times\n",
      "342  -   1 times\n",
      "460  -   1 times\n",
      "657  -   1 times\n",
      "696  -   1 times\n",
      "757  -   1 times\n",
      "1092  -   1 times\n",
      "1124  -   1 times\n",
      "1295  -   1 times\n",
      "1597  -   1 times\n",
      "1778  -   2 times\n",
      "1833  -   2 times\n",
      "2000  -   1 times\n",
      "2355  -   1 times\n",
      "2362  -   1 times\n",
      "2525  -   1 times\n",
      "2610  -   1 times\n",
      "2738  -   1 times\n",
      "2994  -   1 times\n",
      "3013  -   1 times\n",
      "3251  -   1 times\n",
      "3319  -   1 times\n",
      "3630  -   1 times\n",
      "3673  -   1 times\n",
      "3961  -   1 times\n",
      "4095  -   1 times\n",
      "4195  -   1 times\n",
      "4225  -   1 times\n",
      "4264  -   1 times\n",
      "4342  -   1 times\n",
      "4376  -   1 times\n",
      "4810  -   1 times\n",
      "4858  -   1 times\n",
      "5335  -   1 times\n",
      "5505  -   1 times\n",
      "5509  -   1 times\n",
      "5513  -   1 times\n",
      "5682  -   1 times\n",
      "5771  -   1 times\n",
      "5793  -   1 times\n",
      "5983  -   1 times\n",
      "6040  -   1 times\n",
      "6048  -   1 times\n",
      "6280  -   1 times\n",
      "6377  -   1 times\n",
      "6622  -   2 times\n",
      "6701  -   1 times\n"
     ]
    }
   ],
   "source": [
    "######\n",
    "print('Times is each feature used as the top/first node in Bagged Trees:')\n",
    "first_node_boot = []\n",
    "for tree in trees:\n",
    "    first_node_boot.append(tree.tree_.feature[0])\n",
    "x = np.array(first_node_boot) \n",
    "distinct_nodes = np.unique(x)\n",
    "for dist in distinct_nodes:\n",
    "    print(dist,' -  ', first_node_boot.count(dist), 'times')\n",
    "\n",
    "print('Times is each feature used as the top/first node in Random Forest:')\n",
    "first_node_rf = []\n",
    "for tree in rf6_3.estimators_:\n",
    "    first_node_rf.append(tree.tree_.feature[0])\n",
    "x = np.array(first_node_rf) \n",
    "distinct_nodes = np.unique(x)\n",
    "for dist in distinct_nodes:\n",
    "    print(dist,' -  ', first_node_rf.count(dist), 'times')\n",
    "######"
   ]
  },
  {
   "cell_type": "markdown",
   "metadata": {},
   "source": [
    "The above tables illustrate how often features were selected as the top/first node was twice among the 50 trees for the bagged classifier versus the random tree classifier. For the bagged decision trees, nodes 2287 and 4846 were selected 34 and 13 times respectively, while for random forest decision trees, the most a node was selected is 2 times. This distinction occurs because random forests randomly select a subset of features as nodes. As a result, each individual decision tree produced by random forest is more likely to be independent of each other compared to regular bagging. Due to this difference, random forests usually produce more accurate predictions in addition to being faster than bagging (since each random forest decision tree only learns from a subset of predictors)."
   ]
  },
  {
   "cell_type": "markdown",
   "metadata": {},
   "source": [
    "<div class='exercise'><b> Question 7 [12 pts]: Evaluating Classifiers </b></div>\n",
    "\n",
    "**7.1**: Another way to evaluate models in a classification setting is through an Area-under-the-ROC-Curve (AUC). Briefly explain what the AUC and the ROC are trying to do and how this approach differs from evaluating models based on misclassification rate (as you have done thus far in this problem set).\n",
    "\n",
    "**7.2** Evaluate the 'best' models (best based on test misclassification: if there is a tie, choose the 'simplest' model) from each class of classification models using AUC.  That is calculate AUC for the following models:\n",
    "- the best logistic regression model, whether regularized or not (question 2)\n",
    "- the best $k$-NN model (question 3)\n",
    "- the best PCR model (question 5)\n",
    "- the best tree-based model (question 6)\n",
    "\n",
    "For the model with the best AUC, plot the ROC. Briefly interpret your plot.\n",
    "\n",
    "**7.3** Based on AUC, is there one clear stand-out winner or are a lot of models similar in prediction?  If you were to predict real cancer patients, how would use these models to predict cancer type?"
   ]
  },
  {
   "cell_type": "markdown",
   "metadata": {},
   "source": [
    "### Answers"
   ]
  },
  {
   "cell_type": "markdown",
   "metadata": {},
   "source": [
    "**7.1 Another way to evaluate models in a classification setting is through an Area-under-the-ROC-Curve (AUC). Briefly explain what the AUC and the ROC are trying to do and how this approach differs from evaluating models based on misclassification rate (as you have done thus far in this problem set).**"
   ]
  },
  {
   "cell_type": "markdown",
   "metadata": {},
   "source": [
    "ROC is a probability curve, and Area-under-the-ROC-Curve (AUC) represents how capable a model is of accurately differentiating between the outcome classes. For instance,  Therefore, if the AUC is 1, the model perfectly distinguishes between classes, with a good measure of separability, and if the AUC is 0, the model does a poor job of differentiating between outcome classes. "
   ]
  },
  {
   "cell_type": "markdown",
   "metadata": {},
   "source": [
    "**7.2 use AUC to evaluate the 'best' models (best based on test misclassification: if there is a tie, choose the 'simplest' model) from each class of classification models.  That is calculate AUC for the following models:**\n",
    "- the best logistic regression model, whether regularized or not (question 2)\n",
    "- the best $k$-NN model (question 3)\n",
    "- the best PCR model (question 5)\n",
    "- the best tree-based model (question 6)**\n",
    "\n",
    "**For the model with the best AUC, plot the ROC. Briefly interpret your plot.**\n",
    "\n"
   ]
  },
  {
   "cell_type": "code",
   "execution_count": 53,
   "metadata": {},
   "outputs": [
    {
     "name": "stdout",
     "output_type": "stream",
     "text": [
      "Misclassification for best logistic regression model: 0.21229619565217395\n",
      "Misclassification for best  𝑘 -NN model: 0.1493999094202898\n",
      "Misclassification for best PCR model: 0.1675158514492754\n",
      "Misclassification for best tree-based model: 0.13807744565217395\n"
     ]
    }
   ],
   "source": [
    "######\n",
    "from sklearn.metrics import roc_curve, auc\n",
    "\n",
    "pca_transformer10 = PCA(10).fit(X_train_og)\n",
    "X_train_pca10 = pca_transformer.transform(X_train_og)\n",
    "X_test_pca10 =  pca_transformer.transform(X_test_og)\n",
    "lr10 = LogisticRegression(C=1000000, solver='lbfgs', multi_class='ovr', max_iter=10000).fit(X_train_pca10, y_train)\n",
    "\n",
    "fpr2, tpr2, thresholds2 = roc_curve(y_test, model2_4.predict_proba(X_test_og)[:,1])\n",
    "fpr3, tpr3, thresholds3 = roc_curve(y_test, best_knn.predict_proba(X_test_og)[:,1])\n",
    "fpr5, tpr5, thresholds5 = roc_curve(y_test, lr10.predict_proba(X_test_pca10)[:,1])\n",
    "fpr6, tpr6, thresholds6 = roc_curve(y_test, rf6_3.predict_proba(X_test_og)[:,1])\n",
    "\n",
    "print('Misclassification for best logistic regression model:', 1-auc(fpr2,tpr2))\n",
    "print('Misclassification for best  𝑘 -NN model:', 1-auc(fpr3,tpr3))\n",
    "print('Misclassification for best PCR model:', 1-auc(fpr5,tpr5))\n",
    "print('Misclassification for best tree-based model:', 1-auc(fpr6,tpr6))\n",
    "######\n"
   ]
  },
  {
   "cell_type": "code",
   "execution_count": 57,
   "metadata": {},
   "outputs": [
    {
     "data": {
      "image/png": "[encoded data removed]",
      "text/plain": [
       "<Figure size 432x288 with 1 Axes>"
      ]
     },
     "metadata": {},
     "output_type": "display_data"
    }
   ],
   "source": [
    "x=np.arange(0,100)/100\n",
    "plt.plot(x,x,'--',color=\"gray\",alpha=0.3)\n",
    "plt.plot(fpr6,tpr6,label=\"Random Forest Model\")\n",
    "plt.ylabel(\"True Positive Rate\")\n",
    "plt.xlabel(\"False Positive Rate\")\n",
    "plt.title(\"ROC Curve for Predicting Cancer Type using Random Forest Model\")\n",
    "plt.show()"
   ]
  },
  {
   "cell_type": "markdown",
   "metadata": {},
   "source": [
    "*We can see that at the corner, TPR is about 0.85 and FPR is about 0.12. From this point onward, increasing TPR slightly would result in a high increase in the the False Positive Rate and decreaing FPR results in a high decrease in TPR predicted by our model.*"
   ]
  },
  {
   "cell_type": "markdown",
   "metadata": {},
   "source": [
    "**7.3 Based on AUC, is there one clear stand-out winner or are a lot of models similar in prediction?  If you were to predict real cancer patients, how would use these models to predict cancer type?**"
   ]
  },
  {
   "cell_type": "markdown",
   "metadata": {},
   "source": [
    "*your answer here*\n"
   ]
  },
  {
   "cell_type": "markdown",
   "metadata": {},
   "source": [
    "\n",
    "**Additional Information**\n",
    "\n",
    "Acute Lymphoblastic Leukemia (ALL):\n",
    "- About 98% of children with ALL go into remission within weeks after starting treatment.\n",
    "- About 90% of those children can be cured. Patients are considered cured after 10 years in remission.\n",
    "\n",
    "Acute Myeloid Leukemia (AML):\n",
    "- In general, children with AML are seen as lower risk than adults. \n",
    "- Around 85 to 90 percent of children with AML will go into remission after induction, according to the American Cancer Society. AML will return in some cases.  \n",
    "- The five-year-survival-rate for children with AML is 60 to 70 percent."
   ]
  },
  {
   "cell_type": "markdown",
   "metadata": {},
   "source": [
    "<hr style=\"height:2pt\">"
   ]
  }
 ],
 "metadata": {
  "anaconda-cloud": {},
  "kernelspec": {
   "display_name": "Python 3",
   "language": "python",
   "name": "python3"
  },
  "language_info": {
   "codemirror_mode": {
    "name": "ipython",
    "version": 3
   },
   "file_extension": ".py",
   "mimetype": "text/x-python",
   "name": "python",
   "nbconvert_exporter": "python",
   "pygments_lexer": "ipython3",
   "version": "3.7.6"
  }
 },
 "nbformat": 4,
 "nbformat_minor": 2
}
